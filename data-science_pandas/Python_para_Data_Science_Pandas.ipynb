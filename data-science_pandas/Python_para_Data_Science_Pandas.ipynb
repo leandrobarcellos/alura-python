{
 "cells": [
  {
   "cell_type": "markdown",
   "metadata": {
    "colab_type": "text",
    "id": "W4bTJkJED0-t"
   },
   "source": [
    "# <font color=green> PYTHON PARA DATA SCIENCE - PANDAS\n",
    "---"
   ]
  },
  {
   "cell_type": "markdown",
   "metadata": {
    "colab_type": "text",
    "id": "GOEcCc62D0-x"
   },
   "source": [
    "# <font color=green> 1. INTRODUÇÃO AO PYTHON\n",
    "---"
   ]
  },
  {
   "cell_type": "markdown",
   "metadata": {
    "colab_type": "text",
    "id": "oGvoOJ-XD0-y"
   },
   "source": [
    "# 1.1 Introdução"
   ]
  },
  {
   "cell_type": "markdown",
   "metadata": {
    "colab_type": "text",
    "id": "fam3BM0aD0-z"
   },
   "source": [
    "> Python é uma linguagem de programação de alto nível com suporte a múltiplos paradigmas de programação. É um projeto *open source* e desde seu surgimento, em 1991, vem se tornando uma das linguagens de programação interpretadas mais populares. \n",
    ">\n",
    "> Nos últimos anos Python desenvolveu uma comunidade ativa de processamento científico e análise de dados e vem se destacando como uma das linguagens mais relevantes quando o assundo é ciência de dados e machine learning, tanto no ambiente acadêmico como também no mercado."
   ]
  },
  {
   "cell_type": "markdown",
   "metadata": {
    "colab_type": "text",
    "id": "6kH5DY-vD0-1"
   },
   "source": [
    "# 1.2 Instalação e ambiente de desenvolvimento"
   ]
  },
  {
   "cell_type": "markdown",
   "metadata": {
    "colab_type": "text",
    "id": "BTpm79I2D0-2"
   },
   "source": [
    "### Instalação Local\n",
    "\n",
    "### https://www.python.org/downloads/\n",
    "### ou\n",
    "### https://www.anaconda.com/distribution/"
   ]
  },
  {
   "cell_type": "markdown",
   "metadata": {
    "colab_type": "text",
    "id": "AuPS_XwRD0-3"
   },
   "source": [
    "### Google Colaboratory\n",
    "\n",
    "### https://colab.research.google.com"
   ]
  },
  {
   "cell_type": "markdown",
   "metadata": {
    "colab_type": "text",
    "id": "4rUYsPrXD0-4"
   },
   "source": [
    "### Verificando versão"
   ]
  },
  {
   "cell_type": "code",
   "execution_count": 139,
   "metadata": {
    "colab": {},
    "colab_type": "code",
    "id": "PgTCVRB2D0-5"
   },
   "outputs": [
    {
     "name": "stdout",
     "output_type": "stream",
     "text": [
      "Python 3.10.9\r\n"
     ]
    }
   ],
   "source": [
    "!python3 -V"
   ]
  },
  {
   "cell_type": "markdown",
   "metadata": {
    "colab_type": "text",
    "id": "lTtI6so4D0-9"
   },
   "source": [
    "# 1.3 Trabalhando com dados"
   ]
  },
  {
   "cell_type": "code",
   "execution_count": 140,
   "metadata": {
    "colab": {},
    "colab_type": "code",
    "id": "E_n4FUUWD0-9"
   },
   "outputs": [],
   "source": [
    "import pandas as pd"
   ]
  },
  {
   "cell_type": "code",
   "execution_count": 141,
   "metadata": {
    "pycharm": {
     "name": "#%%\n"
    }
   },
   "outputs": [],
   "source": [
    "dataset = pd.read_csv('data/db.csv', sep=';')"
   ]
  },
  {
   "cell_type": "code",
   "execution_count": 142,
   "metadata": {
    "pycharm": {
     "name": "#%%\n"
    }
   },
   "outputs": [
    {
     "data": {
      "text/plain": "                      Nome                  Motor   Ano  Quilometragem  \\\n0            Jetta Variant        Motor 4.0 Turbo  2003        44410.0   \n1                   Passat           Motor Diesel  1991         5712.0   \n2                 Crossfox        Motor Diesel V8  1990        37123.0   \n3                      DS5        Motor 2.4 Turbo  2019            NaN   \n4         Aston Martin DB4        Motor 2.4 Turbo  2006        25757.0   \n..                     ...                    ...   ...            ...   \n253           Phantom 2013               Motor V8  2014        27505.0   \n254  Cadillac Ciel concept               Motor V8  1991        29981.0   \n255             Classe GLK  Motor 5.0 V8 Bi-Turbo  2002        52637.0   \n256       Aston Martin DB5           Motor Diesel  1996         7685.0   \n257                  Macan        Motor Diesel V6  1992        50188.0   \n\n     Zero_km                                         Acessórios      Valor  \n0      False  ['Rodas de liga', 'Travas elétricas', 'Piloto ...   88078.64  \n1      False  ['Central multimídia', 'Teto panorâmico', 'Fre...  106161.94  \n2      False  ['Piloto automático', 'Controle de estabilidad...   72832.16  \n3       True  ['Travas elétricas', '4 X 4', 'Vidros elétrico...  124549.07  \n4      False  ['Rodas de liga', '4 X 4', 'Central multimídia...   92612.10  \n..       ...                                                ...        ...  \n253    False  ['Controle de estabilidade', 'Piloto automátic...   51759.58  \n254    False  ['Bancos de couro', 'Painel digital', 'Sensor ...   51667.06  \n255    False  ['Rodas de liga', 'Controle de tração', 'Câmbi...   68934.03  \n256    False  ['Ar condicionado', '4 X 4', 'Câmbio automátic...  122110.90  \n257    False  ['Central multimídia', 'Teto panorâmico', 'Vid...   90381.47  \n\n[258 rows x 7 columns]",
      "text/html": "<div>\n<style scoped>\n    .dataframe tbody tr th:only-of-type {\n        vertical-align: middle;\n    }\n\n    .dataframe tbody tr th {\n        vertical-align: top;\n    }\n\n    .dataframe thead th {\n        text-align: right;\n    }\n</style>\n<table border=\"1\" class=\"dataframe\">\n  <thead>\n    <tr style=\"text-align: right;\">\n      <th></th>\n      <th>Nome</th>\n      <th>Motor</th>\n      <th>Ano</th>\n      <th>Quilometragem</th>\n      <th>Zero_km</th>\n      <th>Acessórios</th>\n      <th>Valor</th>\n    </tr>\n  </thead>\n  <tbody>\n    <tr>\n      <th>0</th>\n      <td>Jetta Variant</td>\n      <td>Motor 4.0 Turbo</td>\n      <td>2003</td>\n      <td>44410.0</td>\n      <td>False</td>\n      <td>['Rodas de liga', 'Travas elétricas', 'Piloto ...</td>\n      <td>88078.64</td>\n    </tr>\n    <tr>\n      <th>1</th>\n      <td>Passat</td>\n      <td>Motor Diesel</td>\n      <td>1991</td>\n      <td>5712.0</td>\n      <td>False</td>\n      <td>['Central multimídia', 'Teto panorâmico', 'Fre...</td>\n      <td>106161.94</td>\n    </tr>\n    <tr>\n      <th>2</th>\n      <td>Crossfox</td>\n      <td>Motor Diesel V8</td>\n      <td>1990</td>\n      <td>37123.0</td>\n      <td>False</td>\n      <td>['Piloto automático', 'Controle de estabilidad...</td>\n      <td>72832.16</td>\n    </tr>\n    <tr>\n      <th>3</th>\n      <td>DS5</td>\n      <td>Motor 2.4 Turbo</td>\n      <td>2019</td>\n      <td>NaN</td>\n      <td>True</td>\n      <td>['Travas elétricas', '4 X 4', 'Vidros elétrico...</td>\n      <td>124549.07</td>\n    </tr>\n    <tr>\n      <th>4</th>\n      <td>Aston Martin DB4</td>\n      <td>Motor 2.4 Turbo</td>\n      <td>2006</td>\n      <td>25757.0</td>\n      <td>False</td>\n      <td>['Rodas de liga', '4 X 4', 'Central multimídia...</td>\n      <td>92612.10</td>\n    </tr>\n    <tr>\n      <th>...</th>\n      <td>...</td>\n      <td>...</td>\n      <td>...</td>\n      <td>...</td>\n      <td>...</td>\n      <td>...</td>\n      <td>...</td>\n    </tr>\n    <tr>\n      <th>253</th>\n      <td>Phantom 2013</td>\n      <td>Motor V8</td>\n      <td>2014</td>\n      <td>27505.0</td>\n      <td>False</td>\n      <td>['Controle de estabilidade', 'Piloto automátic...</td>\n      <td>51759.58</td>\n    </tr>\n    <tr>\n      <th>254</th>\n      <td>Cadillac Ciel concept</td>\n      <td>Motor V8</td>\n      <td>1991</td>\n      <td>29981.0</td>\n      <td>False</td>\n      <td>['Bancos de couro', 'Painel digital', 'Sensor ...</td>\n      <td>51667.06</td>\n    </tr>\n    <tr>\n      <th>255</th>\n      <td>Classe GLK</td>\n      <td>Motor 5.0 V8 Bi-Turbo</td>\n      <td>2002</td>\n      <td>52637.0</td>\n      <td>False</td>\n      <td>['Rodas de liga', 'Controle de tração', 'Câmbi...</td>\n      <td>68934.03</td>\n    </tr>\n    <tr>\n      <th>256</th>\n      <td>Aston Martin DB5</td>\n      <td>Motor Diesel</td>\n      <td>1996</td>\n      <td>7685.0</td>\n      <td>False</td>\n      <td>['Ar condicionado', '4 X 4', 'Câmbio automátic...</td>\n      <td>122110.90</td>\n    </tr>\n    <tr>\n      <th>257</th>\n      <td>Macan</td>\n      <td>Motor Diesel V6</td>\n      <td>1992</td>\n      <td>50188.0</td>\n      <td>False</td>\n      <td>['Central multimídia', 'Teto panorâmico', 'Vid...</td>\n      <td>90381.47</td>\n    </tr>\n  </tbody>\n</table>\n<p>258 rows × 7 columns</p>\n</div>"
     },
     "execution_count": 142,
     "metadata": {},
     "output_type": "execute_result"
    }
   ],
   "source": [
    "dataset"
   ]
  },
  {
   "cell_type": "code",
   "execution_count": 143,
   "metadata": {
    "colab": {},
    "colab_type": "code",
    "id": "mOV1rCA6D0_A",
    "scrolled": true
   },
   "outputs": [
    {
     "data": {
      "text/plain": "       Quilometragem          Valor\ncount     197.000000     258.000000\nmean    58278.421320   98960.513101\nstd     35836.733259   29811.932305\nmin       107.000000   50742.100000\n25%     27505.000000   70743.512500\n50%     55083.000000   97724.380000\n75%     90495.000000  124633.302500\nmax    119945.000000  149489.920000",
      "text/html": "<div>\n<style scoped>\n    .dataframe tbody tr th:only-of-type {\n        vertical-align: middle;\n    }\n\n    .dataframe tbody tr th {\n        vertical-align: top;\n    }\n\n    .dataframe thead th {\n        text-align: right;\n    }\n</style>\n<table border=\"1\" class=\"dataframe\">\n  <thead>\n    <tr style=\"text-align: right;\">\n      <th></th>\n      <th>Quilometragem</th>\n      <th>Valor</th>\n    </tr>\n  </thead>\n  <tbody>\n    <tr>\n      <th>count</th>\n      <td>197.000000</td>\n      <td>258.000000</td>\n    </tr>\n    <tr>\n      <th>mean</th>\n      <td>58278.421320</td>\n      <td>98960.513101</td>\n    </tr>\n    <tr>\n      <th>std</th>\n      <td>35836.733259</td>\n      <td>29811.932305</td>\n    </tr>\n    <tr>\n      <th>min</th>\n      <td>107.000000</td>\n      <td>50742.100000</td>\n    </tr>\n    <tr>\n      <th>25%</th>\n      <td>27505.000000</td>\n      <td>70743.512500</td>\n    </tr>\n    <tr>\n      <th>50%</th>\n      <td>55083.000000</td>\n      <td>97724.380000</td>\n    </tr>\n    <tr>\n      <th>75%</th>\n      <td>90495.000000</td>\n      <td>124633.302500</td>\n    </tr>\n    <tr>\n      <th>max</th>\n      <td>119945.000000</td>\n      <td>149489.920000</td>\n    </tr>\n  </tbody>\n</table>\n</div>"
     },
     "execution_count": 143,
     "metadata": {},
     "output_type": "execute_result"
    }
   ],
   "source": [
    "dataset[['Quilometragem', 'Valor']].describe()"
   ]
  },
  {
   "cell_type": "code",
   "execution_count": 144,
   "metadata": {
    "colab": {},
    "colab_type": "code",
    "id": "5D739PzJD0_B"
   },
   "outputs": [
    {
     "name": "stdout",
     "output_type": "stream",
     "text": [
      "<class 'pandas.core.frame.DataFrame'>\n",
      "RangeIndex: 258 entries, 0 to 257\n",
      "Data columns (total 7 columns):\n",
      " #   Column         Non-Null Count  Dtype  \n",
      "---  ------         --------------  -----  \n",
      " 0   Nome           258 non-null    object \n",
      " 1   Motor          258 non-null    object \n",
      " 2   Ano            258 non-null    int64  \n",
      " 3   Quilometragem  197 non-null    float64\n",
      " 4   Zero_km        258 non-null    bool   \n",
      " 5   Acessórios     258 non-null    object \n",
      " 6   Valor          258 non-null    float64\n",
      "dtypes: bool(1), float64(2), int64(1), object(3)\n",
      "memory usage: 12.5+ KB\n"
     ]
    }
   ],
   "source": [
    "dataset.info()"
   ]
  },
  {
   "cell_type": "code",
   "execution_count": 144,
   "metadata": {
    "colab": {},
    "colab_type": "code",
    "id": "r_qUf16LD0_D"
   },
   "outputs": [],
   "source": []
  },
  {
   "cell_type": "code",
   "execution_count": 144,
   "metadata": {
    "colab": {},
    "colab_type": "code",
    "id": "0R-_7PH5D0_E"
   },
   "outputs": [],
   "source": []
  },
  {
   "cell_type": "markdown",
   "metadata": {
    "colab_type": "text",
    "id": "htjoBLwiD0_F"
   },
   "source": [
    "# <font color=green> 2. TRABALHANDO COM TUPLAS\n",
    "---"
   ]
  },
  {
   "cell_type": "markdown",
   "metadata": {
    "colab_type": "text",
    "id": "MZH5_QnYD0_G"
   },
   "source": [
    "# 2.1 Criando tuplas\n",
    "\n",
    "Tuplas são sequências imutáveis que são utilizadas para armazenar coleções de itens, geralmente heterogêneos. Podem ser construídas de várias formas:\n",
    "```\n",
    "- Utilizando um par de parênteses: ( )\n",
    "- Utilizando uma vírgula à direita: x,\n",
    "- Utilizando um par de parênteses com itens separados por vírgulas: ( x, y, z )\n",
    "- Utilizando: tuple() ou tuple(iterador)\n",
    "```"
   ]
  },
  {
   "cell_type": "code",
   "execution_count": 145,
   "metadata": {
    "colab": {},
    "colab_type": "code",
    "id": "xzcs9fzeD0_G"
   },
   "outputs": [
    {
     "data": {
      "text/plain": "()"
     },
     "execution_count": 145,
     "metadata": {},
     "output_type": "execute_result"
    }
   ],
   "source": [
    "()"
   ]
  },
  {
   "cell_type": "code",
   "execution_count": 146,
   "metadata": {
    "colab": {},
    "colab_type": "code",
    "id": "qJq7a2qTD0_I"
   },
   "outputs": [
    {
     "data": {
      "text/plain": "(1, 2, 3)"
     },
     "execution_count": 146,
     "metadata": {},
     "output_type": "execute_result"
    }
   ],
   "source": [
    "1, 2, 3"
   ]
  },
  {
   "cell_type": "code",
   "execution_count": 147,
   "metadata": {
    "colab": {},
    "colab_type": "code",
    "id": "sg7LdvptD0_J"
   },
   "outputs": [
    {
     "data": {
      "text/plain": "('Passat', 153000)"
     },
     "execution_count": 147,
     "metadata": {},
     "output_type": "execute_result"
    }
   ],
   "source": [
    "nome = 'Passat'\n",
    "valor= 153000\n",
    "(nome, valor)"
   ]
  },
  {
   "cell_type": "code",
   "execution_count": 148,
   "metadata": {
    "colab": {},
    "colab_type": "code",
    "id": "XSSMebXjD0_K"
   },
   "outputs": [
    {
     "data": {
      "text/plain": "('Jetta Variant', 'Passat', 'Crossfox', 'DS5')"
     },
     "execution_count": 148,
     "metadata": {},
     "output_type": "execute_result"
    }
   ],
   "source": [
    "nomes_carros = tuple(['Jetta Variant', 'Passat', 'Crossfox', 'DS5'])\n",
    "nomes_carros"
   ]
  },
  {
   "cell_type": "code",
   "execution_count": 149,
   "metadata": {
    "colab": {},
    "colab_type": "code",
    "id": "dpkdzrzRD0_M"
   },
   "outputs": [
    {
     "data": {
      "text/plain": "tuple"
     },
     "execution_count": 149,
     "metadata": {},
     "output_type": "execute_result"
    }
   ],
   "source": [
    "type(nomes_carros)"
   ]
  },
  {
   "cell_type": "markdown",
   "metadata": {
    "colab_type": "text",
    "id": "iKUY2DOUD0_N"
   },
   "source": [
    "# 2.2 Seleções em tuplas"
   ]
  },
  {
   "cell_type": "code",
   "execution_count": 150,
   "metadata": {
    "colab": {},
    "colab_type": "code",
    "id": "hBEeAM7_D0_N"
   },
   "outputs": [
    {
     "data": {
      "text/plain": "'Jetta Variant'"
     },
     "execution_count": 150,
     "metadata": {},
     "output_type": "execute_result"
    }
   ],
   "source": [
    "nomes_carros[0]"
   ]
  },
  {
   "cell_type": "code",
   "execution_count": 151,
   "metadata": {
    "colab": {},
    "colab_type": "code",
    "id": "-mx_1E_tD0_P"
   },
   "outputs": [
    {
     "data": {
      "text/plain": "'DS5'"
     },
     "execution_count": 151,
     "metadata": {},
     "output_type": "execute_result"
    }
   ],
   "source": [
    "nomes_carros[-1]"
   ]
  },
  {
   "cell_type": "code",
   "metadata": {
    "colab": {},
    "colab_type": "code",
    "id": "LMhyqnFID0_Q",
    "pycharm": {
     "name": "#%%\n"
    }
   },
   "source": [
    "nomes_carros[1]"
   ],
   "execution_count": 152,
   "outputs": [
    {
     "data": {
      "text/plain": "'Passat'"
     },
     "execution_count": 152,
     "metadata": {},
     "output_type": "execute_result"
    }
   ]
  },
  {
   "cell_type": "code",
   "execution_count": 153,
   "metadata": {
    "colab": {},
    "colab_type": "code",
    "id": "6btHff4BD0_T"
   },
   "outputs": [
    {
     "data": {
      "text/plain": "('Passat', 'Crossfox')"
     },
     "execution_count": 153,
     "metadata": {},
     "output_type": "execute_result"
    }
   ],
   "source": [
    "nomes_carros[1:3]"
   ]
  },
  {
   "cell_type": "code",
   "execution_count": 154,
   "metadata": {
    "colab": {},
    "colab_type": "code",
    "id": "K_Dc12xBD0_U"
   },
   "outputs": [
    {
     "data": {
      "text/plain": "('Passat', 'Crossfox')"
     },
     "execution_count": 154,
     "metadata": {},
     "output_type": "execute_result"
    }
   ],
   "source": [
    "nomes_carros[1:3]"
   ]
  },
  {
   "cell_type": "code",
   "execution_count": 155,
   "metadata": {
    "colab": {},
    "colab_type": "code",
    "id": "zvrWYkkeD0_W"
   },
   "outputs": [
    {
     "data": {
      "text/plain": "('Jetta Variant', 'Passat', 'Crossfox', 'DS5', ('Fusca', 'Gol', 'C4'))"
     },
     "execution_count": 155,
     "metadata": {},
     "output_type": "execute_result"
    }
   ],
   "source": [
    "nomes_carros = ('Jetta Variant', 'Passat', 'Crossfox', 'DS5', ('Fusca', 'Gol', 'C4'))\n",
    "nomes_carros"
   ]
  },
  {
   "cell_type": "code",
   "execution_count": 156,
   "metadata": {
    "colab": {},
    "colab_type": "code",
    "id": "Dw7tbM2ED0_Z"
   },
   "outputs": [
    {
     "data": {
      "text/plain": "('Fusca', 'Gol', 'C4')"
     },
     "execution_count": 156,
     "metadata": {},
     "output_type": "execute_result"
    }
   ],
   "source": [
    "nomes_carros[-1]"
   ]
  },
  {
   "cell_type": "code",
   "source": [
    "nomes_carros[-1][1]"
   ],
   "metadata": {
    "collapsed": false,
    "pycharm": {
     "name": "#%%\n"
    }
   },
   "execution_count": 157,
   "outputs": [
    {
     "data": {
      "text/plain": "'Gol'"
     },
     "execution_count": 157,
     "metadata": {},
     "output_type": "execute_result"
    }
   ]
  },
  {
   "cell_type": "markdown",
   "metadata": {
    "colab_type": "text",
    "id": "KLMxh4-0D0_c"
   },
   "source": [
    "# 2.3 Iterando em tuplas"
   ]
  },
  {
   "cell_type": "code",
   "execution_count": 158,
   "metadata": {
    "colab": {},
    "colab_type": "code",
    "id": "K53elKsYD0_c"
   },
   "outputs": [
    {
     "data": {
      "text/plain": "('Jetta Variant', 'Passat', 'Crossfox', 'DS5')"
     },
     "execution_count": 158,
     "metadata": {},
     "output_type": "execute_result"
    }
   ],
   "source": [
    "nomes_carros = ('Jetta Variant', 'Passat', 'Crossfox', 'DS5')\n",
    "nomes_carros"
   ]
  },
  {
   "cell_type": "code",
   "execution_count": 159,
   "outputs": [
    {
     "name": "stdout",
     "output_type": "stream",
     "text": [
      "Jetta Variant\n",
      "Passat\n",
      "Crossfox\n",
      "DS5\n"
     ]
    }
   ],
   "source": [
    "for item in nomes_carros:\n",
    "    print(item)"
   ],
   "metadata": {
    "collapsed": false,
    "pycharm": {
     "name": "#%%\n"
    }
   }
  },
  {
   "cell_type": "markdown",
   "source": [],
   "metadata": {
    "collapsed": false
   }
  },
  {
   "cell_type": "markdown",
   "metadata": {
    "colab_type": "text",
    "id": "AOBjxBk8D0_f"
   },
   "source": [
    "### Desempacotamento de tuplas"
   ]
  },
  {
   "cell_type": "code",
   "execution_count": 160,
   "metadata": {
    "colab": {},
    "colab_type": "code",
    "id": "UoEFnumhD0_f"
   },
   "outputs": [],
   "source": [
    "jetta, passat, crossfox, ds5 = nomes_carros"
   ]
  },
  {
   "cell_type": "code",
   "execution_count": 161,
   "metadata": {
    "colab": {},
    "colab_type": "code",
    "id": "AaCLcNYTD0_g"
   },
   "outputs": [
    {
     "name": "stdout",
     "output_type": "stream",
     "text": [
      "Jetta Variant\n",
      "Passat\n",
      "DS5\n"
     ]
    }
   ],
   "source": [
    "print(jetta)\n",
    "print(passat)\n",
    "print(ds5)"
   ]
  },
  {
   "cell_type": "code",
   "execution_count": 162,
   "metadata": {
    "colab": {},
    "colab_type": "code",
    "id": "TA71S9egD0_h"
   },
   "outputs": [],
   "source": [
    "_,A,_,B = nomes_carros"
   ]
  },
  {
   "cell_type": "code",
   "execution_count": 163,
   "metadata": {
    "colab": {},
    "colab_type": "code",
    "id": "CHoJ034MD0_i"
   },
   "outputs": [
    {
     "data": {
      "text/plain": "'DS5'"
     },
     "execution_count": 163,
     "metadata": {},
     "output_type": "execute_result"
    }
   ],
   "source": [
    "B"
   ]
  },
  {
   "cell_type": "code",
   "execution_count": 164,
   "metadata": {
    "colab": {},
    "colab_type": "code",
    "id": "oxJrOuCSD0_j"
   },
   "outputs": [],
   "source": [
    "_,C,*_ = nomes_carros"
   ]
  },
  {
   "cell_type": "code",
   "execution_count": 165,
   "metadata": {
    "colab": {},
    "colab_type": "code",
    "id": "BbR9sB4BD0_k"
   },
   "outputs": [
    {
     "data": {
      "text/plain": "'Passat'"
     },
     "execution_count": 165,
     "metadata": {},
     "output_type": "execute_result"
    }
   ],
   "source": [
    "C"
   ]
  },
  {
   "cell_type": "code",
   "execution_count": 165,
   "metadata": {
    "colab": {},
    "colab_type": "code",
    "id": "aZvokrjPD0_m"
   },
   "outputs": [],
   "source": []
  },
  {
   "cell_type": "code",
   "execution_count": 165,
   "metadata": {
    "colab": {},
    "colab_type": "code",
    "id": "wZXDbVg0D0_o"
   },
   "outputs": [],
   "source": []
  },
  {
   "cell_type": "code",
   "execution_count": 165,
   "metadata": {
    "colab": {},
    "colab_type": "code",
    "id": "aWgDMBXiD0_p"
   },
   "outputs": [],
   "source": []
  },
  {
   "cell_type": "code",
   "execution_count": 165,
   "metadata": {
    "colab": {},
    "colab_type": "code",
    "id": "OdpgNh-ND0_q"
   },
   "outputs": [],
   "source": []
  },
  {
   "cell_type": "code",
   "execution_count": 165,
   "metadata": {
    "colab": {},
    "colab_type": "code",
    "id": "upVYFnMdD0_r"
   },
   "outputs": [],
   "source": []
  },
  {
   "cell_type": "markdown",
   "metadata": {
    "colab_type": "text",
    "id": "u85Aou8WD0_s"
   },
   "source": [
    "## *zip()*\n",
    "\n",
    "https://docs.python.org/3.6/library/functions.html#zip"
   ]
  },
  {
   "cell_type": "code",
   "execution_count": 166,
   "metadata": {
    "colab": {},
    "colab_type": "code",
    "id": "PaC2oXGED0_t"
   },
   "outputs": [
    {
     "data": {
      "text/plain": "['Jetta Variant', 'Passat', 'Crossfox', 'DS5']"
     },
     "execution_count": 166,
     "metadata": {},
     "output_type": "execute_result"
    }
   ],
   "source": [
    "carros = ['Jetta Variant', 'Passat', 'Crossfox', 'DS5']\n",
    "carros"
   ]
  },
  {
   "cell_type": "code",
   "execution_count": 167,
   "metadata": {
    "colab": {},
    "colab_type": "code",
    "id": "_02O1VnHD0_u"
   },
   "outputs": [
    {
     "data": {
      "text/plain": "[88078.64, 106161.94, 72832.16, 124549.07]"
     },
     "execution_count": 167,
     "metadata": {},
     "output_type": "execute_result"
    }
   ],
   "source": [
    "valores = [88078.64, 106161.94, 72832.16, 124549.07]\n",
    "valores"
   ]
  },
  {
   "cell_type": "code",
   "execution_count": 168,
   "metadata": {
    "colab": {},
    "colab_type": "code",
    "id": "roQK5nYRD0_v"
   },
   "outputs": [
    {
     "data": {
      "text/plain": "<zip at 0x123a35cc0>"
     },
     "execution_count": 168,
     "metadata": {},
     "output_type": "execute_result"
    }
   ],
   "source": [
    "zip(carros, valores)"
   ]
  },
  {
   "cell_type": "code",
   "execution_count": 169,
   "metadata": {
    "colab": {},
    "colab_type": "code",
    "id": "_WRxIRHrD0_w"
   },
   "outputs": [
    {
     "data": {
      "text/plain": "[('Jetta Variant', 88078.64),\n ('Passat', 106161.94),\n ('Crossfox', 72832.16),\n ('DS5', 124549.07)]"
     },
     "execution_count": 169,
     "metadata": {},
     "output_type": "execute_result"
    }
   ],
   "source": [
    "list (zip(carros, valores))"
   ]
  },
  {
   "cell_type": "code",
   "execution_count": 170,
   "metadata": {
    "colab": {},
    "colab_type": "code",
    "id": "2zIuhIILD0_x"
   },
   "outputs": [
    {
     "name": "stdout",
     "output_type": "stream",
     "text": [
      "('Jetta Variant', 88078.64)\n",
      "('Passat', 106161.94)\n",
      "('Crossfox', 72832.16)\n",
      "('DS5', 124549.07)\n"
     ]
    }
   ],
   "source": [
    "for item in zip(carros, valores):\n",
    "    print(item)"
   ]
  },
  {
   "cell_type": "code",
   "execution_count": 171,
   "metadata": {
    "colab": {},
    "colab_type": "code",
    "id": "ZJaL62IpD0_y"
   },
   "outputs": [
    {
     "name": "stdout",
     "output_type": "stream",
     "text": [
      "Carro: Jetta Variant, Valor: 88078.64\n",
      "Carro: Passat, Valor: 106161.94\n",
      "Carro: Crossfox, Valor: 72832.16\n",
      "Carro: DS5, Valor: 124549.07\n"
     ]
    }
   ],
   "source": [
    "for carro, valor in zip(carros, valores):\n",
    "    print('Carro: {}, Valor: {}'.format(carro, valor))"
   ]
  },
  {
   "cell_type": "code",
   "execution_count": 172,
   "outputs": [
    {
     "data": {
      "text/plain": "[('Passat', 106161.94), ('DS5', 124549.07)]"
     },
     "execution_count": 172,
     "metadata": {},
     "output_type": "execute_result"
    }
   ],
   "source": [
    "[(carro, valor) for carro, valor in zip(carros, valores) if valor > 100_000]"
   ],
   "metadata": {
    "collapsed": false,
    "pycharm": {
     "name": "#%%\n"
    }
   }
  },
  {
   "cell_type": "markdown",
   "metadata": {
    "colab_type": "text",
    "id": "xo76nR8rD0_0"
   },
   "source": [
    "# <font color=green> 3. TRABALHANDO COM DICIONÁRIOS\n",
    "---"
   ]
  },
  {
   "cell_type": "markdown",
   "metadata": {
    "colab_type": "text",
    "id": "wfWzOuztD0_0"
   },
   "source": [
    "# 3.1 Criando dicionários\n",
    "\n",
    "Listas são coleções sequenciais, isto é, os itens destas sequências estão ordenados e utilizam índices (números inteiros) para acessar os valores.\n",
    "\n",
    "Os dicionários são coleções um pouco diferentes. São estruturas de dados que representam um tipo de mapeamento. Mapeamentos são coleções de associações entre pares de valores onde o primeiro elemento do par é conhecido como chave (*key*) e o segundo como valor (*value*).\n",
    "\n",
    "```\n",
    "dicionario = {key_1: value_1, key_2: value_2, ..., key_n: value_n}\n",
    "```\n",
    "\n",
    "https://docs.python.org/3.6/library/stdtypes.html#typesmapping"
   ]
  },
  {
   "cell_type": "code",
   "execution_count": 172,
   "metadata": {
    "colab": {},
    "colab_type": "code",
    "id": "SuPcV9v6D0_0"
   },
   "outputs": [],
   "source": []
  },
  {
   "cell_type": "code",
   "execution_count": 173,
   "metadata": {
    "colab": {},
    "colab_type": "code",
    "id": "YIFVkWT6D0_1"
   },
   "outputs": [
    {
     "data": {
      "text/plain": "['Jetta Variant', 'Passat', 'Crossfox']"
     },
     "execution_count": 173,
     "metadata": {},
     "output_type": "execute_result"
    }
   ],
   "source": [
    "carros = ['Jetta Variant', 'Passat', 'Crossfox']\n",
    "carros"
   ]
  },
  {
   "cell_type": "code",
   "execution_count": 174,
   "metadata": {
    "colab": {},
    "colab_type": "code",
    "id": "2LHiBn3-D0_2"
   },
   "outputs": [
    {
     "data": {
      "text/plain": "[88078.64, 106161.94, 72832.16]"
     },
     "execution_count": 174,
     "metadata": {},
     "output_type": "execute_result"
    }
   ],
   "source": [
    "valores = [88078.64, 106161.94, 72832.16]\n",
    "valores"
   ]
  },
  {
   "cell_type": "code",
   "execution_count": 175,
   "metadata": {
    "colab": {},
    "colab_type": "code",
    "id": "YxLAx_sqD0_4"
   },
   "outputs": [
    {
     "data": {
      "text/plain": "1"
     },
     "execution_count": 175,
     "metadata": {},
     "output_type": "execute_result"
    }
   ],
   "source": [
    "carros.index('Passat')"
   ]
  },
  {
   "cell_type": "markdown",
   "source": [],
   "metadata": {
    "collapsed": false
   }
  },
  {
   "cell_type": "code",
   "execution_count": 176,
   "metadata": {
    "colab": {},
    "colab_type": "code",
    "id": "WITNWExID0_7"
   },
   "outputs": [
    {
     "data": {
      "text/plain": "106161.94"
     },
     "execution_count": 176,
     "metadata": {},
     "output_type": "execute_result"
    }
   ],
   "source": [
    "valores[carros.index('Passat')]"
   ]
  },
  {
   "cell_type": "code",
   "execution_count": 177,
   "outputs": [
    {
     "data": {
      "text/plain": "{'Jetta Variant': 88078.64, 'Passat': 106161.94, 'Crossfox': 72832.16}"
     },
     "execution_count": 177,
     "metadata": {},
     "output_type": "execute_result"
    }
   ],
   "source": [
    "dados = {carro: valor for carro, valor in zip(carros, valores)}\n",
    "dados"
   ],
   "metadata": {
    "collapsed": false,
    "pycharm": {
     "name": "#%%\n"
    }
   }
  },
  {
   "cell_type": "code",
   "execution_count": 177,
   "outputs": [],
   "source": [],
   "metadata": {
    "collapsed": false,
    "pycharm": {
     "name": "#%%\n"
    }
   }
  },
  {
   "cell_type": "code",
   "execution_count": 177,
   "outputs": [],
   "source": [],
   "metadata": {
    "collapsed": false,
    "pycharm": {
     "name": "#%%\n"
    }
   }
  },
  {
   "cell_type": "markdown",
   "metadata": {
    "colab_type": "text",
    "id": "PQg-MLkGD0_-"
   },
   "source": [
    "### Criando dicionários com *zip()*"
   ]
  },
  {
   "cell_type": "code",
   "execution_count": 178,
   "metadata": {
    "colab": {},
    "colab_type": "code",
    "id": "iB4Q_gbND0__"
   },
   "outputs": [
    {
     "data": {
      "text/plain": "{'Jetta Variant': 88078.64, 'Passat': 106161.94, 'Crossfox': 72832.16}"
     },
     "execution_count": 178,
     "metadata": {},
     "output_type": "execute_result"
    }
   ],
   "source": [
    "dados = dict(list(zip(carros, valores)))\n",
    "dados"
   ]
  },
  {
   "cell_type": "code",
   "execution_count": 179,
   "metadata": {
    "colab": {},
    "colab_type": "code",
    "id": "mIgZqdKKD1AA"
   },
   "outputs": [
    {
     "data": {
      "text/plain": "106161.94"
     },
     "execution_count": 179,
     "metadata": {},
     "output_type": "execute_result"
    }
   ],
   "source": [
    "dados['Passat']"
   ]
  },
  {
   "cell_type": "markdown",
   "metadata": {
    "colab_type": "text",
    "id": "KYeRqavFD1AD"
   },
   "source": [
    "# 3.2 Operações com dicionários"
   ]
  },
  {
   "cell_type": "markdown",
   "metadata": {
    "colab_type": "text",
    "id": "KzmWbEltD1AD"
   },
   "source": [
    "## *dict[ key ]*\n",
    "\n",
    "Retorna o valor correspondente à chave (*key*) no dicionário."
   ]
  },
  {
   "cell_type": "code",
   "execution_count": 180,
   "metadata": {
    "colab": {},
    "colab_type": "code",
    "id": "hFFDz6wKD1AD"
   },
   "outputs": [
    {
     "data": {
      "text/plain": "72832.16"
     },
     "execution_count": 180,
     "metadata": {},
     "output_type": "execute_result"
    }
   ],
   "source": [
    "dados['Crossfox']"
   ]
  },
  {
   "cell_type": "markdown",
   "metadata": {
    "colab_type": "text",
    "id": "SWlE6VTBD1AE"
   },
   "source": [
    "## *key in dict*\n",
    "\n",
    "Retorna **True** se a chave (*key*) for encontrada no dicionário."
   ]
  },
  {
   "cell_type": "code",
   "execution_count": 181,
   "metadata": {
    "colab": {},
    "colab_type": "code",
    "id": "Iy88SxBtD1AE"
   },
   "outputs": [
    {
     "data": {
      "text/plain": "False"
     },
     "execution_count": 181,
     "metadata": {},
     "output_type": "execute_result"
    }
   ],
   "source": [
    "'DS5' in dados"
   ]
  },
  {
   "cell_type": "code",
   "execution_count": 182,
   "metadata": {
    "colab": {},
    "colab_type": "code",
    "id": "Oma56NkAD1AF"
   },
   "outputs": [
    {
     "data": {
      "text/plain": "True"
     },
     "execution_count": 182,
     "metadata": {},
     "output_type": "execute_result"
    }
   ],
   "source": [
    "'Jetta Variant' in dados"
   ]
  },
  {
   "cell_type": "code",
   "execution_count": 183,
   "metadata": {
    "colab": {},
    "colab_type": "code",
    "id": "yS2U-_8gD1AG"
   },
   "outputs": [
    {
     "data": {
      "text/plain": "True"
     },
     "execution_count": 183,
     "metadata": {},
     "output_type": "execute_result"
    }
   ],
   "source": [
    "'Fusca' not in dados"
   ]
  },
  {
   "cell_type": "markdown",
   "metadata": {
    "colab_type": "text",
    "id": "oWbWyDd0D1AI"
   },
   "source": [
    "## *len(dict)*\n",
    "\n",
    "Retorna o número de itens do dicionário."
   ]
  },
  {
   "cell_type": "code",
   "execution_count": 184,
   "metadata": {
    "colab": {},
    "colab_type": "code",
    "id": "k08YkCc1D1AJ"
   },
   "outputs": [
    {
     "data": {
      "text/plain": "3"
     },
     "execution_count": 184,
     "metadata": {},
     "output_type": "execute_result"
    }
   ],
   "source": [
    "len(dados)"
   ]
  },
  {
   "cell_type": "markdown",
   "metadata": {
    "colab_type": "text",
    "id": "yYNqIHJBD1AK"
   },
   "source": [
    "## *dict[ key ] = value*\n",
    "\n",
    "Inclui um item ao dicionário."
   ]
  },
  {
   "cell_type": "code",
   "execution_count": 185,
   "metadata": {
    "colab": {},
    "colab_type": "code",
    "id": "5jj3i52bD1AK"
   },
   "outputs": [
    {
     "data": {
      "text/plain": "{'Jetta Variant': 88078.64,\n 'Passat': 106161.94,\n 'Crossfox': 72832.16,\n 'DS5': 124549.07}"
     },
     "execution_count": 185,
     "metadata": {},
     "output_type": "execute_result"
    }
   ],
   "source": [
    "dados['DS5'] = 124549.07\n",
    "dados"
   ]
  },
  {
   "cell_type": "code",
   "execution_count": 186,
   "metadata": {
    "colab": {},
    "colab_type": "code",
    "id": "y6rso5hLD1AL"
   },
   "outputs": [
    {
     "data": {
      "text/plain": "{'Jetta Variant': 88078.64,\n 'Passat': 106161.94,\n 'Crossfox': 72832.16,\n 'DS5': 124549.07}"
     },
     "execution_count": 186,
     "metadata": {},
     "output_type": "execute_result"
    }
   ],
   "source": [
    "dados['Passat'] = 106161.94\n",
    "dados"
   ]
  },
  {
   "cell_type": "markdown",
   "metadata": {
    "colab_type": "text",
    "id": "_z0JySuqD1AL"
   },
   "source": [
    "## *del dict[ key ]*\n",
    "\n",
    "Remove o item de chave (*key*) do dicionário."
   ]
  },
  {
   "cell_type": "code",
   "execution_count": 187,
   "metadata": {
    "colab": {},
    "colab_type": "code",
    "id": "PPfh6sfID1AM"
   },
   "outputs": [
    {
     "data": {
      "text/plain": "{'Jetta Variant': 88078.64,\n 'Passat': 106161.94,\n 'Crossfox': 72832.16,\n 'DS5': 124549.07}"
     },
     "execution_count": 187,
     "metadata": {},
     "output_type": "execute_result"
    }
   ],
   "source": [
    "dados"
   ]
  },
  {
   "cell_type": "code",
   "execution_count": 188,
   "metadata": {
    "colab": {},
    "colab_type": "code",
    "id": "BtjGpXtGD1AN"
   },
   "outputs": [
    {
     "data": {
      "text/plain": "{'Jetta Variant': 88078.64, 'Crossfox': 72832.16, 'DS5': 124549.07}"
     },
     "execution_count": 188,
     "metadata": {},
     "output_type": "execute_result"
    }
   ],
   "source": [
    "del dados['Passat']\n",
    "dados"
   ]
  },
  {
   "cell_type": "markdown",
   "metadata": {
    "colab_type": "text",
    "id": "FodJVx5sD1AP"
   },
   "source": [
    "# 3.3 Métodos de dicionários"
   ]
  },
  {
   "cell_type": "markdown",
   "metadata": {
    "colab_type": "text",
    "id": "7pqdPOkYD1AP"
   },
   "source": [
    "## *dict.update()*\n",
    "\n",
    "Atualiza o dicionário."
   ]
  },
  {
   "cell_type": "code",
   "execution_count": 189,
   "metadata": {
    "colab": {},
    "colab_type": "code",
    "id": "DUySYxKQD1AQ"
   },
   "outputs": [
    {
     "data": {
      "text/plain": "{'Jetta Variant': 88078.64,\n 'Crossfox': 72832.16,\n 'DS5': 124549.07,\n 'Passat': 123.45}"
     },
     "execution_count": 189,
     "metadata": {},
     "output_type": "execute_result"
    }
   ],
   "source": [
    "dict.update(dados, { 'Passat': 123.45 })\n",
    "dados"
   ]
  },
  {
   "cell_type": "code",
   "execution_count": 190,
   "metadata": {
    "colab": {},
    "colab_type": "code",
    "id": "DLsqp71cD1AR"
   },
   "outputs": [
    {
     "data": {
      "text/plain": "{'Jetta Variant': 88078.64,\n 'Crossfox': 72832.16,\n 'DS5': 124549.07,\n 'Passat': 543.21}"
     },
     "execution_count": 190,
     "metadata": {},
     "output_type": "execute_result"
    }
   ],
   "source": [
    "dados.update({ 'Passat': 543.21 })\n",
    "dados"
   ]
  },
  {
   "cell_type": "markdown",
   "metadata": {
    "colab_type": "text",
    "id": "JLs5c0DeD1AR"
   },
   "source": [
    "## *dict.copy()*\n",
    "\n",
    "Cria uma cópia do dicionário."
   ]
  },
  {
   "cell_type": "code",
   "execution_count": 191,
   "metadata": {
    "colab": {},
    "colab_type": "code",
    "id": "X9F7OB3eD1AS"
   },
   "outputs": [],
   "source": [
    "copiaDados = dados.copy()"
   ]
  },
  {
   "cell_type": "code",
   "execution_count": 192,
   "metadata": {
    "colab": {},
    "colab_type": "code",
    "id": "v0rL0bveD1AS"
   },
   "outputs": [
    {
     "data": {
      "text/plain": "{'Jetta Variant': 88078.64,\n 'Crossfox': 72832.16,\n 'DS5': 124549.07,\n 'Passat': 543.21}"
     },
     "execution_count": 192,
     "metadata": {},
     "output_type": "execute_result"
    }
   ],
   "source": [
    "copiaDados.update({'Jetta Variant': 100.01})\n",
    "dados"
   ]
  },
  {
   "cell_type": "code",
   "execution_count": 193,
   "metadata": {
    "colab": {},
    "colab_type": "code",
    "id": "M-abRGGrD1AT"
   },
   "outputs": [
    {
     "data": {
      "text/plain": "{'Jetta Variant': 100.01,\n 'Crossfox': 72832.16,\n 'DS5': 124549.07,\n 'Passat': 543.21}"
     },
     "execution_count": 193,
     "metadata": {},
     "output_type": "execute_result"
    }
   ],
   "source": [
    "copiaDados"
   ]
  },
  {
   "cell_type": "code",
   "execution_count": 193,
   "metadata": {
    "colab": {},
    "colab_type": "code",
    "id": "ETBD0TkND1AU"
   },
   "outputs": [],
   "source": []
  },
  {
   "cell_type": "markdown",
   "metadata": {
    "colab_type": "text",
    "id": "mNODkmHCD1AV"
   },
   "source": [
    "## *dict.pop(key[, default ])*\n",
    "\n",
    "Se a chave for encontrada no dicionário, o item é removido e seu valor é retornado. Caso contrário, o valor especificado como *default* é retornado. Se o valor *default* não for fornecido e a chave não for encontrada no dicionário um erro será gerado."
   ]
  },
  {
   "cell_type": "code",
   "execution_count": 194,
   "metadata": {
    "colab": {},
    "colab_type": "code",
    "id": "_4QEPwScD1AW"
   },
   "outputs": [
    {
     "data": {
      "text/plain": "543.21"
     },
     "execution_count": 194,
     "metadata": {},
     "output_type": "execute_result"
    }
   ],
   "source": [
    "copiaDados.pop('Passat')"
   ]
  },
  {
   "cell_type": "code",
   "execution_count": 195,
   "metadata": {
    "colab": {},
    "colab_type": "code",
    "id": "Hjh0MuymD1AX"
   },
   "outputs": [
    {
     "data": {
      "text/plain": "{'Jetta Variant': 100.01, 'Crossfox': 72832.16, 'DS5': 124549.07}"
     },
     "execution_count": 195,
     "metadata": {},
     "output_type": "execute_result"
    }
   ],
   "source": [
    "copiaDados"
   ]
  },
  {
   "cell_type": "code",
   "execution_count": 196,
   "metadata": {
    "colab": {},
    "colab_type": "code",
    "id": "f51rKjkuD1AX"
   },
   "outputs": [
    {
     "name": "stdout",
     "output_type": "stream",
     "text": [
      "dados:  {'Jetta Variant': 88078.64, 'Crossfox': 72832.16, 'DS5': 124549.07, 'Passat': 543.21}\n",
      "dados:  {'Jetta Variant': 88078.64, 'Crossfox': 72832.16, 'DS5': 124549.07, 'Passat': 543.21}\n",
      "copiaDados:  {'Jetta Variant': 100.01, 'Crossfox': 72832.16, 'DS5': 124549.07, 'Passat': 0.01}\n"
     ]
    }
   ],
   "source": [
    "print('dados: ', dados)\n",
    "copiaDados['Passat'] = dados['Passat']\n",
    "copiaDados['Passat'] = 0.01\n",
    "print('dados: ', dados)\n",
    "print('copiaDados: ', copiaDados)"
   ]
  },
  {
   "cell_type": "code",
   "execution_count": 197,
   "metadata": {
    "colab": {},
    "colab_type": "code",
    "id": "Ah4sZ7axD1AZ"
   },
   "outputs": [],
   "source": [
    "copiaDados.update(Jetta_Variant = 1.01, Crossfox= 2.02)"
   ]
  },
  {
   "cell_type": "code",
   "execution_count": 198,
   "metadata": {
    "colab": {},
    "colab_type": "code",
    "id": "SJATRY8RD1Aa"
   },
   "outputs": [
    {
     "data": {
      "text/plain": "{'Jetta Variant': 100.01,\n 'Crossfox': 2.02,\n 'DS5': 124549.07,\n 'Passat': 0.01,\n 'Jetta_Variant': 1.01}"
     },
     "execution_count": 198,
     "metadata": {},
     "output_type": "execute_result"
    }
   ],
   "source": [
    "copiaDados"
   ]
  },
  {
   "cell_type": "code",
   "execution_count": 198,
   "metadata": {
    "colab": {},
    "colab_type": "code",
    "id": "V36wHdzmD1Ab"
   },
   "outputs": [],
   "source": []
  },
  {
   "cell_type": "code",
   "execution_count": 198,
   "metadata": {
    "colab": {},
    "colab_type": "code",
    "id": "LJ0lQIrdD1Ac"
   },
   "outputs": [],
   "source": []
  },
  {
   "cell_type": "code",
   "execution_count": 198,
   "metadata": {
    "colab": {},
    "colab_type": "code",
    "id": "yKGu-fYkD1Ad"
   },
   "outputs": [],
   "source": []
  },
  {
   "cell_type": "code",
   "execution_count": 198,
   "metadata": {
    "colab": {},
    "colab_type": "code",
    "id": "x-h8nVyhD1Af"
   },
   "outputs": [],
   "source": []
  },
  {
   "cell_type": "markdown",
   "metadata": {
    "colab_type": "text",
    "id": "Q5J0R7d3D1Ag"
   },
   "source": [
    "## *dict.clear()*\n",
    "\n",
    "Remove todos os itens do dicionário."
   ]
  },
  {
   "cell_type": "code",
   "execution_count": 199,
   "metadata": {
    "colab": {},
    "colab_type": "code",
    "id": "AvkP_8mND1Ag"
   },
   "outputs": [
    {
     "data": {
      "text/plain": "{}"
     },
     "execution_count": 199,
     "metadata": {},
     "output_type": "execute_result"
    }
   ],
   "source": [
    "dict.clear(copiaDados)\n",
    "copiaDados"
   ]
  },
  {
   "cell_type": "code",
   "execution_count": 200,
   "metadata": {
    "colab": {},
    "colab_type": "code",
    "id": "S69pMYboD1Ah"
   },
   "outputs": [
    {
     "data": {
      "text/plain": "{}"
     },
     "execution_count": 200,
     "metadata": {},
     "output_type": "execute_result"
    }
   ],
   "source": [
    "copiaDados = dados.copy()\n",
    "copiaDados.clear()\n",
    "copiaDados"
   ]
  },
  {
   "cell_type": "markdown",
   "metadata": {
    "colab_type": "text",
    "id": "QhoSRfPsD1Ai"
   },
   "source": [
    "# 3.4 Iterando em dicionários"
   ]
  },
  {
   "cell_type": "markdown",
   "metadata": {
    "colab_type": "text",
    "id": "E-agaqakD1Ai"
   },
   "source": [
    "## *dict.keys()*\n",
    "\n",
    "Retorna uma lista contendo as chaves (*keys*) do dicionário."
   ]
  },
  {
   "cell_type": "code",
   "execution_count": 201,
   "metadata": {
    "colab": {},
    "colab_type": "code",
    "id": "qFADEYmBD1Aj"
   },
   "outputs": [
    {
     "name": "stdout",
     "output_type": "stream",
     "text": [
      "88078.64\n",
      "72832.16\n",
      "124549.07\n",
      "543.21\n"
     ]
    }
   ],
   "source": [
    "dict.keys(dados)\n",
    "for value in [dados[key] for key in dados.keys()]: print(value)"
   ]
  },
  {
   "cell_type": "code",
   "execution_count": 201,
   "metadata": {
    "colab": {},
    "colab_type": "code",
    "id": "niwh9AgDD1Aj"
   },
   "outputs": [],
   "source": []
  },
  {
   "cell_type": "markdown",
   "metadata": {
    "colab_type": "text",
    "id": "qFj6Cc7dD1Ak"
   },
   "source": [
    "## *dict.values()*\n",
    "\n",
    "Retorna uma lista com todos os valores (*values*) do dicionário."
   ]
  },
  {
   "cell_type": "code",
   "execution_count": 202,
   "outputs": [
    {
     "data": {
      "text/plain": "dict_values([88078.64, 72832.16, 124549.07, 543.21])"
     },
     "execution_count": 202,
     "metadata": {},
     "output_type": "execute_result"
    }
   ],
   "source": [
    "copiaDados = dados.copy()\n",
    "dict.values(copiaDados)"
   ],
   "metadata": {
    "collapsed": false,
    "pycharm": {
     "name": "#%%\n"
    }
   }
  },
  {
   "cell_type": "code",
   "execution_count": 203,
   "metadata": {
    "colab": {},
    "colab_type": "code",
    "id": "nfpLxrQVD1Al"
   },
   "outputs": [
    {
     "data": {
      "text/plain": "dict_values([88078.64, 72832.16, 124549.07, 543.21])"
     },
     "execution_count": 203,
     "metadata": {},
     "output_type": "execute_result"
    }
   ],
   "source": [
    "copiaDados.values()"
   ]
  },
  {
   "cell_type": "markdown",
   "metadata": {
    "colab_type": "text",
    "id": "-NGRwX0AD1Al"
   },
   "source": [
    "## *dict.items()*\n",
    "\n",
    "Retorna uma lista contendo uma tupla para cada par chave-valor (*key-value*) do dicionário."
   ]
  },
  {
   "cell_type": "code",
   "execution_count": 204,
   "metadata": {
    "colab": {},
    "colab_type": "code",
    "id": "Q2I9_6YvD1Am"
   },
   "outputs": [
    {
     "data": {
      "text/plain": "dict_items([('Jetta Variant', 88078.64), ('Crossfox', 72832.16), ('DS5', 124549.07), ('Passat', 543.21)])"
     },
     "execution_count": 204,
     "metadata": {},
     "output_type": "execute_result"
    }
   ],
   "source": [
    "dict.items(copiaDados)"
   ]
  },
  {
   "cell_type": "code",
   "execution_count": 205,
   "metadata": {
    "colab": {},
    "colab_type": "code",
    "id": "0j41ZqgQD1Am"
   },
   "outputs": [
    {
     "data": {
      "text/plain": "dict_items([('Jetta Variant', 88078.64), ('Crossfox', 72832.16), ('DS5', 124549.07), ('Passat', 543.21)])"
     },
     "execution_count": 205,
     "metadata": {},
     "output_type": "execute_result"
    }
   ],
   "source": [
    "copiaDados.items()"
   ]
  },
  {
   "cell_type": "code",
   "execution_count": 206,
   "metadata": {
    "colab": {},
    "colab_type": "code",
    "id": "OVY9rIwFD1An"
   },
   "outputs": [],
   "source": [
    "dados = {\n",
    "    'Crossfox': {'valor': 72000, 'ano': 2005},\n",
    "    'DS5': {'valor': 125000, 'ano': 2015},\n",
    "    'Fusca': {'valor': 150000, 'ano': 1976},\n",
    "    'Jetta': {'valor': 88000, 'ano': 2010},\n",
    "    'Passat': {'valor': 106000, 'ano': 1998}\n",
    "}"
   ]
  },
  {
   "cell_type": "code",
   "execution_count": 207,
   "outputs": [
    {
     "name": "stdout",
     "output_type": "stream",
     "text": [
      "('Crossfox', {'valor': 72000, 'ano': 2005})\n",
      "('DS5', {'valor': 125000, 'ano': 2015})\n",
      "('Fusca', {'valor': 150000, 'ano': 1976})\n",
      "('Jetta', {'valor': 88000, 'ano': 2010})\n",
      "('Passat', {'valor': 106000, 'ano': 1998})\n"
     ]
    }
   ],
   "source": [
    "for item in dados.items():\n",
    "    print(item)"
   ],
   "metadata": {
    "collapsed": false,
    "pycharm": {
     "name": "#%%\n"
    }
   }
  },
  {
   "cell_type": "code",
   "execution_count": 208,
   "outputs": [
    {
     "name": "stdout",
     "output_type": "stream",
     "text": [
      "Crossfox\n",
      "DS5\n",
      "Jetta\n"
     ]
    }
   ],
   "source": [
    "for item in dados.items():\n",
    "    if item[1]['ano'] >= 2000:\n",
    "        print(item[0])"
   ],
   "metadata": {
    "collapsed": false,
    "pycharm": {
     "name": "#%%\n"
    }
   }
  },
  {
   "cell_type": "markdown",
   "metadata": {
    "colab_type": "text",
    "id": "-q3AlSg3D1Aq"
   },
   "source": [
    "# <font color=green> 4. FUNÇÕES E PACOTES\n",
    "---\n",
    "    \n",
    "Funções são unidades de código reutilizáveis que realizam uma tarefa específica, podem receber alguma entrada e também podem retornar alguma resultado."
   ]
  },
  {
   "cell_type": "markdown",
   "metadata": {
    "colab_type": "text",
    "id": "5CfEcU58D1Aq"
   },
   "source": [
    "# 4.1 Built-in function\n",
    "\n",
    "A linguagem Python possui várias funções integradas que estão sempre acessíveis. Algumas já utilizamos em nosso treinamento: type(), print(), zip(), len(), set() etc.\n",
    "\n",
    "https://docs.python.org/3.6/library/functions.html"
   ]
  },
  {
   "cell_type": "code",
   "execution_count": 209,
   "metadata": {
    "colab": {},
    "colab_type": "code",
    "id": "DP7cmY7xD1Aq"
   },
   "outputs": [
    {
     "data": {
      "text/plain": "{'Jetta Variant': 88078.64, 'Passat': 106161.94, 'Crossfox': 72832.16}"
     },
     "execution_count": 209,
     "metadata": {},
     "output_type": "execute_result"
    }
   ],
   "source": [
    "dados = {'Jetta Variant': 88078.64, 'Passat': 106161.94, 'Crossfox': 72832.16}\n",
    "dados"
   ]
  },
  {
   "cell_type": "code",
   "execution_count": 210,
   "metadata": {
    "colab": {},
    "colab_type": "code",
    "id": "5zAcGSCbD1Ar"
   },
   "outputs": [
    {
     "data": {
      "text/plain": "267072.74"
     },
     "execution_count": 210,
     "metadata": {},
     "output_type": "execute_result"
    }
   ],
   "source": [
    "soma = 0\n",
    "for i in dados.values():\n",
    "    soma += i\n",
    "soma"
   ]
  },
  {
   "cell_type": "code",
   "execution_count": 211,
   "metadata": {
    "colab": {},
    "colab_type": "code",
    "id": "zG9_jU_1D1At"
   },
   "outputs": [
    {
     "data": {
      "text/plain": "267072.74"
     },
     "execution_count": 211,
     "metadata": {},
     "output_type": "execute_result"
    }
   ],
   "source": [
    "sum(dados.values())"
   ]
  },
  {
   "cell_type": "markdown",
   "source": [
    "##### Quando é realizada uma iteração do tipo for em cima de um dict o valor retornado em *i* é o da chave"
   ],
   "metadata": {
    "collapsed": false
   }
  },
  {
   "cell_type": "code",
   "execution_count": 212,
   "metadata": {
    "colab": {},
    "colab_type": "code",
    "id": "jn0O3uXZD1Au"
   },
   "outputs": [
    {
     "data": {
      "text/plain": "267072.74"
     },
     "execution_count": 212,
     "metadata": {},
     "output_type": "execute_result"
    }
   ],
   "source": [
    "sum([dados[i] for i in dados])"
   ]
  },
  {
   "cell_type": "code",
   "execution_count": 213,
   "metadata": {
    "colab": {},
    "colab_type": "code",
    "id": "lnUjKVnoD1Aw"
   },
   "outputs": [
    {
     "data": {
      "text/plain": "1267072.74"
     },
     "execution_count": 213,
     "metadata": {},
     "output_type": "execute_result"
    }
   ],
   "source": [
    "round(sum(dados.values(), 1_000_000), 2)"
   ]
  },
  {
   "cell_type": "code",
   "execution_count": 213,
   "metadata": {
    "colab": {},
    "colab_type": "code",
    "id": "WdEuYXe2D1Ay",
    "scrolled": false
   },
   "outputs": [],
   "source": []
  },
  {
   "cell_type": "code",
   "execution_count": 214,
   "metadata": {
    "colab": {},
    "colab_type": "code",
    "id": "hIA29O3tD1Az"
   },
   "outputs": [],
   "source": [
    "def media_por_parametro(patrametro_dados):\n",
    "    somatorio = sum(patrametro_dados)\n",
    "    return somatorio / len(patrametro_dados)"
   ]
  },
  {
   "cell_type": "markdown",
   "metadata": {
    "colab_type": "text",
    "id": "6w62Sl5ZD1A0"
   },
   "source": [
    "# 4.2 Definindo funções sem e com parâmetros"
   ]
  },
  {
   "cell_type": "markdown",
   "metadata": {
    "colab_type": "text",
    "id": "OADZiBP2D1A0"
   },
   "source": [
    "### Funções sem parâmetros\n",
    "\n",
    "#### Formato padrão\n",
    "\n",
    "```\n",
    "def <nome>():\n",
    "    <instruções>\n",
    "```"
   ]
  },
  {
   "cell_type": "code",
   "execution_count": 215,
   "metadata": {
    "colab": {},
    "colab_type": "code",
    "id": "uCkplEpQD1A0"
   },
   "outputs": [
    {
     "data": {
      "text/plain": "89024.24666666666"
     },
     "execution_count": 215,
     "metadata": {},
     "output_type": "execute_result"
    }
   ],
   "source": [
    "def media():\n",
    "    return media_por_parametro(dados.values())\n",
    "\n",
    "media()\n"
   ]
  },
  {
   "cell_type": "code",
   "execution_count": 215,
   "metadata": {
    "colab": {},
    "colab_type": "code",
    "id": "fOCEGq5VD1A1"
   },
   "outputs": [],
   "source": []
  },
  {
   "cell_type": "markdown",
   "metadata": {
    "colab_type": "text",
    "id": "PwSlYSVAD1A2"
   },
   "source": [
    "### Funções com parâmetros\n",
    "\n",
    "#### Formato padrão\n",
    "\n",
    "```\n",
    "def <nome>(<param_1>, <param_2>, ..., <param_n>):\n",
    "    <instruções>\n",
    "```"
   ]
  },
  {
   "cell_type": "code",
   "execution_count": 216,
   "metadata": {
    "colab": {},
    "colab_type": "code",
    "id": "A3YnBUduD1A3"
   },
   "outputs": [],
   "source": [
    "def media_por_parametro(patrametro_dados):\n",
    "    somatorio = sum(patrametro_dados)\n",
    "    return somatorio / len(patrametro_dados)"
   ]
  },
  {
   "cell_type": "code",
   "execution_count": 217,
   "metadata": {
    "colab": {},
    "colab_type": "code",
    "id": "rGUZbRERD1A3"
   },
   "outputs": [
    {
     "data": {
      "text/plain": "89024.24666666666"
     },
     "execution_count": 217,
     "metadata": {},
     "output_type": "execute_result"
    }
   ],
   "source": [
    "media_por_parametro(dados.values())"
   ]
  },
  {
   "cell_type": "code",
   "execution_count": 217,
   "metadata": {
    "colab": {},
    "colab_type": "code",
    "id": "B9WDlRE7D1A5"
   },
   "outputs": [],
   "source": []
  },
  {
   "cell_type": "code",
   "execution_count": 217,
   "metadata": {
    "colab": {},
    "colab_type": "code",
    "id": "1HAy8OK_D1A6"
   },
   "outputs": [],
   "source": []
  },
  {
   "cell_type": "code",
   "execution_count": 217,
   "metadata": {
    "colab": {},
    "colab_type": "code",
    "id": "_CDa4oOfD1A6"
   },
   "outputs": [],
   "source": []
  },
  {
   "cell_type": "code",
   "execution_count": 217,
   "metadata": {
    "colab": {},
    "colab_type": "code",
    "id": "xH-mxqYAD1A8"
   },
   "outputs": [],
   "source": []
  },
  {
   "cell_type": "code",
   "execution_count": 217,
   "metadata": {
    "colab": {},
    "colab_type": "code",
    "id": "WXXC_UidD1A8"
   },
   "outputs": [],
   "source": []
  },
  {
   "cell_type": "markdown",
   "metadata": {
    "colab_type": "text",
    "id": "8zNYrmFbD1A9"
   },
   "source": [
    "# 4.3 Definindo funções que retornam valores"
   ]
  },
  {
   "cell_type": "markdown",
   "metadata": {
    "colab_type": "text",
    "id": "J44K-dMOD1A9"
   },
   "source": [
    "### Funções que retornam um valor\n",
    "\n",
    "#### Formato padrão\n",
    "\n",
    "```\n",
    "def <nome>(<param_1>, <param_2>, ..., <param_n>):\n",
    "    <instruções>\n",
    "    return <resultado>\n",
    "```"
   ]
  },
  {
   "cell_type": "code",
   "execution_count": 217,
   "metadata": {
    "colab": {},
    "colab_type": "code",
    "id": "-UG42RQJD1A9"
   },
   "outputs": [],
   "source": []
  },
  {
   "cell_type": "code",
   "execution_count": 217,
   "metadata": {
    "colab": {},
    "colab_type": "code",
    "id": "VJwdvoT5D1A-"
   },
   "outputs": [],
   "source": []
  },
  {
   "cell_type": "code",
   "execution_count": 217,
   "metadata": {
    "colab": {},
    "colab_type": "code",
    "id": "AgAeJkpND1A-"
   },
   "outputs": [],
   "source": []
  },
  {
   "cell_type": "code",
   "execution_count": 217,
   "metadata": {
    "colab": {},
    "colab_type": "code",
    "id": "_r616TevD1A_"
   },
   "outputs": [],
   "source": []
  },
  {
   "cell_type": "markdown",
   "metadata": {
    "colab_type": "text",
    "id": "MQaK8GV5D1BA"
   },
   "source": [
    "### Funções que retornam mais de um valor\n",
    "\n",
    "#### Formato padrão\n",
    "\n",
    "```\n",
    "def <nome>(<param_1>, <param_2>, ..., <param_n>):\n",
    "    <instruções>\n",
    "    return (<resultado_1>, <resultado_2>, ..., <resultado_n>)\n",
    "```"
   ]
  },
  {
   "cell_type": "code",
   "execution_count": 218,
   "metadata": {
    "colab": {},
    "colab_type": "code",
    "id": "v0PUMegVD1BA"
   },
   "outputs": [],
   "source": [
    "def retornar_mais_valores():\n",
    "    return [1,2,3], media_por_parametro([1,2,3]), [4,5,6], media_por_parametro([4,5,6])"
   ]
  },
  {
   "cell_type": "code",
   "execution_count": 219,
   "metadata": {
    "colab": {},
    "colab_type": "code",
    "id": "Ys-etom8D1BA"
   },
   "outputs": [
    {
     "data": {
      "text/plain": "([1, 2, 3], 2.0, [4, 5, 6], 5.0)"
     },
     "execution_count": 219,
     "metadata": {},
     "output_type": "execute_result"
    }
   ],
   "source": [
    "retornar_mais_valores()"
   ]
  },
  {
   "cell_type": "code",
   "execution_count": 219,
   "metadata": {
    "colab": {},
    "colab_type": "code",
    "id": "LERrvkMHD1BC"
   },
   "outputs": [],
   "source": []
  },
  {
   "cell_type": "code",
   "execution_count": 219,
   "metadata": {
    "colab": {},
    "colab_type": "code",
    "id": "sqoFOWSsD1BC"
   },
   "outputs": [],
   "source": []
  },
  {
   "cell_type": "code",
   "execution_count": 219,
   "metadata": {
    "colab": {},
    "colab_type": "code",
    "id": "NdB_Jyw_D1BD"
   },
   "outputs": [],
   "source": []
  },
  {
   "cell_type": "markdown",
   "metadata": {
    "colab_type": "text",
    "id": "uQ5lNnKrD1BD"
   },
   "source": [
    "# <font color=green> 5. PANDAS BÁSICO\n",
    "---\n",
    "\n",
    "**versão: 0.25.2**\n",
    "  \n",
    "Pandas é uma ferramenta de manipulação de dados de alto nível, construída com base no pacote Numpy. O pacote pandas possui estruturas de dados bastante interessantes para manipulação de dados e por isso é muito utilizado por cientistas de dados.\n",
    "\n",
    "\n",
    "## Estruturas de Dados\n",
    "\n",
    "### Series\n",
    "\n",
    "Series são arrays unidimensionais rotulados capazes de armazenar qualquer tipo de dado. Os rótulos das linhas são chamados de **index**. A forma básica de criação de uma Series é a seguinte:\n",
    "\n",
    "\n",
    "```\n",
    "    s = pd.Series(dados, index = index)\n",
    "```\n",
    "\n",
    "O argumento *dados* pode ser um dicionário, uma lista, um array Numpy ou uma constante.\n",
    "\n",
    "### DataFrames\n",
    "\n",
    "DataFrame é uma estrutura de dados tabular bidimensional com rótulos nas linha e colunas. Como a Series, os DataFrames são capazes de armazenar qualquer tipo de dados.\n",
    "\n",
    "\n",
    "```\n",
    "    df = pd.DataFrame(dados, index = index, columns = columns)\n",
    "```\n",
    "\n",
    "O argumento *dados* pode ser um dicionário, uma lista, um array Numpy, uma Series e outro DataFrame.\n",
    "\n",
    "**Documentação:** https://pandas.pydata.org/pandas-docs/version/0.25/"
   ]
  },
  {
   "cell_type": "markdown",
   "metadata": {
    "colab_type": "text",
    "id": "2qa7RC03D1BD"
   },
   "source": [
    "# 5.1 Estruturas de dados"
   ]
  },
  {
   "cell_type": "code",
   "execution_count": 220,
   "metadata": {
    "colab": {},
    "colab_type": "code",
    "id": "4QyFDeS4D1BD"
   },
   "outputs": [
    {
     "data": {
      "text/plain": "['Jetta Variant', 'Passat', 'Crossfox']"
     },
     "execution_count": 220,
     "metadata": {},
     "output_type": "execute_result"
    }
   ],
   "source": [
    "carros = [\n",
    "    'Jetta Variant',\n",
    "    'Passat',\n",
    "    'Crossfox'\n",
    "]\n",
    "carros"
   ]
  },
  {
   "cell_type": "markdown",
   "metadata": {
    "colab_type": "text",
    "id": "kIey8_OcD1BF"
   },
   "source": [
    "### Criando uma Series a partir de uma lista"
   ]
  },
  {
   "cell_type": "code",
   "execution_count": 221,
   "metadata": {
    "colab": {},
    "colab_type": "code",
    "id": "yEZR6DWiD1BF"
   },
   "outputs": [
    {
     "data": {
      "text/plain": "0    Jetta Variant\n1           Passat\n2         Crossfox\ndtype: object"
     },
     "execution_count": 221,
     "metadata": {},
     "output_type": "execute_result"
    }
   ],
   "source": [
    "import pandas as pd\n",
    "carros_series = pd.Series(carros)\n",
    "carros_series\n"
   ]
  },
  {
   "cell_type": "code",
   "execution_count": 221,
   "metadata": {
    "colab": {},
    "colab_type": "code",
    "id": "rLudWKZ_D1BF"
   },
   "outputs": [],
   "source": []
  },
  {
   "cell_type": "markdown",
   "metadata": {
    "colab_type": "text",
    "id": "VYVIKd1-D1BG"
   },
   "source": [
    "### Criando um DataFrame a partir de uma lista de dicionários"
   ]
  },
  {
   "cell_type": "code",
   "execution_count": 222,
   "metadata": {
    "colab": {},
    "colab_type": "code",
    "id": "QFNS9PckD1BG"
   },
   "outputs": [],
   "source": [
    "import pandas as pd\n",
    "dados = [\n",
    "    {'Nome': 'Jetta Variant', 'Motor': 'Motor 4.0 Turbo', 'Ano': 2003, 'Quilometragem': 44410.0, 'Zero_km': False, 'Valor': 88078.64},\n",
    "    {'Nome': 'Passat', 'Motor': 'Motor Diesel', 'Ano': 1991, 'Quilometragem': 5712.0, 'Zero_km': False, 'Valor': 106161.94},\n",
    "    {'Nome': 'Crossfox', 'Motor': 'Motor Diesel V8', 'Ano': 1990, 'Quilometragem': 37123.0, 'Zero_km': False, 'Valor': 72832.16}\n",
    "]"
   ]
  },
  {
   "cell_type": "code",
   "execution_count": 223,
   "metadata": {
    "colab": {},
    "colab_type": "code",
    "id": "WDQb9AnKD1BH"
   },
   "outputs": [
    {
     "data": {
      "text/plain": "            Nome            Motor   Ano  Quilometragem  Zero_km      Valor\n0  Jetta Variant  Motor 4.0 Turbo  2003        44410.0    False   88078.64\n1         Passat     Motor Diesel  1991         5712.0    False  106161.94\n2       Crossfox  Motor Diesel V8  1990        37123.0    False   72832.16",
      "text/html": "<div>\n<style scoped>\n    .dataframe tbody tr th:only-of-type {\n        vertical-align: middle;\n    }\n\n    .dataframe tbody tr th {\n        vertical-align: top;\n    }\n\n    .dataframe thead th {\n        text-align: right;\n    }\n</style>\n<table border=\"1\" class=\"dataframe\">\n  <thead>\n    <tr style=\"text-align: right;\">\n      <th></th>\n      <th>Nome</th>\n      <th>Motor</th>\n      <th>Ano</th>\n      <th>Quilometragem</th>\n      <th>Zero_km</th>\n      <th>Valor</th>\n    </tr>\n  </thead>\n  <tbody>\n    <tr>\n      <th>0</th>\n      <td>Jetta Variant</td>\n      <td>Motor 4.0 Turbo</td>\n      <td>2003</td>\n      <td>44410.0</td>\n      <td>False</td>\n      <td>88078.64</td>\n    </tr>\n    <tr>\n      <th>1</th>\n      <td>Passat</td>\n      <td>Motor Diesel</td>\n      <td>1991</td>\n      <td>5712.0</td>\n      <td>False</td>\n      <td>106161.94</td>\n    </tr>\n    <tr>\n      <th>2</th>\n      <td>Crossfox</td>\n      <td>Motor Diesel V8</td>\n      <td>1990</td>\n      <td>37123.0</td>\n      <td>False</td>\n      <td>72832.16</td>\n    </tr>\n  </tbody>\n</table>\n</div>"
     },
     "execution_count": 223,
     "metadata": {},
     "output_type": "execute_result"
    }
   ],
   "source": [
    "dataset = pd.DataFrame(dados)\n",
    "dataset"
   ]
  },
  {
   "cell_type": "code",
   "execution_count": 224,
   "metadata": {
    "colab": {},
    "colab_type": "code",
    "id": "-2-jGvmGD1BI"
   },
   "outputs": [
    {
     "data": {
      "text/plain": "    Ano           Nome            Motor  Zero_km  Quilometragem      Valor\n0  2003  Jetta Variant  Motor 4.0 Turbo    False        44410.0   88078.64\n1  1991         Passat     Motor Diesel    False         5712.0  106161.94\n2  1990       Crossfox  Motor Diesel V8    False        37123.0   72832.16",
      "text/html": "<div>\n<style scoped>\n    .dataframe tbody tr th:only-of-type {\n        vertical-align: middle;\n    }\n\n    .dataframe tbody tr th {\n        vertical-align: top;\n    }\n\n    .dataframe thead th {\n        text-align: right;\n    }\n</style>\n<table border=\"1\" class=\"dataframe\">\n  <thead>\n    <tr style=\"text-align: right;\">\n      <th></th>\n      <th>Ano</th>\n      <th>Nome</th>\n      <th>Motor</th>\n      <th>Zero_km</th>\n      <th>Quilometragem</th>\n      <th>Valor</th>\n    </tr>\n  </thead>\n  <tbody>\n    <tr>\n      <th>0</th>\n      <td>2003</td>\n      <td>Jetta Variant</td>\n      <td>Motor 4.0 Turbo</td>\n      <td>False</td>\n      <td>44410.0</td>\n      <td>88078.64</td>\n    </tr>\n    <tr>\n      <th>1</th>\n      <td>1991</td>\n      <td>Passat</td>\n      <td>Motor Diesel</td>\n      <td>False</td>\n      <td>5712.0</td>\n      <td>106161.94</td>\n    </tr>\n    <tr>\n      <th>2</th>\n      <td>1990</td>\n      <td>Crossfox</td>\n      <td>Motor Diesel V8</td>\n      <td>False</td>\n      <td>37123.0</td>\n      <td>72832.16</td>\n    </tr>\n  </tbody>\n</table>\n</div>"
     },
     "execution_count": 224,
     "metadata": {},
     "output_type": "execute_result"
    }
   ],
   "source": [
    "dataset[['Ano', 'Nome', 'Motor', 'Zero_km', 'Quilometragem', 'Valor']]"
   ]
  },
  {
   "cell_type": "code",
   "execution_count": 225,
   "outputs": [
    {
     "data": {
      "text/plain": "                      Nome                  Motor   Ano  Quilometragem  \\\n0            Jetta Variant        Motor 4.0 Turbo  2003        44410.0   \n1                   Passat           Motor Diesel  1991         5712.0   \n2                 Crossfox        Motor Diesel V8  1990        37123.0   \n3                      DS5        Motor 2.4 Turbo  2019            NaN   \n4         Aston Martin DB4        Motor 2.4 Turbo  2006        25757.0   \n..                     ...                    ...   ...            ...   \n253           Phantom 2013               Motor V8  2014        27505.0   \n254  Cadillac Ciel concept               Motor V8  1991        29981.0   \n255             Classe GLK  Motor 5.0 V8 Bi-Turbo  2002        52637.0   \n256       Aston Martin DB5           Motor Diesel  1996         7685.0   \n257                  Macan        Motor Diesel V6  1992        50188.0   \n\n     Zero_km                                         Acessórios      Valor  \n0      False  ['Rodas de liga', 'Travas elétricas', 'Piloto ...   88078.64  \n1      False  ['Central multimídia', 'Teto panorâmico', 'Fre...  106161.94  \n2      False  ['Piloto automático', 'Controle de estabilidad...   72832.16  \n3       True  ['Travas elétricas', '4 X 4', 'Vidros elétrico...  124549.07  \n4      False  ['Rodas de liga', '4 X 4', 'Central multimídia...   92612.10  \n..       ...                                                ...        ...  \n253    False  ['Controle de estabilidade', 'Piloto automátic...   51759.58  \n254    False  ['Bancos de couro', 'Painel digital', 'Sensor ...   51667.06  \n255    False  ['Rodas de liga', 'Controle de tração', 'Câmbi...   68934.03  \n256    False  ['Ar condicionado', '4 X 4', 'Câmbio automátic...  122110.90  \n257    False  ['Central multimídia', 'Teto panorâmico', 'Vid...   90381.47  \n\n[258 rows x 7 columns]",
      "text/html": "<div>\n<style scoped>\n    .dataframe tbody tr th:only-of-type {\n        vertical-align: middle;\n    }\n\n    .dataframe tbody tr th {\n        vertical-align: top;\n    }\n\n    .dataframe thead th {\n        text-align: right;\n    }\n</style>\n<table border=\"1\" class=\"dataframe\">\n  <thead>\n    <tr style=\"text-align: right;\">\n      <th></th>\n      <th>Nome</th>\n      <th>Motor</th>\n      <th>Ano</th>\n      <th>Quilometragem</th>\n      <th>Zero_km</th>\n      <th>Acessórios</th>\n      <th>Valor</th>\n    </tr>\n  </thead>\n  <tbody>\n    <tr>\n      <th>0</th>\n      <td>Jetta Variant</td>\n      <td>Motor 4.0 Turbo</td>\n      <td>2003</td>\n      <td>44410.0</td>\n      <td>False</td>\n      <td>['Rodas de liga', 'Travas elétricas', 'Piloto ...</td>\n      <td>88078.64</td>\n    </tr>\n    <tr>\n      <th>1</th>\n      <td>Passat</td>\n      <td>Motor Diesel</td>\n      <td>1991</td>\n      <td>5712.0</td>\n      <td>False</td>\n      <td>['Central multimídia', 'Teto panorâmico', 'Fre...</td>\n      <td>106161.94</td>\n    </tr>\n    <tr>\n      <th>2</th>\n      <td>Crossfox</td>\n      <td>Motor Diesel V8</td>\n      <td>1990</td>\n      <td>37123.0</td>\n      <td>False</td>\n      <td>['Piloto automático', 'Controle de estabilidad...</td>\n      <td>72832.16</td>\n    </tr>\n    <tr>\n      <th>3</th>\n      <td>DS5</td>\n      <td>Motor 2.4 Turbo</td>\n      <td>2019</td>\n      <td>NaN</td>\n      <td>True</td>\n      <td>['Travas elétricas', '4 X 4', 'Vidros elétrico...</td>\n      <td>124549.07</td>\n    </tr>\n    <tr>\n      <th>4</th>\n      <td>Aston Martin DB4</td>\n      <td>Motor 2.4 Turbo</td>\n      <td>2006</td>\n      <td>25757.0</td>\n      <td>False</td>\n      <td>['Rodas de liga', '4 X 4', 'Central multimídia...</td>\n      <td>92612.10</td>\n    </tr>\n    <tr>\n      <th>...</th>\n      <td>...</td>\n      <td>...</td>\n      <td>...</td>\n      <td>...</td>\n      <td>...</td>\n      <td>...</td>\n      <td>...</td>\n    </tr>\n    <tr>\n      <th>253</th>\n      <td>Phantom 2013</td>\n      <td>Motor V8</td>\n      <td>2014</td>\n      <td>27505.0</td>\n      <td>False</td>\n      <td>['Controle de estabilidade', 'Piloto automátic...</td>\n      <td>51759.58</td>\n    </tr>\n    <tr>\n      <th>254</th>\n      <td>Cadillac Ciel concept</td>\n      <td>Motor V8</td>\n      <td>1991</td>\n      <td>29981.0</td>\n      <td>False</td>\n      <td>['Bancos de couro', 'Painel digital', 'Sensor ...</td>\n      <td>51667.06</td>\n    </tr>\n    <tr>\n      <th>255</th>\n      <td>Classe GLK</td>\n      <td>Motor 5.0 V8 Bi-Turbo</td>\n      <td>2002</td>\n      <td>52637.0</td>\n      <td>False</td>\n      <td>['Rodas de liga', 'Controle de tração', 'Câmbi...</td>\n      <td>68934.03</td>\n    </tr>\n    <tr>\n      <th>256</th>\n      <td>Aston Martin DB5</td>\n      <td>Motor Diesel</td>\n      <td>1996</td>\n      <td>7685.0</td>\n      <td>False</td>\n      <td>['Ar condicionado', '4 X 4', 'Câmbio automátic...</td>\n      <td>122110.90</td>\n    </tr>\n    <tr>\n      <th>257</th>\n      <td>Macan</td>\n      <td>Motor Diesel V6</td>\n      <td>1992</td>\n      <td>50188.0</td>\n      <td>False</td>\n      <td>['Central multimídia', 'Teto panorâmico', 'Vid...</td>\n      <td>90381.47</td>\n    </tr>\n  </tbody>\n</table>\n<p>258 rows × 7 columns</p>\n</div>"
     },
     "execution_count": 225,
     "metadata": {},
     "output_type": "execute_result"
    }
   ],
   "source": [
    "dataset = pd.read_csv('data/db.csv', sep=';')\n",
    "dataset"
   ],
   "metadata": {
    "collapsed": false,
    "pycharm": {
     "name": "#%%\n"
    }
   }
  },
  {
   "cell_type": "code",
   "execution_count": 226,
   "metadata": {
    "colab": {},
    "colab_type": "code",
    "id": "2kbyOThiD1BJ"
   },
   "outputs": [
    {
     "data": {
      "text/plain": "                                       Motor   Ano  Quilometragem  Zero_km  \\\nNome                                                                         \nJetta Variant                Motor 4.0 Turbo  2003        44410.0    False   \nPassat                          Motor Diesel  1991         5712.0    False   \nCrossfox                     Motor Diesel V8  1990        37123.0    False   \nDS5                          Motor 2.4 Turbo  2019            NaN     True   \nAston Martin DB4             Motor 2.4 Turbo  2006        25757.0    False   \n...                                      ...   ...            ...      ...   \nPhantom 2013                        Motor V8  2014        27505.0    False   \nCadillac Ciel concept               Motor V8  1991        29981.0    False   \nClasse GLK             Motor 5.0 V8 Bi-Turbo  2002        52637.0    False   \nAston Martin DB5                Motor Diesel  1996         7685.0    False   \nMacan                        Motor Diesel V6  1992        50188.0    False   \n\n                                                              Acessórios  \\\nNome                                                                       \nJetta Variant          ['Rodas de liga', 'Travas elétricas', 'Piloto ...   \nPassat                 ['Central multimídia', 'Teto panorâmico', 'Fre...   \nCrossfox               ['Piloto automático', 'Controle de estabilidad...   \nDS5                    ['Travas elétricas', '4 X 4', 'Vidros elétrico...   \nAston Martin DB4       ['Rodas de liga', '4 X 4', 'Central multimídia...   \n...                                                                  ...   \nPhantom 2013           ['Controle de estabilidade', 'Piloto automátic...   \nCadillac Ciel concept  ['Bancos de couro', 'Painel digital', 'Sensor ...   \nClasse GLK             ['Rodas de liga', 'Controle de tração', 'Câmbi...   \nAston Martin DB5       ['Ar condicionado', '4 X 4', 'Câmbio automátic...   \nMacan                  ['Central multimídia', 'Teto panorâmico', 'Vid...   \n\n                           Valor  \nNome                              \nJetta Variant           88078.64  \nPassat                 106161.94  \nCrossfox                72832.16  \nDS5                    124549.07  \nAston Martin DB4        92612.10  \n...                          ...  \nPhantom 2013            51759.58  \nCadillac Ciel concept   51667.06  \nClasse GLK              68934.03  \nAston Martin DB5       122110.90  \nMacan                   90381.47  \n\n[258 rows x 6 columns]",
      "text/html": "<div>\n<style scoped>\n    .dataframe tbody tr th:only-of-type {\n        vertical-align: middle;\n    }\n\n    .dataframe tbody tr th {\n        vertical-align: top;\n    }\n\n    .dataframe thead th {\n        text-align: right;\n    }\n</style>\n<table border=\"1\" class=\"dataframe\">\n  <thead>\n    <tr style=\"text-align: right;\">\n      <th></th>\n      <th>Motor</th>\n      <th>Ano</th>\n      <th>Quilometragem</th>\n      <th>Zero_km</th>\n      <th>Acessórios</th>\n      <th>Valor</th>\n    </tr>\n    <tr>\n      <th>Nome</th>\n      <th></th>\n      <th></th>\n      <th></th>\n      <th></th>\n      <th></th>\n      <th></th>\n    </tr>\n  </thead>\n  <tbody>\n    <tr>\n      <th>Jetta Variant</th>\n      <td>Motor 4.0 Turbo</td>\n      <td>2003</td>\n      <td>44410.0</td>\n      <td>False</td>\n      <td>['Rodas de liga', 'Travas elétricas', 'Piloto ...</td>\n      <td>88078.64</td>\n    </tr>\n    <tr>\n      <th>Passat</th>\n      <td>Motor Diesel</td>\n      <td>1991</td>\n      <td>5712.0</td>\n      <td>False</td>\n      <td>['Central multimídia', 'Teto panorâmico', 'Fre...</td>\n      <td>106161.94</td>\n    </tr>\n    <tr>\n      <th>Crossfox</th>\n      <td>Motor Diesel V8</td>\n      <td>1990</td>\n      <td>37123.0</td>\n      <td>False</td>\n      <td>['Piloto automático', 'Controle de estabilidad...</td>\n      <td>72832.16</td>\n    </tr>\n    <tr>\n      <th>DS5</th>\n      <td>Motor 2.4 Turbo</td>\n      <td>2019</td>\n      <td>NaN</td>\n      <td>True</td>\n      <td>['Travas elétricas', '4 X 4', 'Vidros elétrico...</td>\n      <td>124549.07</td>\n    </tr>\n    <tr>\n      <th>Aston Martin DB4</th>\n      <td>Motor 2.4 Turbo</td>\n      <td>2006</td>\n      <td>25757.0</td>\n      <td>False</td>\n      <td>['Rodas de liga', '4 X 4', 'Central multimídia...</td>\n      <td>92612.10</td>\n    </tr>\n    <tr>\n      <th>...</th>\n      <td>...</td>\n      <td>...</td>\n      <td>...</td>\n      <td>...</td>\n      <td>...</td>\n      <td>...</td>\n    </tr>\n    <tr>\n      <th>Phantom 2013</th>\n      <td>Motor V8</td>\n      <td>2014</td>\n      <td>27505.0</td>\n      <td>False</td>\n      <td>['Controle de estabilidade', 'Piloto automátic...</td>\n      <td>51759.58</td>\n    </tr>\n    <tr>\n      <th>Cadillac Ciel concept</th>\n      <td>Motor V8</td>\n      <td>1991</td>\n      <td>29981.0</td>\n      <td>False</td>\n      <td>['Bancos de couro', 'Painel digital', 'Sensor ...</td>\n      <td>51667.06</td>\n    </tr>\n    <tr>\n      <th>Classe GLK</th>\n      <td>Motor 5.0 V8 Bi-Turbo</td>\n      <td>2002</td>\n      <td>52637.0</td>\n      <td>False</td>\n      <td>['Rodas de liga', 'Controle de tração', 'Câmbi...</td>\n      <td>68934.03</td>\n    </tr>\n    <tr>\n      <th>Aston Martin DB5</th>\n      <td>Motor Diesel</td>\n      <td>1996</td>\n      <td>7685.0</td>\n      <td>False</td>\n      <td>['Ar condicionado', '4 X 4', 'Câmbio automátic...</td>\n      <td>122110.90</td>\n    </tr>\n    <tr>\n      <th>Macan</th>\n      <td>Motor Diesel V6</td>\n      <td>1992</td>\n      <td>50188.0</td>\n      <td>False</td>\n      <td>['Central multimídia', 'Teto panorâmico', 'Vid...</td>\n      <td>90381.47</td>\n    </tr>\n  </tbody>\n</table>\n<p>258 rows × 6 columns</p>\n</div>"
     },
     "execution_count": 226,
     "metadata": {},
     "output_type": "execute_result"
    }
   ],
   "source": [
    "dataset = pd.read_csv('data/db.csv', sep=';', index_col=0)\n",
    "dataset"
   ]
  },
  {
   "cell_type": "markdown",
   "metadata": {
    "colab_type": "text",
    "id": "pJK2tQgYD1BK"
   },
   "source": [
    "### Criando um DataFrame a partir de um dicionário"
   ]
  },
  {
   "cell_type": "code",
   "execution_count": 227,
   "metadata": {
    "colab": {},
    "colab_type": "code",
    "id": "WKNQwKucD1BK"
   },
   "outputs": [],
   "source": [
    "dados = {\n",
    "    'Nome': ['Jetta Variant', 'Passat', 'Crossfox'], \n",
    "    'Motor': ['Motor 4.0 Turbo', 'Motor Diesel', 'Motor Diesel V8'],\n",
    "    'Ano': [2003, 1991, 1990],\n",
    "    'Quilometragem': [44410.0, 5712.0, 37123.0],\n",
    "    'Zero_km': [False, False, False],\n",
    "    'Valor': [88078.64, 106161.94, 72832.16]\n",
    "}"
   ]
  },
  {
   "cell_type": "code",
   "execution_count": 228,
   "metadata": {
    "colab": {},
    "colab_type": "code",
    "id": "lKnuZfzcD1BK"
   },
   "outputs": [
    {
     "data": {
      "text/plain": "                             0             1                2\nNome             Jetta Variant        Passat         Crossfox\nMotor          Motor 4.0 Turbo  Motor Diesel  Motor Diesel V8\nAno                       2003          1991             1990\nQuilometragem          44410.0        5712.0          37123.0\nZero_km                  False         False            False\nValor                 88078.64     106161.94         72832.16",
      "text/html": "<div>\n<style scoped>\n    .dataframe tbody tr th:only-of-type {\n        vertical-align: middle;\n    }\n\n    .dataframe tbody tr th {\n        vertical-align: top;\n    }\n\n    .dataframe thead th {\n        text-align: right;\n    }\n</style>\n<table border=\"1\" class=\"dataframe\">\n  <thead>\n    <tr style=\"text-align: right;\">\n      <th></th>\n      <th>0</th>\n      <th>1</th>\n      <th>2</th>\n    </tr>\n  </thead>\n  <tbody>\n    <tr>\n      <th>Nome</th>\n      <td>Jetta Variant</td>\n      <td>Passat</td>\n      <td>Crossfox</td>\n    </tr>\n    <tr>\n      <th>Motor</th>\n      <td>Motor 4.0 Turbo</td>\n      <td>Motor Diesel</td>\n      <td>Motor Diesel V8</td>\n    </tr>\n    <tr>\n      <th>Ano</th>\n      <td>2003</td>\n      <td>1991</td>\n      <td>1990</td>\n    </tr>\n    <tr>\n      <th>Quilometragem</th>\n      <td>44410.0</td>\n      <td>5712.0</td>\n      <td>37123.0</td>\n    </tr>\n    <tr>\n      <th>Zero_km</th>\n      <td>False</td>\n      <td>False</td>\n      <td>False</td>\n    </tr>\n    <tr>\n      <th>Valor</th>\n      <td>88078.64</td>\n      <td>106161.94</td>\n      <td>72832.16</td>\n    </tr>\n  </tbody>\n</table>\n</div>"
     },
     "execution_count": 228,
     "metadata": {},
     "output_type": "execute_result"
    }
   ],
   "source": [
    "dataFrame = pd.DataFrame(dados)\n",
    "dataFrame.T"
   ]
  },
  {
   "cell_type": "code",
   "execution_count": 228,
   "metadata": {
    "colab": {},
    "colab_type": "code",
    "id": "PNqTytC-D1BL"
   },
   "outputs": [],
   "source": []
  },
  {
   "cell_type": "markdown",
   "metadata": {
    "colab_type": "text",
    "id": "fCCXs0reD1BL"
   },
   "source": [
    "### Criando um DataFrame a partir de uma arquivo externo"
   ]
  },
  {
   "cell_type": "code",
   "execution_count": 228,
   "metadata": {
    "colab": {},
    "colab_type": "code",
    "id": "78PRHGeZD1BL"
   },
   "outputs": [],
   "source": []
  },
  {
   "cell_type": "code",
   "execution_count": 228,
   "metadata": {
    "colab": {},
    "colab_type": "code",
    "id": "1o1YlnVPD1BM",
    "scrolled": true
   },
   "outputs": [],
   "source": []
  },
  {
   "cell_type": "markdown",
   "metadata": {
    "colab_type": "text",
    "id": "y5V-1AK-D1BN"
   },
   "source": [
    "# 5.2 Seleções com DataFrames"
   ]
  },
  {
   "cell_type": "markdown",
   "metadata": {
    "colab_type": "text",
    "id": "wZjqlHe9D1BN"
   },
   "source": [
    "### Selecionando colunas"
   ]
  },
  {
   "cell_type": "code",
   "execution_count": 229,
   "metadata": {
    "colab": {},
    "colab_type": "code",
    "id": "gM3LbtzlD1BN",
    "scrolled": true
   },
   "outputs": [
    {
     "data": {
      "text/plain": "                                       Motor   Ano  Quilometragem  Zero_km  \\\nNome                                                                         \nJetta Variant                Motor 4.0 Turbo  2003        44410.0    False   \nPassat                          Motor Diesel  1991         5712.0    False   \nCrossfox                     Motor Diesel V8  1990        37123.0    False   \nDS5                          Motor 2.4 Turbo  2019            NaN     True   \nAston Martin DB4             Motor 2.4 Turbo  2006        25757.0    False   \n...                                      ...   ...            ...      ...   \nPhantom 2013                        Motor V8  2014        27505.0    False   \nCadillac Ciel concept               Motor V8  1991        29981.0    False   \nClasse GLK             Motor 5.0 V8 Bi-Turbo  2002        52637.0    False   \nAston Martin DB5                Motor Diesel  1996         7685.0    False   \nMacan                        Motor Diesel V6  1992        50188.0    False   \n\n                                                              Acessórios  \\\nNome                                                                       \nJetta Variant          ['Rodas de liga', 'Travas elétricas', 'Piloto ...   \nPassat                 ['Central multimídia', 'Teto panorâmico', 'Fre...   \nCrossfox               ['Piloto automático', 'Controle de estabilidad...   \nDS5                    ['Travas elétricas', '4 X 4', 'Vidros elétrico...   \nAston Martin DB4       ['Rodas de liga', '4 X 4', 'Central multimídia...   \n...                                                                  ...   \nPhantom 2013           ['Controle de estabilidade', 'Piloto automátic...   \nCadillac Ciel concept  ['Bancos de couro', 'Painel digital', 'Sensor ...   \nClasse GLK             ['Rodas de liga', 'Controle de tração', 'Câmbi...   \nAston Martin DB5       ['Ar condicionado', '4 X 4', 'Câmbio automátic...   \nMacan                  ['Central multimídia', 'Teto panorâmico', 'Vid...   \n\n                           Valor  \nNome                              \nJetta Variant           88078.64  \nPassat                 106161.94  \nCrossfox                72832.16  \nDS5                    124549.07  \nAston Martin DB4        92612.10  \n...                          ...  \nPhantom 2013            51759.58  \nCadillac Ciel concept   51667.06  \nClasse GLK              68934.03  \nAston Martin DB5       122110.90  \nMacan                   90381.47  \n\n[258 rows x 6 columns]",
      "text/html": "<div>\n<style scoped>\n    .dataframe tbody tr th:only-of-type {\n        vertical-align: middle;\n    }\n\n    .dataframe tbody tr th {\n        vertical-align: top;\n    }\n\n    .dataframe thead th {\n        text-align: right;\n    }\n</style>\n<table border=\"1\" class=\"dataframe\">\n  <thead>\n    <tr style=\"text-align: right;\">\n      <th></th>\n      <th>Motor</th>\n      <th>Ano</th>\n      <th>Quilometragem</th>\n      <th>Zero_km</th>\n      <th>Acessórios</th>\n      <th>Valor</th>\n    </tr>\n    <tr>\n      <th>Nome</th>\n      <th></th>\n      <th></th>\n      <th></th>\n      <th></th>\n      <th></th>\n      <th></th>\n    </tr>\n  </thead>\n  <tbody>\n    <tr>\n      <th>Jetta Variant</th>\n      <td>Motor 4.0 Turbo</td>\n      <td>2003</td>\n      <td>44410.0</td>\n      <td>False</td>\n      <td>['Rodas de liga', 'Travas elétricas', 'Piloto ...</td>\n      <td>88078.64</td>\n    </tr>\n    <tr>\n      <th>Passat</th>\n      <td>Motor Diesel</td>\n      <td>1991</td>\n      <td>5712.0</td>\n      <td>False</td>\n      <td>['Central multimídia', 'Teto panorâmico', 'Fre...</td>\n      <td>106161.94</td>\n    </tr>\n    <tr>\n      <th>Crossfox</th>\n      <td>Motor Diesel V8</td>\n      <td>1990</td>\n      <td>37123.0</td>\n      <td>False</td>\n      <td>['Piloto automático', 'Controle de estabilidad...</td>\n      <td>72832.16</td>\n    </tr>\n    <tr>\n      <th>DS5</th>\n      <td>Motor 2.4 Turbo</td>\n      <td>2019</td>\n      <td>NaN</td>\n      <td>True</td>\n      <td>['Travas elétricas', '4 X 4', 'Vidros elétrico...</td>\n      <td>124549.07</td>\n    </tr>\n    <tr>\n      <th>Aston Martin DB4</th>\n      <td>Motor 2.4 Turbo</td>\n      <td>2006</td>\n      <td>25757.0</td>\n      <td>False</td>\n      <td>['Rodas de liga', '4 X 4', 'Central multimídia...</td>\n      <td>92612.10</td>\n    </tr>\n    <tr>\n      <th>...</th>\n      <td>...</td>\n      <td>...</td>\n      <td>...</td>\n      <td>...</td>\n      <td>...</td>\n      <td>...</td>\n    </tr>\n    <tr>\n      <th>Phantom 2013</th>\n      <td>Motor V8</td>\n      <td>2014</td>\n      <td>27505.0</td>\n      <td>False</td>\n      <td>['Controle de estabilidade', 'Piloto automátic...</td>\n      <td>51759.58</td>\n    </tr>\n    <tr>\n      <th>Cadillac Ciel concept</th>\n      <td>Motor V8</td>\n      <td>1991</td>\n      <td>29981.0</td>\n      <td>False</td>\n      <td>['Bancos de couro', 'Painel digital', 'Sensor ...</td>\n      <td>51667.06</td>\n    </tr>\n    <tr>\n      <th>Classe GLK</th>\n      <td>Motor 5.0 V8 Bi-Turbo</td>\n      <td>2002</td>\n      <td>52637.0</td>\n      <td>False</td>\n      <td>['Rodas de liga', 'Controle de tração', 'Câmbi...</td>\n      <td>68934.03</td>\n    </tr>\n    <tr>\n      <th>Aston Martin DB5</th>\n      <td>Motor Diesel</td>\n      <td>1996</td>\n      <td>7685.0</td>\n      <td>False</td>\n      <td>['Ar condicionado', '4 X 4', 'Câmbio automátic...</td>\n      <td>122110.90</td>\n    </tr>\n    <tr>\n      <th>Macan</th>\n      <td>Motor Diesel V6</td>\n      <td>1992</td>\n      <td>50188.0</td>\n      <td>False</td>\n      <td>['Central multimídia', 'Teto panorâmico', 'Vid...</td>\n      <td>90381.47</td>\n    </tr>\n  </tbody>\n</table>\n<p>258 rows × 6 columns</p>\n</div>"
     },
     "execution_count": 229,
     "metadata": {},
     "output_type": "execute_result"
    }
   ],
   "source": [
    "dataset = pd.read_csv('data/db.csv', sep=';', index_col=0)\n",
    "data_frame = pd.DataFrame(dataset)\n",
    "data_frame"
   ]
  },
  {
   "cell_type": "code",
   "execution_count": 230,
   "metadata": {
    "colab": {},
    "colab_type": "code",
    "id": "R2FWgCM_D1BO"
   },
   "outputs": [
    {
     "data": {
      "text/plain": "                            Motor   Ano  Quilometragem  Zero_km  \\\nNome                                                              \nJetta Variant     Motor 4.0 Turbo  2003        44410.0    False   \nPassat               Motor Diesel  1991         5712.0    False   \nCrossfox          Motor Diesel V8  1990        37123.0    False   \nDS5               Motor 2.4 Turbo  2019            NaN     True   \nAston Martin DB4  Motor 2.4 Turbo  2006        25757.0    False   \n\n                                                         Acessórios      Valor  \nNome                                                                            \nJetta Variant     ['Rodas de liga', 'Travas elétricas', 'Piloto ...   88078.64  \nPassat            ['Central multimídia', 'Teto panorâmico', 'Fre...  106161.94  \nCrossfox          ['Piloto automático', 'Controle de estabilidad...   72832.16  \nDS5               ['Travas elétricas', '4 X 4', 'Vidros elétrico...  124549.07  \nAston Martin DB4  ['Rodas de liga', '4 X 4', 'Central multimídia...   92612.10  ",
      "text/html": "<div>\n<style scoped>\n    .dataframe tbody tr th:only-of-type {\n        vertical-align: middle;\n    }\n\n    .dataframe tbody tr th {\n        vertical-align: top;\n    }\n\n    .dataframe thead th {\n        text-align: right;\n    }\n</style>\n<table border=\"1\" class=\"dataframe\">\n  <thead>\n    <tr style=\"text-align: right;\">\n      <th></th>\n      <th>Motor</th>\n      <th>Ano</th>\n      <th>Quilometragem</th>\n      <th>Zero_km</th>\n      <th>Acessórios</th>\n      <th>Valor</th>\n    </tr>\n    <tr>\n      <th>Nome</th>\n      <th></th>\n      <th></th>\n      <th></th>\n      <th></th>\n      <th></th>\n      <th></th>\n    </tr>\n  </thead>\n  <tbody>\n    <tr>\n      <th>Jetta Variant</th>\n      <td>Motor 4.0 Turbo</td>\n      <td>2003</td>\n      <td>44410.0</td>\n      <td>False</td>\n      <td>['Rodas de liga', 'Travas elétricas', 'Piloto ...</td>\n      <td>88078.64</td>\n    </tr>\n    <tr>\n      <th>Passat</th>\n      <td>Motor Diesel</td>\n      <td>1991</td>\n      <td>5712.0</td>\n      <td>False</td>\n      <td>['Central multimídia', 'Teto panorâmico', 'Fre...</td>\n      <td>106161.94</td>\n    </tr>\n    <tr>\n      <th>Crossfox</th>\n      <td>Motor Diesel V8</td>\n      <td>1990</td>\n      <td>37123.0</td>\n      <td>False</td>\n      <td>['Piloto automático', 'Controle de estabilidad...</td>\n      <td>72832.16</td>\n    </tr>\n    <tr>\n      <th>DS5</th>\n      <td>Motor 2.4 Turbo</td>\n      <td>2019</td>\n      <td>NaN</td>\n      <td>True</td>\n      <td>['Travas elétricas', '4 X 4', 'Vidros elétrico...</td>\n      <td>124549.07</td>\n    </tr>\n    <tr>\n      <th>Aston Martin DB4</th>\n      <td>Motor 2.4 Turbo</td>\n      <td>2006</td>\n      <td>25757.0</td>\n      <td>False</td>\n      <td>['Rodas de liga', '4 X 4', 'Central multimídia...</td>\n      <td>92612.10</td>\n    </tr>\n  </tbody>\n</table>\n</div>"
     },
     "execution_count": 230,
     "metadata": {},
     "output_type": "execute_result"
    }
   ],
   "source": [
    "data_frame.head()"
   ]
  },
  {
   "cell_type": "code",
   "execution_count": 239,
   "metadata": {
    "colab": {},
    "colab_type": "code",
    "id": "lCCumsxsD1BP",
    "scrolled": true
   },
   "outputs": [
    {
     "data": {
      "text/plain": "                            Motor   Ano  Quilometragem  Zero_km  \\\nNome                                                              \nJetta Variant     Motor 4.0 Turbo  2003        44410.0    False   \nPassat               Motor Diesel  1991         5712.0    False   \nCrossfox          Motor Diesel V8  1990        37123.0    False   \nDS5               Motor 2.4 Turbo  2019            NaN     True   \nAston Martin DB4  Motor 2.4 Turbo  2006        25757.0    False   \n\n                                                         Acessórios      Valor  \nNome                                                                            \nJetta Variant     ['Rodas de liga', 'Travas elétricas', 'Piloto ...   88078.64  \nPassat            ['Central multimídia', 'Teto panorâmico', 'Fre...  106161.94  \nCrossfox          ['Piloto automático', 'Controle de estabilidad...   72832.16  \nDS5               ['Travas elétricas', '4 X 4', 'Vidros elétrico...  124549.07  \nAston Martin DB4  ['Rodas de liga', '4 X 4', 'Central multimídia...   92612.10  ",
      "text/html": "<div>\n<style scoped>\n    .dataframe tbody tr th:only-of-type {\n        vertical-align: middle;\n    }\n\n    .dataframe tbody tr th {\n        vertical-align: top;\n    }\n\n    .dataframe thead th {\n        text-align: right;\n    }\n</style>\n<table border=\"1\" class=\"dataframe\">\n  <thead>\n    <tr style=\"text-align: right;\">\n      <th></th>\n      <th>Motor</th>\n      <th>Ano</th>\n      <th>Quilometragem</th>\n      <th>Zero_km</th>\n      <th>Acessórios</th>\n      <th>Valor</th>\n    </tr>\n    <tr>\n      <th>Nome</th>\n      <th></th>\n      <th></th>\n      <th></th>\n      <th></th>\n      <th></th>\n      <th></th>\n    </tr>\n  </thead>\n  <tbody>\n    <tr>\n      <th>Jetta Variant</th>\n      <td>Motor 4.0 Turbo</td>\n      <td>2003</td>\n      <td>44410.0</td>\n      <td>False</td>\n      <td>['Rodas de liga', 'Travas elétricas', 'Piloto ...</td>\n      <td>88078.64</td>\n    </tr>\n    <tr>\n      <th>Passat</th>\n      <td>Motor Diesel</td>\n      <td>1991</td>\n      <td>5712.0</td>\n      <td>False</td>\n      <td>['Central multimídia', 'Teto panorâmico', 'Fre...</td>\n      <td>106161.94</td>\n    </tr>\n    <tr>\n      <th>Crossfox</th>\n      <td>Motor Diesel V8</td>\n      <td>1990</td>\n      <td>37123.0</td>\n      <td>False</td>\n      <td>['Piloto automático', 'Controle de estabilidad...</td>\n      <td>72832.16</td>\n    </tr>\n    <tr>\n      <th>DS5</th>\n      <td>Motor 2.4 Turbo</td>\n      <td>2019</td>\n      <td>NaN</td>\n      <td>True</td>\n      <td>['Travas elétricas', '4 X 4', 'Vidros elétrico...</td>\n      <td>124549.07</td>\n    </tr>\n    <tr>\n      <th>Aston Martin DB4</th>\n      <td>Motor 2.4 Turbo</td>\n      <td>2006</td>\n      <td>25757.0</td>\n      <td>False</td>\n      <td>['Rodas de liga', '4 X 4', 'Central multimídia...</td>\n      <td>92612.10</td>\n    </tr>\n  </tbody>\n</table>\n</div>"
     },
     "execution_count": 239,
     "metadata": {},
     "output_type": "execute_result"
    }
   ],
   "source": [
    "data_frame[0:5]"
   ]
  },
  {
   "cell_type": "code",
   "execution_count": 232,
   "outputs": [
    {
     "data": {
      "text/plain": "                           Valor\nNome                            \nJetta Variant           88078.64\nPassat                 106161.94\nCrossfox                72832.16\nDS5                    124549.07\nAston Martin DB4        92612.10\n...                          ...\nPhantom 2013            51759.58\nCadillac Ciel concept   51667.06\nClasse GLK              68934.03\nAston Martin DB5       122110.90\nMacan                   90381.47\n\n[258 rows x 1 columns]",
      "text/html": "<div>\n<style scoped>\n    .dataframe tbody tr th:only-of-type {\n        vertical-align: middle;\n    }\n\n    .dataframe tbody tr th {\n        vertical-align: top;\n    }\n\n    .dataframe thead th {\n        text-align: right;\n    }\n</style>\n<table border=\"1\" class=\"dataframe\">\n  <thead>\n    <tr style=\"text-align: right;\">\n      <th></th>\n      <th>Valor</th>\n    </tr>\n    <tr>\n      <th>Nome</th>\n      <th></th>\n    </tr>\n  </thead>\n  <tbody>\n    <tr>\n      <th>Jetta Variant</th>\n      <td>88078.64</td>\n    </tr>\n    <tr>\n      <th>Passat</th>\n      <td>106161.94</td>\n    </tr>\n    <tr>\n      <th>Crossfox</th>\n      <td>72832.16</td>\n    </tr>\n    <tr>\n      <th>DS5</th>\n      <td>124549.07</td>\n    </tr>\n    <tr>\n      <th>Aston Martin DB4</th>\n      <td>92612.10</td>\n    </tr>\n    <tr>\n      <th>...</th>\n      <td>...</td>\n    </tr>\n    <tr>\n      <th>Phantom 2013</th>\n      <td>51759.58</td>\n    </tr>\n    <tr>\n      <th>Cadillac Ciel concept</th>\n      <td>51667.06</td>\n    </tr>\n    <tr>\n      <th>Classe GLK</th>\n      <td>68934.03</td>\n    </tr>\n    <tr>\n      <th>Aston Martin DB5</th>\n      <td>122110.90</td>\n    </tr>\n    <tr>\n      <th>Macan</th>\n      <td>90381.47</td>\n    </tr>\n  </tbody>\n</table>\n<p>258 rows × 1 columns</p>\n</div>"
     },
     "execution_count": 232,
     "metadata": {},
     "output_type": "execute_result"
    }
   ],
   "source": [
    "dataset[['Valor']]"
   ],
   "metadata": {
    "collapsed": false,
    "pycharm": {
     "name": "#%%\n"
    }
   }
  },
  {
   "cell_type": "code",
   "execution_count": 233,
   "metadata": {
    "colab": {},
    "colab_type": "code",
    "id": "zxlyC3B8D1BP"
   },
   "outputs": [
    {
     "data": {
      "text/plain": "pandas.core.frame.DataFrame"
     },
     "execution_count": 233,
     "metadata": {},
     "output_type": "execute_result"
    }
   ],
   "source": [
    "type(dataset[['Valor']])"
   ]
  },
  {
   "cell_type": "markdown",
   "metadata": {
    "colab_type": "text",
    "id": "7RPXPm1XD1BQ"
   },
   "source": [
    "### Selecionando linhas - [ i : j ] \n",
    "\n",
    "<font color=red>**Observação:**</font> A indexação tem origem no zero e nos fatiamentos (*slices*) a linha com índice i é **incluída** e a linha com índice j **não é incluída** no resultado."
   ]
  },
  {
   "cell_type": "code",
   "execution_count": 240,
   "metadata": {
    "colab": {},
    "colab_type": "code",
    "id": "PdDUwPw3D1BQ"
   },
   "outputs": [
    {
     "data": {
      "text/plain": "                         Motor   Ano  Quilometragem  Zero_km  \\\nNome                                                           \nJetta Variant  Motor 4.0 Turbo  2003        44410.0    False   \nPassat            Motor Diesel  1991         5712.0    False   \nCrossfox       Motor Diesel V8  1990        37123.0    False   \n\n                                                      Acessórios      Valor  \nNome                                                                         \nJetta Variant  ['Rodas de liga', 'Travas elétricas', 'Piloto ...   88078.64  \nPassat         ['Central multimídia', 'Teto panorâmico', 'Fre...  106161.94  \nCrossfox       ['Piloto automático', 'Controle de estabilidad...   72832.16  ",
      "text/html": "<div>\n<style scoped>\n    .dataframe tbody tr th:only-of-type {\n        vertical-align: middle;\n    }\n\n    .dataframe tbody tr th {\n        vertical-align: top;\n    }\n\n    .dataframe thead th {\n        text-align: right;\n    }\n</style>\n<table border=\"1\" class=\"dataframe\">\n  <thead>\n    <tr style=\"text-align: right;\">\n      <th></th>\n      <th>Motor</th>\n      <th>Ano</th>\n      <th>Quilometragem</th>\n      <th>Zero_km</th>\n      <th>Acessórios</th>\n      <th>Valor</th>\n    </tr>\n    <tr>\n      <th>Nome</th>\n      <th></th>\n      <th></th>\n      <th></th>\n      <th></th>\n      <th></th>\n      <th></th>\n    </tr>\n  </thead>\n  <tbody>\n    <tr>\n      <th>Jetta Variant</th>\n      <td>Motor 4.0 Turbo</td>\n      <td>2003</td>\n      <td>44410.0</td>\n      <td>False</td>\n      <td>['Rodas de liga', 'Travas elétricas', 'Piloto ...</td>\n      <td>88078.64</td>\n    </tr>\n    <tr>\n      <th>Passat</th>\n      <td>Motor Diesel</td>\n      <td>1991</td>\n      <td>5712.0</td>\n      <td>False</td>\n      <td>['Central multimídia', 'Teto panorâmico', 'Fre...</td>\n      <td>106161.94</td>\n    </tr>\n    <tr>\n      <th>Crossfox</th>\n      <td>Motor Diesel V8</td>\n      <td>1990</td>\n      <td>37123.0</td>\n      <td>False</td>\n      <td>['Piloto automático', 'Controle de estabilidad...</td>\n      <td>72832.16</td>\n    </tr>\n  </tbody>\n</table>\n</div>"
     },
     "execution_count": 240,
     "metadata": {},
     "output_type": "execute_result"
    }
   ],
   "source": [
    "dataset[0:3]"
   ]
  },
  {
   "cell_type": "markdown",
   "metadata": {
    "colab_type": "text",
    "id": "G3DMSk97D1BR"
   },
   "source": [
    "### Utilizando .loc para seleções\n",
    "\n",
    "<font color=red>**Observação:**</font> Seleciona um grupo de linhas e colunas segundo os rótulos ou uma matriz booleana."
   ]
  },
  {
   "cell_type": "code",
   "execution_count": 235,
   "metadata": {
    "colab": {},
    "colab_type": "code",
    "id": "Ftg-hNOoD1BR"
   },
   "outputs": [
    {
     "data": {
      "text/plain": "                         Motor      Valor\nNome                                     \nJetta Variant  Motor 4.0 Turbo   88078.64\nPassat            Motor Diesel  106161.94",
      "text/html": "<div>\n<style scoped>\n    .dataframe tbody tr th:only-of-type {\n        vertical-align: middle;\n    }\n\n    .dataframe tbody tr th {\n        vertical-align: top;\n    }\n\n    .dataframe thead th {\n        text-align: right;\n    }\n</style>\n<table border=\"1\" class=\"dataframe\">\n  <thead>\n    <tr style=\"text-align: right;\">\n      <th></th>\n      <th>Motor</th>\n      <th>Valor</th>\n    </tr>\n    <tr>\n      <th>Nome</th>\n      <th></th>\n      <th></th>\n    </tr>\n  </thead>\n  <tbody>\n    <tr>\n      <th>Jetta Variant</th>\n      <td>Motor 4.0 Turbo</td>\n      <td>88078.64</td>\n    </tr>\n    <tr>\n      <th>Passat</th>\n      <td>Motor Diesel</td>\n      <td>106161.94</td>\n    </tr>\n  </tbody>\n</table>\n</div>"
     },
     "execution_count": 235,
     "metadata": {},
     "output_type": "execute_result"
    }
   ],
   "source": [
    "dataset.loc[['Jetta Variant', 'Passat'], ['Motor', 'Valor']]"
   ]
  },
  {
   "cell_type": "code",
   "execution_count": 236,
   "metadata": {
    "colab": {},
    "colab_type": "code",
    "id": "xdxkDrHvD1BS"
   },
   "outputs": [
    {
     "data": {
      "text/plain": "pandas.core.frame.DataFrame"
     },
     "execution_count": 236,
     "metadata": {},
     "output_type": "execute_result"
    }
   ],
   "source": [
    "type(dataset)"
   ]
  },
  {
   "cell_type": "code",
   "execution_count": 237,
   "metadata": {
    "colab": {},
    "colab_type": "code",
    "id": "pMN3U1KjD1BS"
   },
   "outputs": [
    {
     "data": {
      "text/plain": "pandas.core.frame.DataFrame"
     },
     "execution_count": 237,
     "metadata": {},
     "output_type": "execute_result"
    }
   ],
   "source": [
    "type(data_frame)"
   ]
  },
  {
   "cell_type": "code",
   "execution_count": 242,
   "outputs": [
    {
     "data": {
      "text/plain": "Motor                                              Motor 2.4 Turbo\nAno                                                           2019\nQuilometragem                                                  NaN\nZero_km                                                       True\nAcessórios       ['Travas elétricas', '4 X 4', 'Vidros elétrico...\nValor                                                    124549.07\nName: DS5, dtype: object"
     },
     "execution_count": 242,
     "metadata": {},
     "output_type": "execute_result"
    }
   ],
   "source": [
    "data_frame.loc['DS5']"
   ],
   "metadata": {
    "collapsed": false,
    "pycharm": {
     "name": "#%%\n"
    }
   }
  },
  {
   "cell_type": "code",
   "execution_count": null,
   "metadata": {
    "colab": {},
    "colab_type": "code",
    "id": "oOEO72uZD1BT",
    "scrolled": true
   },
   "outputs": [],
   "source": []
  },
  {
   "cell_type": "markdown",
   "metadata": {
    "colab_type": "text",
    "id": "SYKEe3vCD1BT"
   },
   "source": [
    "### Utilizando .iloc para seleções\n",
    "\n",
    "<font color=red>**Observação:**</font> Seleciona com base nos índices, ou seja, se baseia na posição das informações."
   ]
  },
  {
   "cell_type": "code",
   "execution_count": 247,
   "metadata": {
    "colab": {},
    "colab_type": "code",
    "id": "U4Bru90bD1BT"
   },
   "outputs": [
    {
     "data": {
      "text/plain": "                                          Motor      Valor\nNome                                                      \nHoggar                    Motor 5.0 V8 Bi-Turbo   56373.99\nAston Martin DB7 Vantage               Motor V6  128694.23",
      "text/html": "<div>\n<style scoped>\n    .dataframe tbody tr th:only-of-type {\n        vertical-align: middle;\n    }\n\n    .dataframe tbody tr th {\n        vertical-align: top;\n    }\n\n    .dataframe thead th {\n        text-align: right;\n    }\n</style>\n<table border=\"1\" class=\"dataframe\">\n  <thead>\n    <tr style=\"text-align: right;\">\n      <th></th>\n      <th>Motor</th>\n      <th>Valor</th>\n    </tr>\n    <tr>\n      <th>Nome</th>\n      <th></th>\n      <th></th>\n    </tr>\n  </thead>\n  <tbody>\n    <tr>\n      <th>Hoggar</th>\n      <td>Motor 5.0 V8 Bi-Turbo</td>\n      <td>56373.99</td>\n    </tr>\n    <tr>\n      <th>Aston Martin DB7 Vantage</th>\n      <td>Motor V6</td>\n      <td>128694.23</td>\n    </tr>\n  </tbody>\n</table>\n</div>"
     },
     "execution_count": 247,
     "metadata": {},
     "output_type": "execute_result"
    }
   ],
   "source": [
    "data_frame.iloc[[54, 56], [0, -1]]"
   ]
  },
  {
   "cell_type": "code",
   "execution_count": null,
   "metadata": {
    "colab": {},
    "colab_type": "code",
    "id": "iLKUyrzND1BU"
   },
   "outputs": [],
   "source": []
  },
  {
   "cell_type": "code",
   "execution_count": null,
   "metadata": {
    "colab": {},
    "colab_type": "code",
    "id": "KGZpixYUD1BU"
   },
   "outputs": [],
   "source": []
  },
  {
   "cell_type": "code",
   "execution_count": null,
   "metadata": {
    "colab": {},
    "colab_type": "code",
    "id": "GxdqIz4LD1BV"
   },
   "outputs": [],
   "source": []
  },
  {
   "cell_type": "code",
   "execution_count": null,
   "metadata": {
    "colab": {},
    "colab_type": "code",
    "id": "AVIhs7uLD1BW",
    "scrolled": true
   },
   "outputs": [],
   "source": []
  },
  {
   "cell_type": "markdown",
   "metadata": {
    "colab_type": "text",
    "id": "eAbwq1oLD1BW"
   },
   "source": [
    "# 5.3 Queries com DataFrames"
   ]
  },
  {
   "cell_type": "code",
   "execution_count": 249,
   "metadata": {
    "colab": {},
    "colab_type": "code",
    "id": "AOZTWzehD1BW",
    "scrolled": true
   },
   "outputs": [
    {
     "data": {
      "text/plain": "                            Motor   Ano  Quilometragem  Zero_km  \\\nNome                                                              \nJetta Variant     Motor 4.0 Turbo  2003        44410.0    False   \nPassat               Motor Diesel  1991         5712.0    False   \nCrossfox          Motor Diesel V8  1990        37123.0    False   \nDS5               Motor 2.4 Turbo  2019            NaN     True   \nAston Martin DB4  Motor 2.4 Turbo  2006        25757.0    False   \n\n                                                         Acessórios      Valor  \nNome                                                                            \nJetta Variant     ['Rodas de liga', 'Travas elétricas', 'Piloto ...   88078.64  \nPassat            ['Central multimídia', 'Teto panorâmico', 'Fre...  106161.94  \nCrossfox          ['Piloto automático', 'Controle de estabilidad...   72832.16  \nDS5               ['Travas elétricas', '4 X 4', 'Vidros elétrico...  124549.07  \nAston Martin DB4  ['Rodas de liga', '4 X 4', 'Central multimídia...   92612.10  ",
      "text/html": "<div>\n<style scoped>\n    .dataframe tbody tr th:only-of-type {\n        vertical-align: middle;\n    }\n\n    .dataframe tbody tr th {\n        vertical-align: top;\n    }\n\n    .dataframe thead th {\n        text-align: right;\n    }\n</style>\n<table border=\"1\" class=\"dataframe\">\n  <thead>\n    <tr style=\"text-align: right;\">\n      <th></th>\n      <th>Motor</th>\n      <th>Ano</th>\n      <th>Quilometragem</th>\n      <th>Zero_km</th>\n      <th>Acessórios</th>\n      <th>Valor</th>\n    </tr>\n    <tr>\n      <th>Nome</th>\n      <th></th>\n      <th></th>\n      <th></th>\n      <th></th>\n      <th></th>\n      <th></th>\n    </tr>\n  </thead>\n  <tbody>\n    <tr>\n      <th>Jetta Variant</th>\n      <td>Motor 4.0 Turbo</td>\n      <td>2003</td>\n      <td>44410.0</td>\n      <td>False</td>\n      <td>['Rodas de liga', 'Travas elétricas', 'Piloto ...</td>\n      <td>88078.64</td>\n    </tr>\n    <tr>\n      <th>Passat</th>\n      <td>Motor Diesel</td>\n      <td>1991</td>\n      <td>5712.0</td>\n      <td>False</td>\n      <td>['Central multimídia', 'Teto panorâmico', 'Fre...</td>\n      <td>106161.94</td>\n    </tr>\n    <tr>\n      <th>Crossfox</th>\n      <td>Motor Diesel V8</td>\n      <td>1990</td>\n      <td>37123.0</td>\n      <td>False</td>\n      <td>['Piloto automático', 'Controle de estabilidad...</td>\n      <td>72832.16</td>\n    </tr>\n    <tr>\n      <th>DS5</th>\n      <td>Motor 2.4 Turbo</td>\n      <td>2019</td>\n      <td>NaN</td>\n      <td>True</td>\n      <td>['Travas elétricas', '4 X 4', 'Vidros elétrico...</td>\n      <td>124549.07</td>\n    </tr>\n    <tr>\n      <th>Aston Martin DB4</th>\n      <td>Motor 2.4 Turbo</td>\n      <td>2006</td>\n      <td>25757.0</td>\n      <td>False</td>\n      <td>['Rodas de liga', '4 X 4', 'Central multimídia...</td>\n      <td>92612.10</td>\n    </tr>\n  </tbody>\n</table>\n</div>"
     },
     "execution_count": 249,
     "metadata": {},
     "output_type": "execute_result"
    }
   ],
   "source": [
    "dataset = pd.read_csv('data/db.csv', sep=';', index_col=0)\n",
    "data_frame = pd.DataFrame(dataset)\n",
    "data_frame.head()"
   ]
  },
  {
   "cell_type": "code",
   "execution_count": 250,
   "metadata": {
    "colab": {},
    "colab_type": "code",
    "id": "rO5T4h94D1BX",
    "scrolled": true
   },
   "outputs": [
    {
     "data": {
      "text/plain": "Nome\nJetta Variant                  Motor 4.0 Turbo\nPassat                            Motor Diesel\nCrossfox                       Motor Diesel V8\nDS5                            Motor 2.4 Turbo\nAston Martin DB4               Motor 2.4 Turbo\n                                 ...          \nPhantom 2013                          Motor V8\nCadillac Ciel concept                 Motor V8\nClasse GLK               Motor 5.0 V8 Bi-Turbo\nAston Martin DB5                  Motor Diesel\nMacan                          Motor Diesel V6\nName: Motor, Length: 258, dtype: object"
     },
     "execution_count": 250,
     "metadata": {},
     "output_type": "execute_result"
    }
   ],
   "source": [
    "data_frame.Motor"
   ]
  },
  {
   "cell_type": "code",
   "execution_count": 254,
   "metadata": {
    "colab": {},
    "colab_type": "code",
    "id": "STZ-l8oaD1BX"
   },
   "outputs": [
    {
     "data": {
      "text/plain": "Nome\nJetta Variant            False\nPassat                    True\nCrossfox                 False\nDS5                      False\nAston Martin DB4         False\n                         ...  \nPhantom 2013             False\nCadillac Ciel concept    False\nClasse GLK               False\nAston Martin DB5          True\nMacan                    False\nName: Motor, Length: 258, dtype: bool"
     },
     "execution_count": 254,
     "metadata": {},
     "output_type": "execute_result"
    }
   ],
   "source": [
    "select = data_frame.Motor == 'Motor Diesel'\n",
    "select"
   ]
  },
  {
   "cell_type": "code",
   "execution_count": 255,
   "metadata": {
    "colab": {},
    "colab_type": "code",
    "id": "OZC8NAn6D1BX"
   },
   "outputs": [
    {
     "data": {
      "text/plain": "                              Motor   Ano  Quilometragem  Zero_km  \\\nNome                                                                \nPassat                 Motor Diesel  1991         5712.0    False   \nEffa Hafei Picape Baú  Motor Diesel  1991       102959.0    False   \nSorento                Motor Diesel  2019            NaN     True   \nNew Fiesta Hatch       Motor Diesel  2017       118895.0    False   \nKangoo Express         Motor Diesel  2007        29132.0    False   \nFit                    Motor Diesel  2013        44329.0    False   \nCielo Hatch            Motor Diesel  2019            NaN     True   \nSymbol                 Motor Diesel  2016       117714.0    False   \nA4 Sedan               Motor Diesel  2002        30511.0    False   \nA4 Avant               Motor Diesel  2014        17357.0    False   \nSilver Shadow          Motor Diesel  2015        99052.0    False   \nCamry                  Motor Diesel  2019            NaN     True   \nClio                   Motor Diesel  1990        66437.0    False   \nSérie 3 M3 Coupé       Motor Diesel  2013        19896.0    False   \nGallardo LP 560 – 4    Motor Diesel  2000       113045.0    False   \nChana Utility          Motor Diesel  2009        52034.0    False   \nTT Roadster            Motor Diesel  1998       107392.0    False   \nAston Martin Virage    Motor Diesel  2019            NaN     True   \nSandero                Motor Diesel  2015        34783.0    False   \nXKR                    Motor Diesel  1996        85127.0    False   \nX5                     Motor Diesel  2002        13606.0    False   \nDodge Dakota           Motor Diesel  1993        71544.0    False   \ni30 CW                 Motor Diesel  2015         8497.0    False   \nSérie 7 Sedã           Motor Diesel  2019            NaN     True   \nV60                    Motor Diesel  2004        91840.0    False   \nAston Martin DB5       Motor Diesel  1996         7685.0    False   \n\n                                                              Acessórios  \\\nNome                                                                       \nPassat                 ['Central multimídia', 'Teto panorâmico', 'Fre...   \nEffa Hafei Picape Baú  ['Controle de estabilidade', 'Painel digital',...   \nSorento                ['Sensor de chuva', 'Câmera de estacionamento'...   \nNew Fiesta Hatch       ['Sensor de estacionamento', 'Travas elétricas...   \nKangoo Express         ['Bancos de couro', 'Câmbio automático', 'Pilo...   \nFit                    ['Freios ABS', 'Câmera de estacionamento', 'Câ...   \nCielo Hatch            ['Painel digital', 'Central multimídia', 'Câme...   \nSymbol                 ['4 X 4', 'Piloto automático', 'Sensor crepusc...   \nA4 Sedan               ['Câmera de estacionamento', '4 X 4', 'Travas ...   \nA4 Avant               ['Teto panorâmico', '4 X 4', 'Bancos de couro'...   \nSilver Shadow          ['4 X 4', 'Central multimídia', 'Ar condiciona...   \nCamry                  ['Travas elétricas', 'Rodas de liga', 'Sensor ...   \nClio                   ['4 X 4', 'Câmbio automático', 'Freios ABS', '...   \nSérie 3 M3 Coupé       ['Bancos de couro', 'Sensor de chuva', 'Ar con...   \nGallardo LP 560 – 4    ['Freios ABS', 'Teto panorâmico', 'Central mul...   \nChana Utility          ['Ar condicionado', 'Sensor de estacionamento'...   \nTT Roadster            ['Ar condicionado', 'Sensor de estacionamento'...   \nAston Martin Virage    ['Travas elétricas', 'Controle de tração', 'Câ...   \nSandero                ['Piloto automático', 'Teto panorâmico', 'Câmb...   \nXKR                    ['Controle de tração', 'Ar condicionado', 'Tra...   \nX5                     ['Controle de tração', 'Piloto automático', 'T...   \nDodge Dakota           ['Controle de tração', 'Sensor de estacionamen...   \ni30 CW                 ['Sensor de chuva', 'Vidros elétricos', 'Contr...   \nSérie 7 Sedã           ['Vidros elétricos', 'Travas elétricas', 'Roda...   \nV60                    ['Rodas de liga', 'Sensor crepuscular', 'Ar co...   \nAston Martin DB5       ['Ar condicionado', '4 X 4', 'Câmbio automátic...   \n\n                           Valor  \nNome                              \nPassat                 106161.94  \nEffa Hafei Picape Baú  125684.65  \nSorento                 81399.35  \nNew Fiesta Hatch        66007.16  \nKangoo Express         146716.91  \nFit                     77836.23  \nCielo Hatch            145197.70  \nSymbol                 133030.60  \nA4 Sedan                96369.04  \nA4 Avant               138946.88  \nSilver Shadow          143568.22  \nCamry                  138597.27  \nClio                   111130.33  \nSérie 3 M3 Coupé        69219.89  \nGallardo LP 560 – 4    144118.91  \nChana Utility          132662.32  \nTT Roadster             85311.40  \nAston Martin Virage     97290.18  \nSandero                112350.61  \nXKR                     54263.16  \nX5                      62041.32  \nDodge Dakota           141083.35  \ni30 CW                  73311.75  \nSérie 7 Sedã            67539.79  \nV60                    114728.74  \nAston Martin DB5       122110.90  ",
      "text/html": "<div>\n<style scoped>\n    .dataframe tbody tr th:only-of-type {\n        vertical-align: middle;\n    }\n\n    .dataframe tbody tr th {\n        vertical-align: top;\n    }\n\n    .dataframe thead th {\n        text-align: right;\n    }\n</style>\n<table border=\"1\" class=\"dataframe\">\n  <thead>\n    <tr style=\"text-align: right;\">\n      <th></th>\n      <th>Motor</th>\n      <th>Ano</th>\n      <th>Quilometragem</th>\n      <th>Zero_km</th>\n      <th>Acessórios</th>\n      <th>Valor</th>\n    </tr>\n    <tr>\n      <th>Nome</th>\n      <th></th>\n      <th></th>\n      <th></th>\n      <th></th>\n      <th></th>\n      <th></th>\n    </tr>\n  </thead>\n  <tbody>\n    <tr>\n      <th>Passat</th>\n      <td>Motor Diesel</td>\n      <td>1991</td>\n      <td>5712.0</td>\n      <td>False</td>\n      <td>['Central multimídia', 'Teto panorâmico', 'Fre...</td>\n      <td>106161.94</td>\n    </tr>\n    <tr>\n      <th>Effa Hafei Picape Baú</th>\n      <td>Motor Diesel</td>\n      <td>1991</td>\n      <td>102959.0</td>\n      <td>False</td>\n      <td>['Controle de estabilidade', 'Painel digital',...</td>\n      <td>125684.65</td>\n    </tr>\n    <tr>\n      <th>Sorento</th>\n      <td>Motor Diesel</td>\n      <td>2019</td>\n      <td>NaN</td>\n      <td>True</td>\n      <td>['Sensor de chuva', 'Câmera de estacionamento'...</td>\n      <td>81399.35</td>\n    </tr>\n    <tr>\n      <th>New Fiesta Hatch</th>\n      <td>Motor Diesel</td>\n      <td>2017</td>\n      <td>118895.0</td>\n      <td>False</td>\n      <td>['Sensor de estacionamento', 'Travas elétricas...</td>\n      <td>66007.16</td>\n    </tr>\n    <tr>\n      <th>Kangoo Express</th>\n      <td>Motor Diesel</td>\n      <td>2007</td>\n      <td>29132.0</td>\n      <td>False</td>\n      <td>['Bancos de couro', 'Câmbio automático', 'Pilo...</td>\n      <td>146716.91</td>\n    </tr>\n    <tr>\n      <th>Fit</th>\n      <td>Motor Diesel</td>\n      <td>2013</td>\n      <td>44329.0</td>\n      <td>False</td>\n      <td>['Freios ABS', 'Câmera de estacionamento', 'Câ...</td>\n      <td>77836.23</td>\n    </tr>\n    <tr>\n      <th>Cielo Hatch</th>\n      <td>Motor Diesel</td>\n      <td>2019</td>\n      <td>NaN</td>\n      <td>True</td>\n      <td>['Painel digital', 'Central multimídia', 'Câme...</td>\n      <td>145197.70</td>\n    </tr>\n    <tr>\n      <th>Symbol</th>\n      <td>Motor Diesel</td>\n      <td>2016</td>\n      <td>117714.0</td>\n      <td>False</td>\n      <td>['4 X 4', 'Piloto automático', 'Sensor crepusc...</td>\n      <td>133030.60</td>\n    </tr>\n    <tr>\n      <th>A4 Sedan</th>\n      <td>Motor Diesel</td>\n      <td>2002</td>\n      <td>30511.0</td>\n      <td>False</td>\n      <td>['Câmera de estacionamento', '4 X 4', 'Travas ...</td>\n      <td>96369.04</td>\n    </tr>\n    <tr>\n      <th>A4 Avant</th>\n      <td>Motor Diesel</td>\n      <td>2014</td>\n      <td>17357.0</td>\n      <td>False</td>\n      <td>['Teto panorâmico', '4 X 4', 'Bancos de couro'...</td>\n      <td>138946.88</td>\n    </tr>\n    <tr>\n      <th>Silver Shadow</th>\n      <td>Motor Diesel</td>\n      <td>2015</td>\n      <td>99052.0</td>\n      <td>False</td>\n      <td>['4 X 4', 'Central multimídia', 'Ar condiciona...</td>\n      <td>143568.22</td>\n    </tr>\n    <tr>\n      <th>Camry</th>\n      <td>Motor Diesel</td>\n      <td>2019</td>\n      <td>NaN</td>\n      <td>True</td>\n      <td>['Travas elétricas', 'Rodas de liga', 'Sensor ...</td>\n      <td>138597.27</td>\n    </tr>\n    <tr>\n      <th>Clio</th>\n      <td>Motor Diesel</td>\n      <td>1990</td>\n      <td>66437.0</td>\n      <td>False</td>\n      <td>['4 X 4', 'Câmbio automático', 'Freios ABS', '...</td>\n      <td>111130.33</td>\n    </tr>\n    <tr>\n      <th>Série 3 M3 Coupé</th>\n      <td>Motor Diesel</td>\n      <td>2013</td>\n      <td>19896.0</td>\n      <td>False</td>\n      <td>['Bancos de couro', 'Sensor de chuva', 'Ar con...</td>\n      <td>69219.89</td>\n    </tr>\n    <tr>\n      <th>Gallardo LP 560 – 4</th>\n      <td>Motor Diesel</td>\n      <td>2000</td>\n      <td>113045.0</td>\n      <td>False</td>\n      <td>['Freios ABS', 'Teto panorâmico', 'Central mul...</td>\n      <td>144118.91</td>\n    </tr>\n    <tr>\n      <th>Chana Utility</th>\n      <td>Motor Diesel</td>\n      <td>2009</td>\n      <td>52034.0</td>\n      <td>False</td>\n      <td>['Ar condicionado', 'Sensor de estacionamento'...</td>\n      <td>132662.32</td>\n    </tr>\n    <tr>\n      <th>TT Roadster</th>\n      <td>Motor Diesel</td>\n      <td>1998</td>\n      <td>107392.0</td>\n      <td>False</td>\n      <td>['Ar condicionado', 'Sensor de estacionamento'...</td>\n      <td>85311.40</td>\n    </tr>\n    <tr>\n      <th>Aston Martin Virage</th>\n      <td>Motor Diesel</td>\n      <td>2019</td>\n      <td>NaN</td>\n      <td>True</td>\n      <td>['Travas elétricas', 'Controle de tração', 'Câ...</td>\n      <td>97290.18</td>\n    </tr>\n    <tr>\n      <th>Sandero</th>\n      <td>Motor Diesel</td>\n      <td>2015</td>\n      <td>34783.0</td>\n      <td>False</td>\n      <td>['Piloto automático', 'Teto panorâmico', 'Câmb...</td>\n      <td>112350.61</td>\n    </tr>\n    <tr>\n      <th>XKR</th>\n      <td>Motor Diesel</td>\n      <td>1996</td>\n      <td>85127.0</td>\n      <td>False</td>\n      <td>['Controle de tração', 'Ar condicionado', 'Tra...</td>\n      <td>54263.16</td>\n    </tr>\n    <tr>\n      <th>X5</th>\n      <td>Motor Diesel</td>\n      <td>2002</td>\n      <td>13606.0</td>\n      <td>False</td>\n      <td>['Controle de tração', 'Piloto automático', 'T...</td>\n      <td>62041.32</td>\n    </tr>\n    <tr>\n      <th>Dodge Dakota</th>\n      <td>Motor Diesel</td>\n      <td>1993</td>\n      <td>71544.0</td>\n      <td>False</td>\n      <td>['Controle de tração', 'Sensor de estacionamen...</td>\n      <td>141083.35</td>\n    </tr>\n    <tr>\n      <th>i30 CW</th>\n      <td>Motor Diesel</td>\n      <td>2015</td>\n      <td>8497.0</td>\n      <td>False</td>\n      <td>['Sensor de chuva', 'Vidros elétricos', 'Contr...</td>\n      <td>73311.75</td>\n    </tr>\n    <tr>\n      <th>Série 7 Sedã</th>\n      <td>Motor Diesel</td>\n      <td>2019</td>\n      <td>NaN</td>\n      <td>True</td>\n      <td>['Vidros elétricos', 'Travas elétricas', 'Roda...</td>\n      <td>67539.79</td>\n    </tr>\n    <tr>\n      <th>V60</th>\n      <td>Motor Diesel</td>\n      <td>2004</td>\n      <td>91840.0</td>\n      <td>False</td>\n      <td>['Rodas de liga', 'Sensor crepuscular', 'Ar co...</td>\n      <td>114728.74</td>\n    </tr>\n    <tr>\n      <th>Aston Martin DB5</th>\n      <td>Motor Diesel</td>\n      <td>1996</td>\n      <td>7685.0</td>\n      <td>False</td>\n      <td>['Ar condicionado', '4 X 4', 'Câmbio automátic...</td>\n      <td>122110.90</td>\n    </tr>\n  </tbody>\n</table>\n</div>"
     },
     "execution_count": 255,
     "metadata": {},
     "output_type": "execute_result"
    }
   ],
   "source": [
    "data_frame[select]"
   ]
  },
  {
   "cell_type": "code",
   "execution_count": 256,
   "outputs": [
    {
     "data": {
      "text/plain": "                            Motor   Ano  Quilometragem  Zero_km  \\\nNome                                                              \nSorento              Motor Diesel  2019            NaN     True   \nCielo Hatch          Motor Diesel  2019            NaN     True   \nCamry                Motor Diesel  2019            NaN     True   \nAston Martin Virage  Motor Diesel  2019            NaN     True   \nSérie 7 Sedã         Motor Diesel  2019            NaN     True   \n\n                                                            Acessórios  \\\nNome                                                                     \nSorento              ['Sensor de chuva', 'Câmera de estacionamento'...   \nCielo Hatch          ['Painel digital', 'Central multimídia', 'Câme...   \nCamry                ['Travas elétricas', 'Rodas de liga', 'Sensor ...   \nAston Martin Virage  ['Travas elétricas', 'Controle de tração', 'Câ...   \nSérie 7 Sedã         ['Vidros elétricos', 'Travas elétricas', 'Roda...   \n\n                         Valor  \nNome                            \nSorento               81399.35  \nCielo Hatch          145197.70  \nCamry                138597.27  \nAston Martin Virage   97290.18  \nSérie 7 Sedã          67539.79  ",
      "text/html": "<div>\n<style scoped>\n    .dataframe tbody tr th:only-of-type {\n        vertical-align: middle;\n    }\n\n    .dataframe tbody tr th {\n        vertical-align: top;\n    }\n\n    .dataframe thead th {\n        text-align: right;\n    }\n</style>\n<table border=\"1\" class=\"dataframe\">\n  <thead>\n    <tr style=\"text-align: right;\">\n      <th></th>\n      <th>Motor</th>\n      <th>Ano</th>\n      <th>Quilometragem</th>\n      <th>Zero_km</th>\n      <th>Acessórios</th>\n      <th>Valor</th>\n    </tr>\n    <tr>\n      <th>Nome</th>\n      <th></th>\n      <th></th>\n      <th></th>\n      <th></th>\n      <th></th>\n      <th></th>\n    </tr>\n  </thead>\n  <tbody>\n    <tr>\n      <th>Sorento</th>\n      <td>Motor Diesel</td>\n      <td>2019</td>\n      <td>NaN</td>\n      <td>True</td>\n      <td>['Sensor de chuva', 'Câmera de estacionamento'...</td>\n      <td>81399.35</td>\n    </tr>\n    <tr>\n      <th>Cielo Hatch</th>\n      <td>Motor Diesel</td>\n      <td>2019</td>\n      <td>NaN</td>\n      <td>True</td>\n      <td>['Painel digital', 'Central multimídia', 'Câme...</td>\n      <td>145197.70</td>\n    </tr>\n    <tr>\n      <th>Camry</th>\n      <td>Motor Diesel</td>\n      <td>2019</td>\n      <td>NaN</td>\n      <td>True</td>\n      <td>['Travas elétricas', 'Rodas de liga', 'Sensor ...</td>\n      <td>138597.27</td>\n    </tr>\n    <tr>\n      <th>Aston Martin Virage</th>\n      <td>Motor Diesel</td>\n      <td>2019</td>\n      <td>NaN</td>\n      <td>True</td>\n      <td>['Travas elétricas', 'Controle de tração', 'Câ...</td>\n      <td>97290.18</td>\n    </tr>\n    <tr>\n      <th>Série 7 Sedã</th>\n      <td>Motor Diesel</td>\n      <td>2019</td>\n      <td>NaN</td>\n      <td>True</td>\n      <td>['Vidros elétricos', 'Travas elétricas', 'Roda...</td>\n      <td>67539.79</td>\n    </tr>\n  </tbody>\n</table>\n</div>"
     },
     "execution_count": 256,
     "metadata": {},
     "output_type": "execute_result"
    }
   ],
   "source": [
    "data_frame[(data_frame.Motor == 'Motor Diesel') & (data_frame.Zero_km == True)]"
   ],
   "metadata": {
    "collapsed": false,
    "pycharm": {
     "name": "#%%\n"
    }
   }
  },
  {
   "cell_type": "code",
   "execution_count": null,
   "metadata": {
    "colab": {},
    "colab_type": "code",
    "id": "OzXC2M40D1BY",
    "scrolled": true
   },
   "outputs": [],
   "source": []
  },
  {
   "cell_type": "markdown",
   "metadata": {
    "colab_type": "text",
    "id": "_XKXcWO-D1BY"
   },
   "source": [
    "### Utilizando o método query"
   ]
  },
  {
   "cell_type": "code",
   "execution_count": 258,
   "metadata": {
    "colab": {},
    "colab_type": "code",
    "id": "AB9JirSoD1BY"
   },
   "outputs": [
    {
     "data": {
      "text/plain": "                            Motor   Ano  Quilometragem  Zero_km  \\\nNome                                                              \nSorento              Motor Diesel  2019            NaN     True   \nCielo Hatch          Motor Diesel  2019            NaN     True   \nCamry                Motor Diesel  2019            NaN     True   \nAston Martin Virage  Motor Diesel  2019            NaN     True   \nSérie 7 Sedã         Motor Diesel  2019            NaN     True   \n\n                                                            Acessórios  \\\nNome                                                                     \nSorento              ['Sensor de chuva', 'Câmera de estacionamento'...   \nCielo Hatch          ['Painel digital', 'Central multimídia', 'Câme...   \nCamry                ['Travas elétricas', 'Rodas de liga', 'Sensor ...   \nAston Martin Virage  ['Travas elétricas', 'Controle de tração', 'Câ...   \nSérie 7 Sedã         ['Vidros elétricos', 'Travas elétricas', 'Roda...   \n\n                         Valor  \nNome                            \nSorento               81399.35  \nCielo Hatch          145197.70  \nCamry                138597.27  \nAston Martin Virage   97290.18  \nSérie 7 Sedã          67539.79  ",
      "text/html": "<div>\n<style scoped>\n    .dataframe tbody tr th:only-of-type {\n        vertical-align: middle;\n    }\n\n    .dataframe tbody tr th {\n        vertical-align: top;\n    }\n\n    .dataframe thead th {\n        text-align: right;\n    }\n</style>\n<table border=\"1\" class=\"dataframe\">\n  <thead>\n    <tr style=\"text-align: right;\">\n      <th></th>\n      <th>Motor</th>\n      <th>Ano</th>\n      <th>Quilometragem</th>\n      <th>Zero_km</th>\n      <th>Acessórios</th>\n      <th>Valor</th>\n    </tr>\n    <tr>\n      <th>Nome</th>\n      <th></th>\n      <th></th>\n      <th></th>\n      <th></th>\n      <th></th>\n      <th></th>\n    </tr>\n  </thead>\n  <tbody>\n    <tr>\n      <th>Sorento</th>\n      <td>Motor Diesel</td>\n      <td>2019</td>\n      <td>NaN</td>\n      <td>True</td>\n      <td>['Sensor de chuva', 'Câmera de estacionamento'...</td>\n      <td>81399.35</td>\n    </tr>\n    <tr>\n      <th>Cielo Hatch</th>\n      <td>Motor Diesel</td>\n      <td>2019</td>\n      <td>NaN</td>\n      <td>True</td>\n      <td>['Painel digital', 'Central multimídia', 'Câme...</td>\n      <td>145197.70</td>\n    </tr>\n    <tr>\n      <th>Camry</th>\n      <td>Motor Diesel</td>\n      <td>2019</td>\n      <td>NaN</td>\n      <td>True</td>\n      <td>['Travas elétricas', 'Rodas de liga', 'Sensor ...</td>\n      <td>138597.27</td>\n    </tr>\n    <tr>\n      <th>Aston Martin Virage</th>\n      <td>Motor Diesel</td>\n      <td>2019</td>\n      <td>NaN</td>\n      <td>True</td>\n      <td>['Travas elétricas', 'Controle de tração', 'Câ...</td>\n      <td>97290.18</td>\n    </tr>\n    <tr>\n      <th>Série 7 Sedã</th>\n      <td>Motor Diesel</td>\n      <td>2019</td>\n      <td>NaN</td>\n      <td>True</td>\n      <td>['Vidros elétricos', 'Travas elétricas', 'Roda...</td>\n      <td>67539.79</td>\n    </tr>\n  </tbody>\n</table>\n</div>"
     },
     "execution_count": 258,
     "metadata": {},
     "output_type": "execute_result"
    }
   ],
   "source": [
    "data_frame.query('Motor == \"Motor Diesel\" and Zero_km == True')"
   ]
  },
  {
   "cell_type": "markdown",
   "metadata": {
    "colab_type": "text",
    "id": "ciJ4dw_FD1BZ"
   },
   "source": [
    "# 5.4 Iterando com DataFrames"
   ]
  },
  {
   "cell_type": "code",
   "execution_count": 259,
   "outputs": [
    {
     "data": {
      "text/plain": "                            Motor   Ano  Quilometragem  Zero_km  \\\nNome                                                              \nJetta Variant     Motor 4.0 Turbo  2003        44410.0    False   \nPassat               Motor Diesel  1991         5712.0    False   \nCrossfox          Motor Diesel V8  1990        37123.0    False   \nDS5               Motor 2.4 Turbo  2019            NaN     True   \nAston Martin DB4  Motor 2.4 Turbo  2006        25757.0    False   \n\n                                                         Acessórios      Valor  \nNome                                                                            \nJetta Variant     ['Rodas de liga', 'Travas elétricas', 'Piloto ...   88078.64  \nPassat            ['Central multimídia', 'Teto panorâmico', 'Fre...  106161.94  \nCrossfox          ['Piloto automático', 'Controle de estabilidad...   72832.16  \nDS5               ['Travas elétricas', '4 X 4', 'Vidros elétrico...  124549.07  \nAston Martin DB4  ['Rodas de liga', '4 X 4', 'Central multimídia...   92612.10  ",
      "text/html": "<div>\n<style scoped>\n    .dataframe tbody tr th:only-of-type {\n        vertical-align: middle;\n    }\n\n    .dataframe tbody tr th {\n        vertical-align: top;\n    }\n\n    .dataframe thead th {\n        text-align: right;\n    }\n</style>\n<table border=\"1\" class=\"dataframe\">\n  <thead>\n    <tr style=\"text-align: right;\">\n      <th></th>\n      <th>Motor</th>\n      <th>Ano</th>\n      <th>Quilometragem</th>\n      <th>Zero_km</th>\n      <th>Acessórios</th>\n      <th>Valor</th>\n    </tr>\n    <tr>\n      <th>Nome</th>\n      <th></th>\n      <th></th>\n      <th></th>\n      <th></th>\n      <th></th>\n      <th></th>\n    </tr>\n  </thead>\n  <tbody>\n    <tr>\n      <th>Jetta Variant</th>\n      <td>Motor 4.0 Turbo</td>\n      <td>2003</td>\n      <td>44410.0</td>\n      <td>False</td>\n      <td>['Rodas de liga', 'Travas elétricas', 'Piloto ...</td>\n      <td>88078.64</td>\n    </tr>\n    <tr>\n      <th>Passat</th>\n      <td>Motor Diesel</td>\n      <td>1991</td>\n      <td>5712.0</td>\n      <td>False</td>\n      <td>['Central multimídia', 'Teto panorâmico', 'Fre...</td>\n      <td>106161.94</td>\n    </tr>\n    <tr>\n      <th>Crossfox</th>\n      <td>Motor Diesel V8</td>\n      <td>1990</td>\n      <td>37123.0</td>\n      <td>False</td>\n      <td>['Piloto automático', 'Controle de estabilidad...</td>\n      <td>72832.16</td>\n    </tr>\n    <tr>\n      <th>DS5</th>\n      <td>Motor 2.4 Turbo</td>\n      <td>2019</td>\n      <td>NaN</td>\n      <td>True</td>\n      <td>['Travas elétricas', '4 X 4', 'Vidros elétrico...</td>\n      <td>124549.07</td>\n    </tr>\n    <tr>\n      <th>Aston Martin DB4</th>\n      <td>Motor 2.4 Turbo</td>\n      <td>2006</td>\n      <td>25757.0</td>\n      <td>False</td>\n      <td>['Rodas de liga', '4 X 4', 'Central multimídia...</td>\n      <td>92612.10</td>\n    </tr>\n  </tbody>\n</table>\n</div>"
     },
     "execution_count": 259,
     "metadata": {},
     "output_type": "execute_result"
    }
   ],
   "source": [
    "dataset = pd.read_csv('data/db.csv', sep=';', index_col=0)\n",
    "data_frame = pd.DataFrame(dataset)\n",
    "data_frame.head()"
   ],
   "metadata": {
    "collapsed": false,
    "pycharm": {
     "name": "#%%\n"
    }
   }
  },
  {
   "cell_type": "code",
   "execution_count": 261,
   "metadata": {
    "colab": {},
    "colab_type": "code",
    "id": "TKAB-g5KD1BZ"
   },
   "outputs": [
    {
     "data": {
      "text/plain": "[('Jetta Variant',\n  Motor                                              Motor 4.0 Turbo\n  Ano                                                           2003\n  Quilometragem                                              44410.0\n  Zero_km                                                      False\n  Acessórios       ['Rodas de liga', 'Travas elétricas', 'Piloto ...\n  Valor                                                     88078.64\n  Name: Jetta Variant, dtype: object),\n ('Passat',\n  Motor                                                 Motor Diesel\n  Ano                                                           1991\n  Quilometragem                                               5712.0\n  Zero_km                                                      False\n  Acessórios       ['Central multimídia', 'Teto panorâmico', 'Fre...\n  Valor                                                    106161.94\n  Name: Passat, dtype: object),\n ('Crossfox',\n  Motor                                              Motor Diesel V8\n  Ano                                                           1990\n  Quilometragem                                              37123.0\n  Zero_km                                                      False\n  Acessórios       ['Piloto automático', 'Controle de estabilidad...\n  Valor                                                     72832.16\n  Name: Crossfox, dtype: object),\n ('DS5',\n  Motor                                              Motor 2.4 Turbo\n  Ano                                                           2019\n  Quilometragem                                                  NaN\n  Zero_km                                                       True\n  Acessórios       ['Travas elétricas', '4 X 4', 'Vidros elétrico...\n  Valor                                                    124549.07\n  Name: DS5, dtype: object),\n ('Aston Martin DB4',\n  Motor                                              Motor 2.4 Turbo\n  Ano                                                           2006\n  Quilometragem                                              25757.0\n  Zero_km                                                      False\n  Acessórios       ['Rodas de liga', '4 X 4', 'Central multimídia...\n  Valor                                                      92612.1\n  Name: Aston Martin DB4, dtype: object),\n ('Palio Weekend',\n  Motor                                                Motor 1.8 16v\n  Ano                                                           2012\n  Quilometragem                                              10728.0\n  Zero_km                                                      False\n  Acessórios       ['Sensor de estacionamento', 'Teto panorâmico'...\n  Valor                                                     97497.73\n  Name: Palio Weekend, dtype: object),\n ('A5',\n  Motor                                              Motor 4.0 Turbo\n  Ano                                                           2019\n  Quilometragem                                                  NaN\n  Zero_km                                                       True\n  Acessórios       ['Câmbio automático', 'Câmera de estacionament...\n  Valor                                                      56445.2\n  Name: A5, dtype: object),\n ('Série 3 Cabrio',\n  Motor                                                 Motor 1.0 8v\n  Ano                                                           2009\n  Quilometragem                                              77599.0\n  Zero_km                                                      False\n  Acessórios       ['Controle de estabilidade', 'Sensor crepuscul...\n  Valor                                                    112310.44\n  Name: Série 3 Cabrio, dtype: object),\n ('Dodge Jorney',\n  Motor                                                Motor 3.0 32v\n  Ano                                                           2010\n  Quilometragem                                              99197.0\n  Zero_km                                                      False\n  Acessórios       ['Vidros elétricos', 'Piloto automático', 'Tet...\n  Valor                                                    120716.27\n  Name: Dodge Jorney, dtype: object),\n ('Carens',\n  Motor                                        Motor 5.0 V8 Bi-Turbo\n  Ano                                                           2011\n  Quilometragem                                              37978.0\n  Zero_km                                                      False\n  Acessórios       ['Ar condicionado', 'Painel digital', 'Central...\n  Valor                                                     76566.49\n  Name: Carens, dtype: object),\n ('Ford Edge',\n  Motor                                              Motor Diesel V6\n  Ano                                                           2002\n  Quilometragem                                              12859.0\n  Zero_km                                                      False\n  Acessórios       ['Sensor crepuscular', 'Rodas de liga', 'Teto ...\n  Valor                                                     71647.59\n  Name: Ford Edge, dtype: object),\n ('Courier',\n  Motor                                              Motor Diesel V8\n  Ano                                                           2007\n  Quilometragem                                               8052.0\n  Zero_km                                                      False\n  Acessórios       ['Central multimídia', '4 X 4', 'Piloto automá...\n  Valor                                                     73919.53\n  Name: Courier, dtype: object),\n ('S-18',\n  Motor                                                     Motor V6\n  Ano                                                           2001\n  Quilometragem                                              89773.0\n  Zero_km                                                      False\n  Acessórios       ['Bancos de couro', 'Sensor de chuva', 'Rodas ...\n  Valor                                                    112732.99\n  Name: S-18, dtype: object),\n ('J5',\n  Motor                                                     Motor V6\n  Ano                                                           2019\n  Quilometragem                                                  NaN\n  Zero_km                                                       True\n  Acessórios       ['Sensor crepuscular', 'Painel digital', 'Roda...\n  Valor                                                     53183.38\n  Name: J5, dtype: object),\n ('F-Type Coupé',\n  Motor                                        Motor 5.0 V8 Bi-Turbo\n  Ano                                                           2009\n  Quilometragem                                              41457.0\n  Zero_km                                                      False\n  Acessórios       ['Piloto automático', 'Sensor crepuscular', 'S...\n  Valor                                                    127488.42\n  Name: F-Type Coupé, dtype: object),\n ('RAM',\n  Motor                                              Motor Diesel V8\n  Ano                                                           2016\n  Quilometragem                                             115607.0\n  Zero_km                                                      False\n  Acessórios       ['Sensor crepuscular', 'Câmbio automático', 'S...\n  Valor                                                      59910.4\n  Name: RAM, dtype: object),\n ('Série 1',\n  Motor                                                Motor 3.0 32v\n  Ano                                                           2012\n  Quilometragem                                              46449.0\n  Zero_km                                                      False\n  Acessórios       ['Teto panorâmico', 'Câmera de estacionamento'...\n  Valor                                                     61118.59\n  Name: Série 1, dtype: object),\n ('A3',\n  Motor                                                 Motor 1.0 8v\n  Ano                                                           2019\n  Quilometragem                                                  NaN\n  Zero_km                                                       True\n  Acessórios       ['4 X 4', 'Piloto automático', 'Central multim...\n  Valor                                                     88552.39\n  Name: A3, dtype: object),\n ('XC90',\n  Motor                                                 Motor 1.0 8v\n  Ano                                                           2016\n  Quilometragem                                              37086.0\n  Zero_km                                                      False\n  Acessórios       ['Travas elétricas', 'Vidros elétricos', 'Teto...\n  Valor                                                     62696.69\n  Name: XC90, dtype: object),\n ('RS 3 Sportback',\n  Motor                                                Motor 3.0 32v\n  Ano                                                           2017\n  Quilometragem                                              15173.0\n  Zero_km                                                      False\n  Acessórios       ['4 X 4', 'Piloto automático', 'Central multim...\n  Valor                                                     101726.3\n  Name: RS 3 Sportback, dtype: object),\n ('Pajero Sport',\n  Motor                                                 Motor 1.0 8v\n  Ano                                                           2002\n  Quilometragem                                             101193.0\n  Zero_km                                                      False\n  Acessórios       ['Sensor de estacionamento', 'Piloto automátic...\n  Valor                                                    106147.38\n  Name: Pajero Sport, dtype: object),\n ('Série 1 M',\n  Motor                                                     Motor V8\n  Ano                                                           2019\n  Quilometragem                                                  NaN\n  Zero_km                                                       True\n  Acessórios       ['Controle de estabilidade', 'Central multimíd...\n  Valor                                                      94564.4\n  Name: Série 1 M, dtype: object),\n ('Lamborghini Obvious',\n  Motor                                              Motor Diesel V6\n  Ano                                                           1994\n  Quilometragem                                              98079.0\n  Zero_km                                                      False\n  Acessórios       ['Rodas de liga', 'Câmbio automático', 'Travas...\n  Valor                                                    133529.84\n  Name: Lamborghini Obvious, dtype: object),\n ('Effa Hafei Picape Baú',\n  Motor                                                 Motor Diesel\n  Ano                                                           1991\n  Quilometragem                                             102959.0\n  Zero_km                                                      False\n  Acessórios       ['Controle de estabilidade', 'Painel digital',...\n  Valor                                                    125684.65\n  Name: Effa Hafei Picape Baú, dtype: object),\n ('Lamborghini Murciélago',\n  Motor                                        Motor 5.0 V8 Bi-Turbo\n  Ano                                                           2019\n  Quilometragem                                                  NaN\n  Zero_km                                                       True\n  Acessórios       ['Freios ABS', 'Câmbio automático', 'Ar condic...\n  Valor                                                    121596.21\n  Name: Lamborghini Murciélago, dtype: object),\n ('Up!',\n  Motor                                              Motor Diesel V6\n  Ano                                                           2019\n  Quilometragem                                                  NaN\n  Zero_km                                                       True\n  Acessórios       ['Sensor de estacionamento', 'Vidros elétricos...\n  Valor                                                      71367.1\n  Name: Up!, dtype: object),\n ('Fiesta Rocam Sedan',\n  Motor                                              Motor 4.0 Turbo\n  Ano                                                           2016\n  Quilometragem                                               5795.0\n  Zero_km                                                      False\n  Acessórios       ['Ar condicionado', 'Bancos de couro', 'Câmbio...\n  Valor                                                     95347.75\n  Name: Fiesta Rocam Sedan, dtype: object),\n ('Sandero Stepway',\n  Motor                                                Motor 3.0 32v\n  Ano                                                           2019\n  Quilometragem                                                  NaN\n  Zero_km                                                       True\n  Acessórios       ['Freios ABS', 'Ar condicionado', 'Teto panorâ...\n  Valor                                                    105432.84\n  Name: Sandero Stepway, dtype: object),\n ('Cayman S',\n  Motor                                                Motor 3.0 32v\n  Ano                                                           2002\n  Quilometragem                                              58848.0\n  Zero_km                                                      False\n  Acessórios       ['Câmbio automático', 'Sensor de estacionament...\n  Valor                                                     57045.27\n  Name: Cayman S, dtype: object),\n ('V40',\n  Motor                                              Motor 4.0 Turbo\n  Ano                                                           1991\n  Quilometragem                                              94381.0\n  Zero_km                                                      False\n  Acessórios       ['Câmera de estacionamento', 'Sensor de estaci...\n  Valor                                                     120432.7\n  Name: V40, dtype: object),\n ('Classe SLS AMG',\n  Motor                                                 Motor 1.0 8v\n  Ano                                                           1997\n  Quilometragem                                              30163.0\n  Zero_km                                                      False\n  Acessórios       ['Sensor de estacionamento', 'Controle de esta...\n  Valor                                                      70707.2\n  Name: Classe SLS AMG, dtype: object),\n ('Gol G4',\n  Motor                                                Motor 2.0 16v\n  Ano                                                           1995\n  Quilometragem                                              53332.0\n  Zero_km                                                      False\n  Acessórios       ['Sensor crepuscular', '4 X 4', 'Vidros elétri...\n  Valor                                                     69105.18\n  Name: Gol G4, dtype: object),\n ('Linea',\n  Motor                                                 Motor 1.0 8v\n  Ano                                                           2018\n  Quilometragem                                              17720.0\n  Zero_km                                                      False\n  Acessórios       ['Piloto automático', 'Painel digital', 'Vidro...\n  Valor                                                     59358.69\n  Name: Linea, dtype: object),\n ('Ford F100',\n  Motor                                                Motor 2.0 16v\n  Ano                                                           1991\n  Quilometragem                                              33808.0\n  Zero_km                                                      False\n  Acessórios       ['Controle de tração', 'Sensor crepuscular', '...\n  Valor                                                      65955.4\n  Name: Ford F100, dtype: object),\n ('J2',\n  Motor                                                     Motor V8\n  Ano                                                           2014\n  Quilometragem                                              90684.0\n  Zero_km                                                      False\n  Acessórios       ['Teto panorâmico', 'Sensor de estacionamento'...\n  Valor                                                     60017.03\n  Name: J2, dtype: object),\n ('Aston Martin DBS',\n  Motor                                                     Motor V8\n  Ano                                                           1995\n  Quilometragem                                              43975.0\n  Zero_km                                                      False\n  Acessórios       ['Teto panorâmico', 'Piloto automático', 'Ar c...\n  Valor                                                    118909.52\n  Name: Aston Martin DBS, dtype: object),\n ('Pajero TR4',\n  Motor                                              Motor 2.4 Turbo\n  Ano                                                           2019\n  Quilometragem                                                  NaN\n  Zero_km                                                       True\n  Acessórios       ['Controle de tração', 'Bancos de couro', 'Câm...\n  Valor                                                     51606.59\n  Name: Pajero TR4, dtype: object),\n ('Polo Sedan',\n  Motor                                                     Motor V6\n  Ano                                                           2019\n  Quilometragem                                                  NaN\n  Zero_km                                                       True\n  Acessórios       ['Sensor de chuva', 'Sensor crepuscular', 'Ar ...\n  Valor                                                    123281.87\n  Name: Polo Sedan, dtype: object),\n ('California',\n  Motor                                                 Motor 1.0 8v\n  Ano                                                           2009\n  Quilometragem                                               5526.0\n  Zero_km                                                      False\n  Acessórios       ['Rodas de liga', 'Ar condicionado', 'Câmera d...\n  Valor                                                     69770.18\n  Name: California, dtype: object),\n ('S60',\n  Motor                                              Motor 2.4 Turbo\n  Ano                                                           2019\n  Quilometragem                                                  NaN\n  Zero_km                                                       True\n  Acessórios       ['Teto panorâmico', 'Freios ABS', '4 X 4', 'Ar...\n  Valor                                                    102609.54\n  Name: S60, dtype: object),\n ('Tucson',\n  Motor                                                Motor 2.0 16v\n  Ano                                                           2013\n  Quilometragem                                              93415.0\n  Zero_km                                                      False\n  Acessórios       ['Vidros elétricos', 'Sensor crepuscular', 'Fr...\n  Valor                                                     67997.19\n  Name: Tucson, dtype: object),\n ('HB20',\n  Motor                                                     Motor V6\n  Ano                                                           2003\n  Quilometragem                                              40762.0\n  Zero_km                                                      False\n  Acessórios       ['Sensor de chuva', 'Travas elétricas', 'Contr...\n  Valor                                                    135235.29\n  Name: HB20, dtype: object),\n ('Optima',\n  Motor                                                Motor 1.8 16v\n  Ano                                                           2019\n  Quilometragem                                                  NaN\n  Zero_km                                                       True\n  Acessórios       ['Central multimídia', 'Ar condicionado', 'Tet...\n  Valor                                                     86641.34\n  Name: Optima, dtype: object),\n ('Logan',\n  Motor                                              Motor 4.0 Turbo\n  Ano                                                           2002\n  Quilometragem                                              86302.0\n  Zero_km                                                      False\n  Acessórios       ['Câmera de estacionamento', 'Vidros elétricos...\n  Valor                                                    136818.39\n  Name: Logan, dtype: object),\n ('Range Rover Vogue',\n  Motor                                                 Motor 1.0 8v\n  Ano                                                           2019\n  Quilometragem                                                  NaN\n  Zero_km                                                       True\n  Acessórios       ['4 X 4', 'Vidros elétricos', 'Rodas de liga',...\n  Valor                                                    117626.73\n  Name: Range Rover Vogue, dtype: object),\n ('Sonata',\n  Motor                                        Motor 5.0 V8 Bi-Turbo\n  Ano                                                           2002\n  Quilometragem                                               9755.0\n  Zero_km                                                      False\n  Acessórios       ['Piloto automático', 'Ar condicionado', 'Vidr...\n  Valor                                                      56208.7\n  Name: Sonata, dtype: object),\n ('Ford New Fiesta Sedan',\n  Motor                                                Motor 3.0 32v\n  Ano                                                           2004\n  Quilometragem                                              69945.0\n  Zero_km                                                      False\n  Acessórios       ['Teto panorâmico', 'Painel digital', 'Ar cond...\n  Valor                                                     84222.65\n  Name: Ford New Fiesta Sedan, dtype: object),\n ('Série 5 Gran Turismo',\n  Motor                                              Motor 4.0 Turbo\n  Ano                                                           2001\n  Quilometragem                                               2395.0\n  Zero_km                                                      False\n  Acessórios       ['Controle de tração', 'Piloto automático', 'A...\n  Valor                                                     90781.65\n  Name: Série 5 Gran Turismo, dtype: object),\n ('CR-V',\n  Motor                                              Motor Diesel V8\n  Ano                                                           2019\n  Quilometragem                                                  NaN\n  Zero_km                                                       True\n  Acessórios       ['Câmbio automático', 'Central multimídia', 'V...\n  Valor                                                      64701.1\n  Name: CR-V, dtype: object),\n ('Ford EcoSport',\n  Motor                                                 Motor 1.0 8v\n  Ano                                                           2003\n  Quilometragem                                              80349.0\n  Zero_km                                                      False\n  Acessórios       ['Vidros elétricos', 'Piloto automático', 'Pai...\n  Valor                                                    126350.49\n  Name: Ford EcoSport, dtype: object),\n ('Versa',\n  Motor                                                Motor 3.0 32v\n  Ano                                                           2009\n  Quilometragem                                              85554.0\n  Zero_km                                                      False\n  Acessórios       ['Bancos de couro', 'Ar condicionado', 'Rodas ...\n  Valor                                                    148152.89\n  Name: Versa, dtype: object),\n ('Classe E',\n  Motor                                                 Motor 1.0 8v\n  Ano                                                           2006\n  Quilometragem                                              50496.0\n  Zero_km                                                      False\n  Acessórios       ['Freios ABS', 'Sensor de estacionamento', 'Ce...\n  Valor                                                    132298.83\n  Name: Classe E, dtype: object),\n ('Carnival',\n  Motor                                                     Motor V8\n  Ano                                                           2000\n  Quilometragem                                              67716.0\n  Zero_km                                                      False\n  Acessórios       ['Travas elétricas', 'Câmbio automático', 'Câm...\n  Valor                                                    137627.63\n  Name: Carnival, dtype: object),\n ('Aston Martin V8 Vantage Roadster',\n  Motor                                              Motor 2.4 Turbo\n  Ano                                                           2006\n  Quilometragem                                              93947.0\n  Zero_km                                                      False\n  Acessórios       ['Câmbio automático', 'Câmera de estacionament...\n  Valor                                                     80422.71\n  Name: Aston Martin V8 Vantage Roadster, dtype: object),\n ('Hoggar',\n  Motor                                        Motor 5.0 V8 Bi-Turbo\n  Ano                                                           2010\n  Quilometragem                                              35345.0\n  Zero_km                                                      False\n  Acessórios       ['Controle de estabilidade', 'Bancos de couro'...\n  Valor                                                     56373.99\n  Name: Hoggar, dtype: object),\n ('A1',\n  Motor                                        Motor 5.0 V8 Bi-Turbo\n  Ano                                                           1994\n  Quilometragem                                              81007.0\n  Zero_km                                                      False\n  Acessórios       ['Painel digital', 'Câmbio automático', 'Câmer...\n  Valor                                                     70846.03\n  Name: A1, dtype: object),\n ('Aston Martin DB7 Vantage',\n  Motor                                                     Motor V6\n  Ano                                                           2007\n  Quilometragem                                             119513.0\n  Zero_km                                                      False\n  Acessórios       ['Sensor crepuscular', 'Piloto automático', 'T...\n  Valor                                                    128694.23\n  Name: Aston Martin DB7 Vantage, dtype: object),\n ('CLA',\n  Motor                                                 Motor 1.0 8v\n  Ano                                                           2019\n  Quilometragem                                                  NaN\n  Zero_km                                                       True\n  Acessórios       ['Central multimídia', 'Sensor de chuva', 'Con...\n  Valor                                                    133329.19\n  Name: CLA, dtype: object),\n ('Accord',\n  Motor                                                     Motor V8\n  Ano                                                           2019\n  Quilometragem                                                  NaN\n  Zero_km                                                       True\n  Acessórios       ['Sensor de estacionamento', 'Ar condicionado'...\n  Valor                                                    131961.43\n  Name: Accord, dtype: object),\n ('EXTRA 103EX',\n  Motor                                                Motor 2.0 16v\n  Ano                                                           2019\n  Quilometragem                                                  NaN\n  Zero_km                                                       True\n  Acessórios       ['Sensor de estacionamento', 'Central multimíd...\n  Valor                                                    112033.27\n  Name: EXTRA 103EX, dtype: object),\n ('Sorento',\n  Motor                                                 Motor Diesel\n  Ano                                                           2019\n  Quilometragem                                                  NaN\n  Zero_km                                                       True\n  Acessórios       ['Sensor de chuva', 'Câmera de estacionamento'...\n  Valor                                                     81399.35\n  Name: Sorento, dtype: object),\n ('Tiggo',\n  Motor                                                Motor 3.0 32v\n  Ano                                                           2019\n  Quilometragem                                                  NaN\n  Zero_km                                                       True\n  Acessórios       ['Câmera de estacionamento', 'Freios ABS', 'Pi...\n  Valor                                                      97163.1\n  Name: Tiggo, dtype: object),\n ('New Fiesta Hatch',\n  Motor                                                 Motor Diesel\n  Ano                                                           2017\n  Quilometragem                                             118895.0\n  Zero_km                                                      False\n  Acessórios       ['Sensor de estacionamento', 'Travas elétricas...\n  Valor                                                     66007.16\n  Name: New Fiesta Hatch, dtype: object),\n ('Jeep Renegade',\n  Motor                                        Motor 5.0 V8 Bi-Turbo\n  Ano                                                           2011\n  Quilometragem                                              48509.0\n  Zero_km                                                      False\n  Acessórios       ['Vidros elétricos', 'Teto panorâmico', 'Banco...\n  Valor                                                    128776.22\n  Name: Jeep Renegade, dtype: object),\n ('Lamborghini Ankonian',\n  Motor                                                Motor 2.0 16v\n  Ano                                                           2001\n  Quilometragem                                             100912.0\n  Zero_km                                                      False\n  Acessórios       ['Bancos de couro', 'Câmera de estacionamento'...\n  Valor                                                    142623.02\n  Name: Lamborghini Ankonian, dtype: object),\n ('Space Cross',\n  Motor                                        Motor 5.0 V8 Bi-Turbo\n  Ano                                                           1996\n  Quilometragem                                              95649.0\n  Zero_km                                                      False\n  Acessórios       ['Teto panorâmico', 'Vidros elétricos', 'Senso...\n  Valor                                                    136930.13\n  Name: Space Cross, dtype: object),\n ('Touareg',\n  Motor                                                     Motor V8\n  Ano                                                           2019\n  Quilometragem                                                  NaN\n  Zero_km                                                       True\n  Acessórios       ['Controle de estabilidade', 'Piloto automátic...\n  Valor                                                     66526.61\n  Name: Touareg, dtype: object),\n ('Classe M',\n  Motor                                                 Motor 1.0 8v\n  Ano                                                           1994\n  Quilometragem                                              90495.0\n  Zero_km                                                      False\n  Acessórios       ['Central multimídia', 'Bancos de couro', 'Rod...\n  Valor                                                    114154.87\n  Name: Classe M, dtype: object),\n ('Lancer Evolution X',\n  Motor                                              Motor Diesel V6\n  Ano                                                           2019\n  Quilometragem                                                  NaN\n  Zero_km                                                       True\n  Acessórios       ['Vidros elétricos', 'Câmbio automático', 'Con...\n  Valor                                                    142392.75\n  Name: Lancer Evolution X, dtype: object),\n ('Kangoo Express',\n  Motor                                                 Motor Diesel\n  Ano                                                           2007\n  Quilometragem                                              29132.0\n  Zero_km                                                      False\n  Acessórios       ['Bancos de couro', 'Câmbio automático', 'Pilo...\n  Valor                                                    146716.91\n  Name: Kangoo Express, dtype: object),\n ('SW4',\n  Motor                                              Motor Diesel V6\n  Ano                                                           1994\n  Quilometragem                                              23802.0\n  Zero_km                                                      False\n  Acessórios       ['Sensor de chuva', 'Bancos de couro', 'Contro...\n  Valor                                                    122485.68\n  Name: SW4, dtype: object),\n ('Cadillac ELR',\n  Motor                                                 Motor 1.0 8v\n  Ano                                                           2007\n  Quilometragem                                              84992.0\n  Zero_km                                                      False\n  Acessórios       ['Sensor crepuscular', 'Travas elétricas', 'Te...\n  Valor                                                     97951.03\n  Name: Cadillac ELR, dtype: object),\n ('Doblò',\n  Motor                                                Motor 1.8 16v\n  Ano                                                           1997\n  Quilometragem                                              54395.0\n  Zero_km                                                      False\n  Acessórios       ['Câmera de estacionamento', 'Teto panorâmico'...\n  Valor                                                     78283.49\n  Name: Doblò, dtype: object),\n ('Lamborghini Egoista',\n  Motor                                                Motor 3.0 32v\n  Ano                                                           2006\n  Quilometragem                                              26731.0\n  Zero_km                                                      False\n  Acessórios       ['Rodas de liga', 'Controle de tração', 'Centr...\n  Valor                                                     83434.04\n  Name: Lamborghini Egoista, dtype: object),\n ('Fit',\n  Motor                                                 Motor Diesel\n  Ano                                                           2013\n  Quilometragem                                              44329.0\n  Zero_km                                                      False\n  Acessórios       ['Freios ABS', 'Câmera de estacionamento', 'Câ...\n  Valor                                                     77836.23\n  Name: Fit, dtype: object),\n ('C5',\n  Motor                                                Motor 2.0 16v\n  Ano                                                           1994\n  Quilometragem                                             118236.0\n  Zero_km                                                      False\n  Acessórios       ['Painel digital', 'Teto panorâmico', 'Piloto ...\n  Valor                                                     60813.92\n  Name: C5, dtype: object),\n ('Celer Hatch',\n  Motor                                                     Motor V8\n  Ano                                                           2008\n  Quilometragem                                             113808.0\n  Zero_km                                                      False\n  Acessórios       ['Controle de estabilidade', 'Câmbio automátic...\n  Valor                                                     91353.86\n  Name: Celer Hatch, dtype: object),\n ('HB20S',\n  Motor                                                     Motor V8\n  Ano                                                           2008\n  Quilometragem                                                610.0\n  Zero_km                                                      False\n  Acessórios       ['Teto panorâmico', 'Rodas de liga', 'Travas e...\n  Valor                                                    116281.21\n  Name: HB20S, dtype: object),\n ('Cielo Hatch',\n  Motor                                                 Motor Diesel\n  Ano                                                           2019\n  Quilometragem                                                  NaN\n  Zero_km                                                       True\n  Acessórios       ['Painel digital', 'Central multimídia', 'Câme...\n  Valor                                                     145197.7\n  Name: Cielo Hatch, dtype: object),\n ('Livina',\n  Motor                                                Motor 2.0 16v\n  Ano                                                           2019\n  Quilometragem                                                  NaN\n  Zero_km                                                       True\n  Acessórios       ['Sensor crepuscular', 'Câmera de estacionamen...\n  Valor                                                      50742.1\n  Name: Livina, dtype: object),\n ('Ducato',\n  Motor                                        Motor 5.0 V8 Bi-Turbo\n  Ano                                                           1999\n  Quilometragem                                              12887.0\n  Zero_km                                                      False\n  Acessórios       ['Sensor de chuva', 'Painel digital', 'Sensor ...\n  Valor                                                     73033.53\n  Name: Ducato, dtype: object),\n ('March',\n  Motor                                                     Motor V6\n  Ano                                                           2007\n  Quilometragem                                              79607.0\n  Zero_km                                                      False\n  Acessórios       ['Bancos de couro', 'Piloto automático', 'Sens...\n  Valor                                                     54332.87\n  Name: March, dtype: object),\n ('Cadillac XTS sedan',\n  Motor                                              Motor Diesel V6\n  Ano                                                           1993\n  Quilometragem                                              90924.0\n  Zero_km                                                      False\n  Acessórios       ['Ar condicionado', 'Câmbio automático', 'Sens...\n  Valor                                                     52207.45\n  Name: Cadillac XTS sedan, dtype: object),\n ('Lamborghini Centenario',\n  Motor                                                     Motor V6\n  Ano                                                           1995\n  Quilometragem                                              42733.0\n  Zero_km                                                      False\n  Acessórios       ['Central multimídia', 'Vidros elétricos', 'Se...\n  Valor                                                      63578.5\n  Name: Lamborghini Centenario, dtype: object),\n ('Hilux',\n  Motor                                        Motor 5.0 V8 Bi-Turbo\n  Ano                                                           2019\n  Quilometragem                                                  NaN\n  Zero_km                                                       True\n  Acessórios       ['4 X 4', 'Piloto automático', 'Teto panorâmic...\n  Valor                                                     64507.72\n  Name: Hilux, dtype: object),\n ('Grand Siena',\n  Motor                                              Motor Diesel V8\n  Ano                                                           2019\n  Quilometragem                                                  NaN\n  Zero_km                                                       True\n  Acessórios       ['Bancos de couro', 'Painel digital', 'Sensor ...\n  Valor                                                    115075.59\n  Name: Grand Siena, dtype: object),\n ('Symbol',\n  Motor                                                 Motor Diesel\n  Ano                                                           2016\n  Quilometragem                                             117714.0\n  Zero_km                                                      False\n  Acessórios       ['4 X 4', 'Piloto automático', 'Sensor crepusc...\n  Valor                                                     133030.6\n  Name: Symbol, dtype: object),\n ('Aston Martin V12 GT Zagato',\n  Motor                                              Motor 4.0 Turbo\n  Ano                                                           2011\n  Quilometragem                                             113885.0\n  Zero_km                                                      False\n  Acessórios       ['Central multimídia', 'Piloto automático', 'S...\n  Valor                                                    141591.86\n  Name: Aston Martin V12 GT Zagato, dtype: object),\n ('Fusion',\n  Motor                                                Motor 1.8 16v\n  Ano                                                           2019\n  Quilometragem                                                  NaN\n  Zero_km                                                       True\n  Acessórios       ['Controle de tração', 'Câmbio automático', 'F...\n  Valor                                                    100380.28\n  Name: Fusion, dtype: object),\n ('A4 Sedan',\n  Motor                                                 Motor Diesel\n  Ano                                                           2002\n  Quilometragem                                              30511.0\n  Zero_km                                                      False\n  Acessórios       ['Câmera de estacionamento', '4 X 4', 'Travas ...\n  Valor                                                     96369.04\n  Name: A4 Sedan, dtype: object),\n ('Xsara Picasso',\n  Motor                                                Motor 2.0 16v\n  Ano                                                           2013\n  Quilometragem                                              74867.0\n  Zero_km                                                      False\n  Acessórios       ['Sensor de chuva', 'Teto panorâmico', 'Centra...\n  Valor                                                    142603.84\n  Name: Xsara Picasso, dtype: object),\n ('207 SW',\n  Motor                                                Motor 3.0 32v\n  Ano                                                           2017\n  Quilometragem                                             119760.0\n  Zero_km                                                      False\n  Acessórios       ['Controle de estabilidade', 'Travas elétricas...\n  Valor                                                    117709.67\n  Name: 207 SW, dtype: object),\n ('Star',\n  Motor                                                     Motor V6\n  Ano                                                           2016\n  Quilometragem                                               8356.0\n  Zero_km                                                      False\n  Acessórios       ['Câmera de estacionamento', '4 X 4', 'Central...\n  Valor                                                    102241.54\n  Name: Star, dtype: object),\n ('Doblò Cargo',\n  Motor                                                Motor 3.0 32v\n  Ano                                                           2008\n  Quilometragem                                              64247.0\n  Zero_km                                                      False\n  Acessórios       ['Freios ABS', 'Teto panorâmico', 'Vidros elét...\n  Valor                                                     96065.38\n  Name: Doblò Cargo, dtype: object),\n ('Cadillac CTS',\n  Motor                                                Motor 1.8 16v\n  Ano                                                           2018\n  Quilometragem                                              88661.0\n  Zero_km                                                      False\n  Acessórios       ['Travas elétricas', 'Sensor de chuva', 'Freio...\n  Valor                                                     53894.61\n  Name: Cadillac CTS, dtype: object),\n ('Cayenne',\n  Motor                                                 Motor 1.0 8v\n  Ano                                                           2003\n  Quilometragem                                               4539.0\n  Zero_km                                                      False\n  Acessórios       ['Controle de tração', 'Piloto automático', 'T...\n  Valor                                                    123911.78\n  Name: Cayenne, dtype: object),\n ('Fox',\n  Motor                                              Motor 4.0 Turbo\n  Ano                                                           2003\n  Quilometragem                                             110116.0\n  Zero_km                                                      False\n  Acessórios       ['Piloto automático', 'Câmbio automático', 'Tr...\n  Valor                                                    101996.35\n  Name: Fox, dtype: object),\n ('Tiida Hatch',\n  Motor                                              Motor Diesel V6\n  Ano                                                           2004\n  Quilometragem                                              33215.0\n  Zero_km                                                      False\n  Acessórios       ['Teto panorâmico', 'Travas elétricas', 'Senso...\n  Valor                                                     83431.66\n  Name: Tiida Hatch, dtype: object),\n ('Dodge Charger',\n  Motor                                              Motor 2.4 Turbo\n  Ano                                                           2010\n  Quilometragem                                              92001.0\n  Zero_km                                                      False\n  Acessórios       ['Vidros elétricos', 'Sensor crepuscular', 'Co...\n  Valor                                                    122975.63\n  Name: Dodge Charger, dtype: object),\n ('Face',\n  Motor                                                     Motor V8\n  Ano                                                           2019\n  Quilometragem                                                  NaN\n  Zero_km                                                       True\n  Acessórios       ['Controle de estabilidade', 'Vidros elétricos...\n  Valor                                                     93227.73\n  Name: Face, dtype: object),\n ('Prius',\n  Motor                                                Motor 3.0 32v\n  Ano                                                           2006\n  Quilometragem                                              81708.0\n  Zero_km                                                      False\n  Acessórios       ['Rodas de liga', 'Bancos de couro', 'Painel d...\n  Valor                                                     58762.65\n  Name: Prius, dtype: object),\n ('Idea',\n  Motor                                                     Motor V6\n  Ano                                                           2001\n  Quilometragem                                              70641.0\n  Zero_km                                                      False\n  Acessórios       ['Central multimídia', 'Piloto automático', 'T...\n  Valor                                                    139549.67\n  Name: Idea, dtype: object),\n ('A8',\n  Motor                                                Motor 2.0 16v\n  Ano                                                           2019\n  Quilometragem                                                  NaN\n  Zero_km                                                       True\n  Acessórios       ['Painel digital', 'Teto panorâmico', 'Piloto ...\n  Valor                                                    122016.42\n  Name: A8, dtype: object),\n ('Série 1 Cabrio',\n  Motor                                                Motor 3.0 32v\n  Ano                                                           2015\n  Quilometragem                                              91277.0\n  Zero_km                                                      False\n  Acessórios       ['Vidros elétricos', 'Travas elétricas', 'Cont...\n  Valor                                                     72731.98\n  Name: Série 1 Cabrio, dtype: object),\n ('Edge',\n  Motor                                                     Motor V6\n  Ano                                                           2018\n  Quilometragem                                              26544.0\n  Zero_km                                                      False\n  Acessórios       ['Freios ABS', 'Controle de tração', 'Sensor c...\n  Valor                                                     88416.54\n  Name: Edge, dtype: object),\n ('Cadillac ATS sedan',\n  Motor                                                Motor 1.8 16v\n  Ano                                                           2017\n  Quilometragem                                              52596.0\n  Zero_km                                                      False\n  Acessórios       ['Painel digital', 'Vidros elétricos', 'Teto p...\n  Valor                                                     73873.42\n  Name: Cadillac ATS sedan, dtype: object),\n ('Lamborghini Asterion LPI 910-4',\n  Motor                                        Motor 5.0 V8 Bi-Turbo\n  Ano                                                           1992\n  Quilometragem                                              47503.0\n  Zero_km                                                      False\n  Acessórios       ['Ar condicionado', 'Painel digital', 'Control...\n  Valor                                                     70709.34\n  Name: Lamborghini Asterion LPI 910-4, dtype: object),\n ('Frontier',\n  Motor                                                     Motor V8\n  Ano                                                           2001\n  Quilometragem                                              89056.0\n  Zero_km                                                      False\n  Acessórios       ['Câmbio automático', 'Rodas de liga', 'Sensor...\n  Valor                                                     115306.5\n  Name: Frontier, dtype: object),\n ('Série 3 Sedã',\n  Motor                                                Motor 3.0 32v\n  Ano                                                           1993\n  Quilometragem                                              28834.0\n  Zero_km                                                      False\n  Acessórios       ['Controle de tração', 'Controle de estabilida...\n  Valor                                                     55924.63\n  Name: Série 3 Sedã, dtype: object),\n ('Lamborghini LM002',\n  Motor                                                Motor 1.8 16v\n  Ano                                                           1995\n  Quilometragem                                             110564.0\n  Zero_km                                                      False\n  Acessórios       ['Bancos de couro', 'Freios ABS', 'Central mul...\n  Valor                                                     85052.26\n  Name: Lamborghini LM002, dtype: object),\n ('Cadillac XLR',\n  Motor                                              Motor Diesel V8\n  Ano                                                           2003\n  Quilometragem                                              56638.0\n  Zero_km                                                      False\n  Acessórios       ['Sensor crepuscular', 'Teto panorâmico', 'Sen...\n  Valor                                                     56646.34\n  Name: Cadillac XLR, dtype: object),\n ('A4 Avant',\n  Motor                                                 Motor Diesel\n  Ano                                                           2014\n  Quilometragem                                              17357.0\n  Zero_km                                                      False\n  Acessórios       ['Teto panorâmico', '4 X 4', 'Bancos de couro'...\n  Valor                                                    138946.88\n  Name: A4 Avant, dtype: object),\n ('EcoSport',\n  Motor                                              Motor 4.0 Turbo\n  Ano                                                           2008\n  Quilometragem                                              74015.0\n  Zero_km                                                      False\n  Acessórios       ['Piloto automático', 'Sensor de estacionament...\n  Valor                                                    108256.72\n  Name: EcoSport, dtype: object),\n ('J3',\n  Motor                                                Motor 1.8 16v\n  Ano                                                           2013\n  Quilometragem                                              15196.0\n  Zero_km                                                      False\n  Acessórios       ['Controle de estabilidade', '4 X 4', 'Câmera ...\n  Valor                                                      58979.3\n  Name: J3, dtype: object),\n ('Q3',\n  Motor                                                Motor 3.0 32v\n  Ano                                                           2019\n  Quilometragem                                                  NaN\n  Zero_km                                                       True\n  Acessórios       ['Controle de estabilidade', 'Bancos de couro'...\n  Valor                                                    114727.68\n  Name: Q3, dtype: object),\n ('Aston Martin V8 Vantage',\n  Motor                                                     Motor V8\n  Ano                                                           2017\n  Quilometragem                                              10821.0\n  Zero_km                                                      False\n  Acessórios       ['Teto panorâmico', 'Controle de tração', 'Pai...\n  Valor                                                    139661.48\n  Name: Aston Martin V8 Vantage, dtype: object),\n ('Z4 Roadster',\n  Motor                                                Motor 3.0 32v\n  Ano                                                           2019\n  Quilometragem                                                  NaN\n  Zero_km                                                       True\n  Acessórios       ['Central multimídia', 'Câmbio automático', 'T...\n  Valor                                                     80382.24\n  Name: Z4 Roadster, dtype: object),\n ('Lamborghini Ferruccio',\n  Motor                                                Motor 3.0 32v\n  Ano                                                           2019\n  Quilometragem                                                  NaN\n  Zero_km                                                       True\n  Acessórios       ['Vidros elétricos', 'Piloto automático', 'Tet...\n  Valor                                                    149157.17\n  Name: Lamborghini Ferruccio, dtype: object),\n ('Ford Ka+',\n  Motor                                                Motor 1.8 16v\n  Ano                                                           2006\n  Quilometragem                                               9595.0\n  Zero_km                                                      False\n  Acessórios       ['Sensor crepuscular', 'Piloto automático', 'C...\n  Valor                                                     87830.41\n  Name: Ford Ka+, dtype: object),\n ('Silver Shadow',\n  Motor                                                 Motor Diesel\n  Ano                                                           2015\n  Quilometragem                                              99052.0\n  Zero_km                                                      False\n  Acessórios       ['4 X 4', 'Central multimídia', 'Ar condiciona...\n  Valor                                                    143568.22\n  Name: Silver Shadow, dtype: object),\n ('Classe C 63 AMG Touring',\n  Motor                                              Motor Diesel V8\n  Ano                                                           2007\n  Quilometragem                                              52389.0\n  Zero_km                                                      False\n  Acessórios       ['Central multimídia', 'Piloto automático', 'F...\n  Valor                                                    138171.85\n  Name: Classe C 63 AMG Touring, dtype: object),\n ('Discovery 4',\n  Motor                                              Motor 4.0 Turbo\n  Ano                                                           2005\n  Quilometragem                                             119945.0\n  Zero_km                                                      False\n  Acessórios       ['Freios ABS', 'Rodas de liga', 'Sensor de chu...\n  Valor                                                    115784.95\n  Name: Discovery 4, dtype: object),\n ('Veloster',\n  Motor                                              Motor Diesel V8\n  Ano                                                           2017\n  Quilometragem                                              96005.0\n  Zero_km                                                      False\n  Acessórios       ['Ar condicionado', 'Central multimídia', 'Ban...\n  Valor                                                    146508.99\n  Name: Veloster, dtype: object),\n ('Classe C',\n  Motor                                              Motor Diesel V6\n  Ano                                                           1998\n  Quilometragem                                              31639.0\n  Zero_km                                                      False\n  Acessórios       ['Freios ABS', 'Sensor de chuva', 'Central mul...\n  Valor                                                    137670.23\n  Name: Classe C, dtype: object),\n ('Camry',\n  Motor                                                 Motor Diesel\n  Ano                                                           2019\n  Quilometragem                                                  NaN\n  Zero_km                                                       True\n  Acessórios       ['Travas elétricas', 'Rodas de liga', 'Sensor ...\n  Valor                                                    138597.27\n  Name: Camry, dtype: object),\n ('C5 Tourer',\n  Motor                                              Motor Diesel V6\n  Ano                                                           1999\n  Quilometragem                                              80187.0\n  Zero_km                                                      False\n  Acessórios       ['Rodas de liga', 'Sensor de chuva', 'Painel d...\n  Valor                                                    147627.81\n  Name: C5 Tourer, dtype: object),\n ('R8 GT',\n  Motor                                              Motor 4.0 Turbo\n  Ano                                                           2019\n  Quilometragem                                                  NaN\n  Zero_km                                                       True\n  Acessórios       ['Rodas de liga', 'Câmbio automático', 'Sensor...\n  Valor                                                     62999.02\n  Name: R8 GT, dtype: object),\n ('Bongo',\n  Motor                                              Motor Diesel V8\n  Ano                                                           2009\n  Quilometragem                                              58212.0\n  Zero_km                                                      False\n  Acessórios       ['Vidros elétricos', 'Teto panorâmico', 'Paine...\n  Valor                                                     91242.44\n  Name: Bongo, dtype: object),\n ('ASX',\n  Motor                                              Motor Diesel V8\n  Ano                                                           2003\n  Quilometragem                                              61672.0\n  Zero_km                                                      False\n  Acessórios       ['Ar condicionado', 'Sensor crepuscular', 'Rod...\n  Valor                                                    149489.92\n  Name: ASX, dtype: object),\n ('Cadillac SRX',\n  Motor                                        Motor 5.0 V8 Bi-Turbo\n  Ano                                                           1994\n  Quilometragem                                              32017.0\n  Zero_km                                                      False\n  Acessórios       ['Painel digital', 'Piloto automático', 'Contr...\n  Valor                                                     63529.95\n  Name: Cadillac SRX, dtype: object),\n ('Classe CL',\n  Motor                                                     Motor V8\n  Ano                                                           2019\n  Quilometragem                                                  NaN\n  Zero_km                                                       True\n  Acessórios       ['Central multimídia', 'Câmbio automático', '4...\n  Valor                                                     58525.41\n  Name: Classe CL, dtype: object),\n ('500 Abarth',\n  Motor                                                     Motor V6\n  Ano                                                           1994\n  Quilometragem                                              56944.0\n  Zero_km                                                      False\n  Acessórios       ['4 X 4', 'Teto panorâmico', 'Controle de traç...\n  Valor                                                     90345.05\n  Name: 500 Abarth, dtype: object),\n ('Aston Martin Cygnet',\n  Motor                                        Motor 5.0 V8 Bi-Turbo\n  Ano                                                           2019\n  Quilometragem                                                  NaN\n  Zero_km                                                       True\n  Acessórios       ['Painel digital', 'Ar condicionado', 'Sensor ...\n  Valor                                                    147770.87\n  Name: Aston Martin Cygnet, dtype: object),\n ('Cadillac STS',\n  Motor                                              Motor 4.0 Turbo\n  Ano                                                           2015\n  Quilometragem                                              86519.0\n  Zero_km                                                      False\n  Acessórios       ['Painel digital', 'Bancos de couro', 'Sensor ...\n  Valor                                                    106617.71\n  Name: Cadillac STS, dtype: object),\n ('Aston Martin DB9',\n  Motor                                                Motor 1.8 16v\n  Ano                                                           1996\n  Quilometragem                                               4821.0\n  Zero_km                                                      False\n  Acessórios       ['Ar condicionado', 'Vidros elétricos', '4 X 4...\n  Valor                                                    104929.88\n  Name: Aston Martin DB9, dtype: object),\n ('NX 200t',\n  Motor                                              Motor 2.4 Turbo\n  Ano                                                           1997\n  Quilometragem                                             101025.0\n  Zero_km                                                      False\n  Acessórios       ['Controle de estabilidade', 'Painel digital',...\n  Valor                                                    100712.45\n  Name: NX 200t, dtype: object),\n ('Aston Martin One-77',\n  Motor                                                     Motor V6\n  Ano                                                           1993\n  Quilometragem                                              30705.0\n  Zero_km                                                      False\n  Acessórios       ['Sensor de estacionamento', 'Rodas de liga', ...\n  Valor                                                    141982.93\n  Name: Aston Martin One-77, dtype: object),\n ('Lamborghini Veneno',\n  Motor                                                Motor 3.0 32v\n  Ano                                                           2019\n  Quilometragem                                                  NaN\n  Zero_km                                                       True\n  Acessórios       ['4 X 4', 'Sensor de estacionamento', 'Câmbio ...\n  Valor                                                    104038.79\n  Name: Lamborghini Veneno, dtype: object),\n ('Sentra',\n  Motor                                                Motor 2.0 16v\n  Ano                                                           1992\n  Quilometragem                                              32555.0\n  Zero_km                                                      False\n  Acessórios       ['Piloto automático', 'Sensor crepuscular', 'T...\n  Valor                                                     88501.54\n  Name: Sentra, dtype: object),\n ('Jumper',\n  Motor                                              Motor 2.4 Turbo\n  Ano                                                           1995\n  Quilometragem                                             103389.0\n  Zero_km                                                      False\n  Acessórios       ['Ar condicionado', 'Rodas de liga', 'Câmbio a...\n  Valor                                                     79782.02\n  Name: Jumper, dtype: object),\n ('i30',\n  Motor                                                Motor 1.8 16v\n  Ano                                                           2019\n  Quilometragem                                                  NaN\n  Zero_km                                                       True\n  Acessórios       ['Câmbio automático', 'Controle de estabilidad...\n  Valor                                                      86224.1\n  Name: i30, dtype: object),\n ('X6',\n  Motor                                              Motor Diesel V6\n  Ano                                                           1990\n  Quilometragem                                              55289.0\n  Zero_km                                                      False\n  Acessórios       ['Câmera de estacionamento', 'Travas elétricas...\n  Valor                                                    103596.18\n  Name: X6, dtype: object),\n ('Voyage',\n  Motor                                        Motor 5.0 V8 Bi-Turbo\n  Ano                                                           2019\n  Quilometragem                                                  NaN\n  Zero_km                                                       True\n  Acessórios       ['Ar condicionado', 'Sensor de estacionamento'...\n  Valor                                                    148996.47\n  Name: Voyage, dtype: object),\n ('Phantom I Phantom II',\n  Motor                                                Motor 1.8 16v\n  Ano                                                           2019\n  Quilometragem                                                  NaN\n  Zero_km                                                       True\n  Acessórios       ['Piloto automático', 'Freios ABS', 'Painel di...\n  Valor                                                     60948.01\n  Name: Phantom I Phantom II, dtype: object),\n ('Passat Variant',\n  Motor                                                 Motor 1.0 8v\n  Ano                                                           1991\n  Quilometragem                                             115930.0\n  Zero_km                                                      False\n  Acessórios       ['Freios ABS', 'Rodas de liga', 'Piloto automá...\n  Valor                                                     69535.44\n  Name: Passat Variant, dtype: object),\n ('Clio',\n  Motor                                                 Motor Diesel\n  Ano                                                           1990\n  Quilometragem                                              66437.0\n  Zero_km                                                      False\n  Acessórios       ['4 X 4', 'Câmbio automático', 'Freios ABS', '...\n  Valor                                                    111130.33\n  Name: Clio, dtype: object),\n ('Classe G',\n  Motor                                              Motor Diesel V6\n  Ano                                                           2012\n  Quilometragem                                              96800.0\n  Zero_km                                                      False\n  Acessórios       ['Controle de estabilidade', 'Central multimíd...\n  Valor                                                     65847.69\n  Name: Classe G, dtype: object),\n ('Silver Ghost',\n  Motor                                                Motor 1.8 16v\n  Ano                                                           2007\n  Quilometragem                                              14237.0\n  Zero_km                                                      False\n  Acessórios       ['Travas elétricas', 'Painel digital', 'Câmera...\n  Valor                                                     78096.06\n  Name: Silver Ghost, dtype: object),\n ('Série 3 M3 Coupé',\n  Motor                                                 Motor Diesel\n  Ano                                                           2013\n  Quilometragem                                              19896.0\n  Zero_km                                                      False\n  Acessórios       ['Bancos de couro', 'Sensor de chuva', 'Ar con...\n  Valor                                                     69219.89\n  Name: Série 3 M3 Coupé, dtype: object),\n ('Gallardo LP 560 – 4',\n  Motor                                                 Motor Diesel\n  Ano                                                           2000\n  Quilometragem                                             113045.0\n  Zero_km                                                      False\n  Acessórios       ['Freios ABS', 'Teto panorâmico', 'Central mul...\n  Valor                                                    144118.91\n  Name: Gallardo LP 560 – 4, dtype: object),\n ('Freelander 2',\n  Motor                                              Motor Diesel V6\n  Ano                                                           2002\n  Quilometragem                                             114942.0\n  Zero_km                                                      False\n  Acessórios       ['4 X 4', 'Câmera de estacionamento', 'Sensor ...\n  Valor                                                     77397.05\n  Name: Freelander 2, dtype: object),\n ('Grand Cherokee',\n  Motor                                        Motor 5.0 V8 Bi-Turbo\n  Ano                                                           1996\n  Quilometragem                                               3173.0\n  Zero_km                                                      False\n  Acessórios       ['Câmbio automático', 'Travas elétricas', 'Sen...\n  Valor                                                     68974.25\n  Name: Grand Cherokee, dtype: object),\n ('Aston Martin DBR9',\n  Motor                                              Motor 4.0 Turbo\n  Ano                                                           1996\n  Quilometragem                                              83611.0\n  Zero_km                                                      False\n  Acessórios       ['Controle de estabilidade', 'Sensor de estaci...\n  Valor                                                     125231.3\n  Name: Aston Martin DBR9, dtype: object),\n ('Soul',\n  Motor                                        Motor 5.0 V8 Bi-Turbo\n  Ano                                                           2015\n  Quilometragem                                              25356.0\n  Zero_km                                                      False\n  Acessórios       ['Sensor crepuscular', 'Piloto automático', 'S...\n  Valor                                                     85501.12\n  Name: Soul, dtype: object),\n ('Cadillac BLS',\n  Motor                                                     Motor V8\n  Ano                                                           1993\n  Quilometragem                                              88634.0\n  Zero_km                                                      False\n  Acessórios       ['Teto panorâmico', 'Controle de estabilidade'...\n  Valor                                                    137116.21\n  Name: Cadillac BLS, dtype: object),\n ('RX 350',\n  Motor                                                     Motor V6\n  Ano                                                           2013\n  Quilometragem                                               2314.0\n  Zero_km                                                      False\n  Acessórios       ['Piloto automático', 'Sensor crepuscular', 'A...\n  Valor                                                    138823.81\n  Name: RX 350, dtype: object),\n ('Cayman',\n  Motor                                                Motor 3.0 32v\n  Ano                                                           2013\n  Quilometragem                                               2627.0\n  Zero_km                                                      False\n  Acessórios       ['Central multimídia', 'Painel digital', 'Sens...\n  Valor                                                    117961.95\n  Name: Cayman, dtype: object),\n ('Chana Utility',\n  Motor                                                 Motor Diesel\n  Ano                                                           2009\n  Quilometragem                                              52034.0\n  Zero_km                                                      False\n  Acessórios       ['Ar condicionado', 'Sensor de estacionamento'...\n  Valor                                                    132662.32\n  Name: Chana Utility, dtype: object),\n ('308 CC',\n  Motor                                              Motor 4.0 Turbo\n  Ano                                                           2019\n  Quilometragem                                                  NaN\n  Zero_km                                                       True\n  Acessórios       ['Câmera de estacionamento', 'Bancos de couro'...\n  Valor                                                    146405.79\n  Name: 308 CC, dtype: object),\n ('L200 Triton',\n  Motor                                              Motor Diesel V8\n  Ano                                                           2019\n  Quilometragem                                                  NaN\n  Zero_km                                                       True\n  Acessórios       ['Vidros elétricos', 'Ar condicionado', 'Paine...\n  Valor                                                     81999.21\n  Name: L200 Triton, dtype: object),\n ('Jetta',\n  Motor                                        Motor 5.0 V8 Bi-Turbo\n  Ano                                                           2002\n  Quilometragem                                              79577.0\n  Zero_km                                                      False\n  Acessórios       ['Central multimídia', 'Vidros elétricos', 'Câ...\n  Valor                                                     140934.6\n  Name: Jetta, dtype: object),\n ('C4 Lounge',\n  Motor                                                     Motor V8\n  Ano                                                           1997\n  Quilometragem                                             108201.0\n  Zero_km                                                      False\n  Acessórios       ['Central multimídia', 'Controle de tração', '...\n  Valor                                                     82366.81\n  Name: C4 Lounge, dtype: object),\n ('C4 Pallas',\n  Motor                                                 Motor 1.0 8v\n  Ano                                                           1998\n  Quilometragem                                              76453.0\n  Zero_km                                                      False\n  Acessórios       ['4 X 4', 'Freios ABS', 'Sensor de chuva', 'Ro...\n  Valor                                                     70424.11\n  Name: C4 Pallas, dtype: object),\n ('Equus',\n  Motor                                                Motor 3.0 32v\n  Ano                                                           2004\n  Quilometragem                                              57683.0\n  Zero_km                                                      False\n  Acessórios       ['Travas elétricas', 'Rodas de liga', '4 X 4',...\n  Valor                                                     53620.31\n  Name: Equus, dtype: object),\n ('Classe GL',\n  Motor                                                Motor 3.0 32v\n  Ano                                                           1996\n  Quilometragem                                              96610.0\n  Zero_km                                                      False\n  Acessórios       ['Freios ABS', 'Câmera de estacionamento', 'Tr...\n  Valor                                                     73389.18\n  Name: Classe GL, dtype: object),\n ('Range Rover Evoque',\n  Motor                                                Motor 2.0 16v\n  Ano                                                           2015\n  Quilometragem                                             109001.0\n  Zero_km                                                      False\n  Acessórios       ['Rodas de liga', 'Teto panorâmico', 'Sensor d...\n  Valor                                                    111618.12\n  Name: Range Rover Evoque, dtype: object),\n ('Cherokee',\n  Motor                                              Motor 4.0 Turbo\n  Ano                                                           2016\n  Quilometragem                                              26212.0\n  Zero_km                                                      False\n  Acessórios       ['Painel digital', 'Travas elétricas', 'Rodas ...\n  Valor                                                    112187.37\n  Name: Cherokee, dtype: object),\n ('Punto',\n  Motor                                              Motor 4.0 Turbo\n  Ano                                                           2005\n  Quilometragem                                              45971.0\n  Zero_km                                                      False\n  Acessórios       ['Central multimídia', 'Câmbio automático', 'P...\n  Valor                                                    120812.57\n  Name: Punto, dtype: object),\n ('Grand Tour',\n  Motor                                                Motor 3.0 32v\n  Ano                                                           1999\n  Quilometragem                                              49182.0\n  Zero_km                                                      False\n  Acessórios       ['Rodas de liga', 'Travas elétricas', 'Bancos ...\n  Valor                                                    116031.04\n  Name: Grand Tour, dtype: object),\n ('Fluence',\n  Motor                                              Motor Diesel V6\n  Ano                                                           1995\n  Quilometragem                                              49907.0\n  Zero_km                                                      False\n  Acessórios       ['Sensor crepuscular', 'Teto panorâmico', 'Câm...\n  Valor                                                    125398.11\n  Name: Fluence, dtype: object),\n ('Effa Hafei Picape Cabine Simples',\n  Motor                                                 Motor 1.0 8v\n  Ano                                                           1993\n  Quilometragem                                              38620.0\n  Zero_km                                                      False\n  Acessórios       ['Piloto automático', 'Ar condicionado', 'Cent...\n  Valor                                                     76101.47\n  Name: Effa Hafei Picape Cabine Simples, dtype: object),\n ('Durango',\n  Motor                                                Motor 2.0 16v\n  Ano                                                           2004\n  Quilometragem                                              60996.0\n  Zero_km                                                      False\n  Acessórios       ['Bancos de couro', 'Painel digital', 'Câmbio ...\n  Valor                                                     75263.24\n  Name: Durango, dtype: object),\n ('Boxster',\n  Motor                                              Motor Diesel V8\n  Ano                                                           2013\n  Quilometragem                                              73914.0\n  Zero_km                                                      False\n  Acessórios       ['Teto panorâmico', 'Sensor crepuscular', 'Ban...\n  Valor                                                    147387.76\n  Name: Boxster, dtype: object),\n ('TT Roadster',\n  Motor                                                 Motor Diesel\n  Ano                                                           1998\n  Quilometragem                                             107392.0\n  Zero_km                                                      False\n  Acessórios       ['Ar condicionado', 'Sensor de estacionamento'...\n  Valor                                                      85311.4\n  Name: TT Roadster, dtype: object),\n ('Lamborghini Jalpa',\n  Motor                                                Motor 1.8 16v\n  Ano                                                           2018\n  Quilometragem                                               9146.0\n  Zero_km                                                      False\n  Acessórios       ['Piloto automático', 'Freios ABS', 'Sensor de...\n  Valor                                                     54388.11\n  Name: Lamborghini Jalpa, dtype: object),\n ('Classe SLK',\n  Motor                                              Motor 4.0 Turbo\n  Ano                                                           2019\n  Quilometragem                                                  NaN\n  Zero_km                                                       True\n  Acessórios       ['4 X 4', 'Sensor de estacionamento', 'Control...\n  Valor                                                    124156.65\n  Name: Classe SLK, dtype: object),\n ('Golf',\n  Motor                                                 Motor 1.0 8v\n  Ano                                                           2018\n  Quilometragem                                              17924.0\n  Zero_km                                                      False\n  Acessórios       ['Rodas de liga', 'Controle de tração', 'Senso...\n  Valor                                                    146203.34\n  Name: Golf, dtype: object),\n ('C3 Picasso',\n  Motor                                                Motor 3.0 32v\n  Ano                                                           2019\n  Quilometragem                                                  NaN\n  Zero_km                                                       True\n  Acessórios       ['Teto panorâmico', 'Sensor crepuscular', 'Sen...\n  Valor                                                     56453.94\n  Name: C3 Picasso, dtype: object),\n ('V50',\n  Motor                                                Motor 2.0 16v\n  Ano                                                           1990\n  Quilometragem                                             116949.0\n  Zero_km                                                      False\n  Acessórios       ['Teto panorâmico', 'Câmera de estacionamento'...\n  Valor                                                     68873.79\n  Name: V50, dtype: object),\n ('Picanto',\n  Motor                                              Motor 4.0 Turbo\n  Ano                                                           2009\n  Quilometragem                                              20476.0\n  Zero_km                                                      False\n  Acessórios       ['Painel digital', 'Controle de estabilidade',...\n  Valor                                                     91667.61\n  Name: Picanto, dtype: object),\n ('Cadenza',\n  Motor                                              Motor Diesel V6\n  Ano                                                           1990\n  Quilometragem                                              52804.0\n  Zero_km                                                      False\n  Acessórios       ['Sensor crepuscular', 'Controle de estabilida...\n  Valor                                                     93776.52\n  Name: Cadenza, dtype: object),\n ('Etios Sedã',\n  Motor                                        Motor 5.0 V8 Bi-Turbo\n  Ano                                                           2006\n  Quilometragem                                               8849.0\n  Zero_km                                                      False\n  Acessórios       ['Ar condicionado', 'Vidros elétricos', 'Senso...\n  Valor                                                     66433.82\n  Name: Etios Sedã, dtype: object),\n ('Alsvin',\n  Motor                                              Motor Diesel V8\n  Ano                                                           2002\n  Quilometragem                                              91724.0\n  Zero_km                                                      False\n  Acessórios       ['Central multimídia', 'Controle de estabilida...\n  Valor                                                    109059.27\n  Name: Alsvin, dtype: object),\n ('Cadillac ATS',\n  Motor                                              Motor Diesel V6\n  Ano                                                           1991\n  Quilometragem                                              32056.0\n  Zero_km                                                      False\n  Acessórios       ['Piloto automático', 'Rodas de liga', '4 X 4'...\n  Valor                                                    122069.97\n  Name: Cadillac ATS, dtype: object),\n ('Série 3 M3 Sedã',\n  Motor                                              Motor Diesel V6\n  Ano                                                           1992\n  Quilometragem                                              74886.0\n  Zero_km                                                      False\n  Acessórios       ['Painel digital', 'Freios ABS', 'Ar condicion...\n  Valor                                                    113090.32\n  Name: Série 3 M3 Sedã, dtype: object),\n ('Classe S',\n  Motor                                                Motor 3.0 32v\n  Ano                                                           2019\n  Quilometragem                                                  NaN\n  Zero_km                                                       True\n  Acessórios       ['Controle de tração', 'Teto panorâmico', 'Câm...\n  Valor                                                      89401.1\n  Name: Classe S, dtype: object),\n ('T6',\n  Motor                                                Motor 3.0 32v\n  Ano                                                           2019\n  Quilometragem                                                  NaN\n  Zero_km                                                       True\n  Acessórios       ['Sensor de chuva', 'Câmera de estacionamento'...\n  Valor                                                     56842.79\n  Name: T6, dtype: object),\n ('Aston Martin DB7',\n  Motor                                              Motor Diesel V8\n  Ano                                                           2005\n  Quilometragem                                              52189.0\n  Zero_km                                                      False\n  Acessórios       ['Travas elétricas', 'Painel digital', 'Sensor...\n  Valor                                                    146676.71\n  Name: Aston Martin DB7, dtype: object),\n ('207 Sedan',\n  Motor                                              Motor 4.0 Turbo\n  Ano                                                           2010\n  Quilometragem                                              83559.0\n  Zero_km                                                      False\n  Acessórios       ['Controle de tração', 'Central multimídia', '...\n  Valor                                                     89511.96\n  Name: 207 Sedan, dtype: object),\n ('Aston Martin Virage',\n  Motor                                                 Motor Diesel\n  Ano                                                           2019\n  Quilometragem                                                  NaN\n  Zero_km                                                       True\n  Acessórios       ['Travas elétricas', 'Controle de tração', 'Câ...\n  Valor                                                     97290.18\n  Name: Aston Martin Virage, dtype: object),\n ('Azera',\n  Motor                                                Motor 1.8 16v\n  Ano                                                           2016\n  Quilometragem                                              20328.0\n  Zero_km                                                      False\n  Acessórios       ['Bancos de couro', 'Controle de tração', 'Ar ...\n  Valor                                                    120673.56\n  Name: Azera, dtype: object),\n ('Vantage Volante',\n  Motor                                              Motor Diesel V8\n  Ano                                                           2019\n  Quilometragem                                                  NaN\n  Zero_km                                                       True\n  Acessórios       ['Freios ABS', 'Controle de tração', 'Central ...\n  Valor                                                    114434.94\n  Name: Vantage Volante, dtype: object),\n ('Siena EL',\n  Motor                                                     Motor V8\n  Ano                                                           2010\n  Quilometragem                                              75577.0\n  Zero_km                                                      False\n  Acessórios       ['Freios ABS', 'Sensor crepuscular', 'Controle...\n  Valor                                                    139546.69\n  Name: Siena EL, dtype: object),\n ('Palio Adventure',\n  Motor                                              Motor Diesel V8\n  Ano                                                           1994\n  Quilometragem                                              33659.0\n  Zero_km                                                      False\n  Acessórios       ['Teto panorâmico', 'Central multimídia', 'Pil...\n  Valor                                                     95078.16\n  Name: Palio Adventure, dtype: object),\n ('HB20X',\n  Motor                                                     Motor V8\n  Ano                                                           2001\n  Quilometragem                                             104341.0\n  Zero_km                                                      False\n  Acessórios       ['Sensor crepuscular', 'Teto panorâmico', 'Pai...\n  Valor                                                     68091.77\n  Name: HB20X, dtype: object),\n ('HR',\n  Motor                                        Motor 5.0 V8 Bi-Turbo\n  Ano                                                           2014\n  Quilometragem                                              25510.0\n  Zero_km                                                      False\n  Acessórios       ['Controle de tração', 'Câmbio automático', '4...\n  Valor                                                     61496.97\n  Name: HR, dtype: object),\n ('Cadillac STS V-Series',\n  Motor                                                Motor 2.0 16v\n  Ano                                                           1996\n  Quilometragem                                              18965.0\n  Zero_km                                                      False\n  Acessórios       ['Vidros elétricos', 'Piloto automático', 'Câm...\n  Valor                                                     139669.3\n  Name: Cadillac STS V-Series, dtype: object),\n ('Série 1 Coupé',\n  Motor                                                 Motor 1.0 8v\n  Ano                                                           1993\n  Quilometragem                                              87161.0\n  Zero_km                                                      False\n  Acessórios       ['Controle de estabilidade', 'Teto panorâmico'...\n  Valor                                                     80661.39\n  Name: Série 1 Coupé, dtype: object),\n ('SpaceFox',\n  Motor                                                     Motor V8\n  Ano                                                           1993\n  Quilometragem                                               6652.0\n  Zero_km                                                      False\n  Acessórios       ['Sensor crepuscular', '4 X 4', 'Painel digita...\n  Valor                                                     61783.65\n  Name: SpaceFox, dtype: object),\n ('C30',\n  Motor                                                 Motor 1.0 8v\n  Ano                                                           2001\n  Quilometragem                                              55738.0\n  Zero_km                                                      False\n  Acessórios       ['Teto panorâmico', 'Freios ABS', 'Sensor crep...\n  Valor                                                     52805.91\n  Name: C30, dtype: object),\n ('J3 Turin',\n  Motor                                                     Motor V6\n  Ano                                                           2019\n  Quilometragem                                                  NaN\n  Zero_km                                                       True\n  Acessórios       ['Sensor crepuscular', 'Câmera de estacionamen...\n  Valor                                                    127024.75\n  Name: J3 Turin, dtype: object),\n ('Classe B',\n  Motor                                              Motor Diesel V8\n  Ano                                                           2019\n  Quilometragem                                                  NaN\n  Zero_km                                                       True\n  Acessórios       ['4 X 4', 'Bancos de couro', 'Sensor crepuscul...\n  Valor                                                     135543.0\n  Name: Classe B, dtype: object),\n ('Parati',\n  Motor                                              Motor Diesel V8\n  Ano                                                           2019\n  Quilometragem                                                  NaN\n  Zero_km                                                       True\n  Acessórios       ['Sensor de estacionamento', 'Piloto automátic...\n  Valor                                                    121708.73\n  Name: Parati, dtype: object),\n ('Cadillac CTS V-Series',\n  Motor                                              Motor 4.0 Turbo\n  Ano                                                           2007\n  Quilometragem                                              64320.0\n  Zero_km                                                      False\n  Acessórios       ['Piloto automático', 'Ar condicionado', 'Cent...\n  Valor                                                    107342.68\n  Name: Cadillac CTS V-Series, dtype: object),\n ('Sedan',\n  Motor                                                     Motor V8\n  Ano                                                           2019\n  Quilometragem                                                  NaN\n  Zero_km                                                       True\n  Acessórios       ['Bancos de couro', 'Central multimídia', 'Fre...\n  Valor                                                      57888.1\n  Name: Sedan, dtype: object),\n ('Classe CLS 63 AMG',\n  Motor                                              Motor Diesel V6\n  Ano                                                           2016\n  Quilometragem                                              68678.0\n  Zero_km                                                      False\n  Acessórios       ['Freios ABS', 'Vidros elétricos', 'Câmbio aut...\n  Valor                                                    118161.48\n  Name: Classe CLS 63 AMG, dtype: object),\n ('Aircross',\n  Motor                                                 Motor 1.0 8v\n  Ano                                                           2014\n  Quilometragem                                              71697.0\n  Zero_km                                                      False\n  Acessórios       ['Controle de tração', 'Piloto automático', 'C...\n  Valor                                                    142499.06\n  Name: Aircross, dtype: object),\n ('Aston Martin V12 Vantage',\n  Motor                                                     Motor V8\n  Ano                                                           2019\n  Quilometragem                                                  NaN\n  Zero_km                                                       True\n  Acessórios       ['Bancos de couro', 'Central multimídia', 'Con...\n  Valor                                                    128396.11\n  Name: Aston Martin V12 Vantage, dtype: object),\n ('Sandero',\n  Motor                                                 Motor Diesel\n  Ano                                                           2015\n  Quilometragem                                              34783.0\n  Zero_km                                                      False\n  Acessórios       ['Piloto automático', 'Teto panorâmico', 'Câmb...\n  Valor                                                    112350.61\n  Name: Sandero, dtype: object),\n ('New Fiesta',\n  Motor                                        Motor 5.0 V8 Bi-Turbo\n  Ano                                                           2015\n  Quilometragem                                              33772.0\n  Zero_km                                                      False\n  Acessórios       ['Controle de tração', 'Travas elétricas', '4 ...\n  Valor                                                    124661.38\n  Name: New Fiesta, dtype: object),\n ('XKR',\n  Motor                                                 Motor Diesel\n  Ano                                                           1996\n  Quilometragem                                              85127.0\n  Zero_km                                                      False\n  Acessórios       ['Controle de tração', 'Ar condicionado', 'Tra...\n  Valor                                                     54263.16\n  Name: XKR, dtype: object),\n ('X5',\n  Motor                                                 Motor Diesel\n  Ano                                                           2002\n  Quilometragem                                              13606.0\n  Zero_km                                                      False\n  Acessórios       ['Controle de tração', 'Piloto automático', 'T...\n  Valor                                                     62041.32\n  Name: X5, dtype: object),\n ('Cadillac DTS',\n  Motor                                                Motor 1.8 16v\n  Ano                                                           2005\n  Quilometragem                                              35647.0\n  Zero_km                                                      False\n  Acessórios       ['Central multimídia', 'Rodas de liga', 'Câmbi...\n  Valor                                                    129296.11\n  Name: Cadillac DTS, dtype: object),\n ('Pajero Dakar',\n  Motor                                              Motor 4.0 Turbo\n  Ano                                                           1995\n  Quilometragem                                              95128.0\n  Zero_km                                                      False\n  Acessórios       ['Piloto automático', 'Sensor de chuva', 'Cont...\n  Valor                                                     60998.33\n  Name: Pajero Dakar, dtype: object),\n ('Classe A',\n  Motor                                                 Motor 1.0 8v\n  Ano                                                           1999\n  Quilometragem                                              14046.0\n  Zero_km                                                      False\n  Acessórios       ['Controle de tração', 'Central multimídia', '...\n  Valor                                                      58008.5\n  Name: Classe A, dtype: object),\n ('Ford Focus Fastback',\n  Motor                                              Motor 4.0 Turbo\n  Ano                                                           2005\n  Quilometragem                                              41194.0\n  Zero_km                                                      False\n  Acessórios       ['Bancos de couro', 'Câmera de estacionamento'...\n  Valor                                                     82304.19\n  Name: Ford Focus Fastback, dtype: object),\n ('Partner',\n  Motor                                              Motor 2.4 Turbo\n  Ano                                                           2019\n  Quilometragem                                                  NaN\n  Zero_km                                                       True\n  Acessórios       ['Central multimídia', 'Controle de tração', '...\n  Valor                                                    114531.74\n  Name: Partner, dtype: object),\n ('R8',\n  Motor                                                     Motor V6\n  Ano                                                           1997\n  Quilometragem                                              96100.0\n  Zero_km                                                      False\n  Acessórios       ['4 X 4', 'Controle de estabilidade', 'Câmera ...\n  Valor                                                    128565.61\n  Name: R8, dtype: object),\n ('Aston Martin DBS Volante',\n  Motor                                              Motor 4.0 Turbo\n  Ano                                                           1990\n  Quilometragem                                             103900.0\n  Zero_km                                                      False\n  Acessórios       ['Central multimídia', 'Controle de estabilida...\n  Valor                                                    126488.26\n  Name: Aston Martin DBS Volante, dtype: object),\n ('Mohave',\n  Motor                                              Motor Diesel V6\n  Ano                                                           2001\n  Quilometragem                                              43814.0\n  Zero_km                                                      False\n  Acessórios       ['Travas elétricas', 'Central multimídia', 'Pa...\n  Valor                                                    119074.55\n  Name: Mohave, dtype: object),\n ('Fusca',\n  Motor                                                Motor 3.0 32v\n  Ano                                                           2013\n  Quilometragem                                              24638.0\n  Zero_km                                                      False\n  Acessórios       ['Câmbio automático', 'Teto panorâmico', 'Sens...\n  Valor                                                    130238.04\n  Name: Fusca, dtype: object),\n ('Chana Family',\n  Motor                                                     Motor V8\n  Ano                                                           2019\n  Quilometragem                                                  NaN\n  Zero_km                                                       True\n  Acessórios       ['Piloto automático', 'Teto panorâmico', 'Sens...\n  Valor                                                    115760.17\n  Name: Chana Family, dtype: object),\n ('XC40',\n  Motor                                              Motor 2.4 Turbo\n  Ano                                                           2017\n  Quilometragem                                             110966.0\n  Zero_km                                                      False\n  Acessórios       ['Sensor de chuva', 'Central multimídia', 'Vid...\n  Valor                                                     121248.0\n  Name: XC40, dtype: object),\n ('Phantom I Jonckheere Aerodynamic Coupe',\n  Motor                                                Motor 1.8 16v\n  Ano                                                           2011\n  Quilometragem                                              15987.0\n  Zero_km                                                      False\n  Acessórios       ['Sensor crepuscular', 'Travas elétricas', 'Pi...\n  Valor                                                     98156.35\n  Name: Phantom I Jonckheere Aerodynamic Coupe, dtype: object),\n ('Boxer',\n  Motor                                                     Motor V6\n  Ano                                                           2005\n  Quilometragem                                              53369.0\n  Zero_km                                                      False\n  Acessórios       ['Travas elétricas', 'Piloto automático', 'Vid...\n  Valor                                                     112146.8\n  Name: Boxer, dtype: object),\n ('Chana Cargo',\n  Motor                                                Motor 2.0 16v\n  Ano                                                           2007\n  Quilometragem                                              10077.0\n  Zero_km                                                      False\n  Acessórios       ['Teto panorâmico', '4 X 4', 'Central multimíd...\n  Valor                                                    102729.63\n  Name: Chana Cargo, dtype: object),\n ('Dodge Dakota',\n  Motor                                                 Motor Diesel\n  Ano                                                           1993\n  Quilometragem                                              71544.0\n  Zero_km                                                      False\n  Acessórios       ['Controle de tração', 'Sensor de estacionamen...\n  Valor                                                    141083.35\n  Name: Dodge Dakota, dtype: object),\n ('X1',\n  Motor                                              Motor Diesel V8\n  Ano                                                           1991\n  Quilometragem                                                107.0\n  Zero_km                                                      False\n  Acessórios       ['4 X 4', 'Teto panorâmico', 'Ar condicionado'...\n  Valor                                                    102968.76\n  Name: X1, dtype: object),\n ('GLA',\n  Motor                                                 Motor 1.0 8v\n  Ano                                                           1991\n  Quilometragem                                               8394.0\n  Zero_km                                                      False\n  Acessórios       ['Sensor de chuva', 'Câmera de estacionamento'...\n  Valor                                                     76310.01\n  Name: GLA, dtype: object),\n ('Range Rover Sport',\n  Motor                                                 Motor 1.0 8v\n  Ano                                                           1997\n  Quilometragem                                              41498.0\n  Zero_km                                                      False\n  Acessórios       ['Sensor de estacionamento', 'Câmera de estaci...\n  Valor                                                    120481.74\n  Name: Range Rover Sport, dtype: object),\n ('DS3',\n  Motor                                                Motor 1.8 16v\n  Ano                                                           2000\n  Quilometragem                                             116002.0\n  Zero_km                                                      False\n  Acessórios       ['Controle de estabilidade', 'Ar condicionado'...\n  Valor                                                     54559.18\n  Name: DS3, dtype: object),\n ('Veracruz',\n  Motor                                              Motor Diesel V8\n  Ano                                                           2007\n  Quilometragem                                             100858.0\n  Zero_km                                                      False\n  Acessórios       ['Controle de estabilidade', 'Câmera de estaci...\n  Valor                                                     92957.64\n  Name: Veracruz, dtype: object),\n ('Cadillac CTS coupe, sedan, and wagon',\n  Motor                                                     Motor V8\n  Ano                                                           2006\n  Quilometragem                                              67475.0\n  Zero_km                                                      False\n  Acessórios       ['Sensor de chuva', 'Sensor de estacionamento'...\n  Valor                                                    127810.06\n  Name: Cadillac CTS coupe, sedan, and wagon, dtype: object),\n ('i30 CW',\n  Motor                                                 Motor Diesel\n  Ano                                                           2015\n  Quilometragem                                               8497.0\n  Zero_km                                                      False\n  Acessórios       ['Sensor de chuva', 'Vidros elétricos', 'Contr...\n  Valor                                                     73311.75\n  Name: i30 CW, dtype: object),\n ('Phantom III',\n  Motor                                              Motor Diesel V6\n  Ano                                                           2008\n  Quilometragem                                               4420.0\n  Zero_km                                                      False\n  Acessórios       ['Vidros elétricos', 'Bancos de couro', 'Pilot...\n  Valor                                                     65138.03\n  Name: Phantom III, dtype: object),\n ('A3 Sedan',\n  Motor                                                     Motor V6\n  Ano                                                           2019\n  Quilometragem                                                  NaN\n  Zero_km                                                       True\n  Acessórios       ['Ar condicionado', 'Sensor de chuva', 'Travas...\n  Valor                                                     90141.47\n  Name: A3 Sedan, dtype: object),\n ('Aston Martin DB9 Volante',\n  Motor                                                Motor 2.0 16v\n  Ano                                                           1996\n  Quilometragem                                              58537.0\n  Zero_km                                                      False\n  Acessórios       ['Central multimídia', 'Bancos de couro', 'Câm...\n  Valor                                                     71160.36\n  Name: Aston Martin DB9 Volante, dtype: object),\n ('Série 7 Sedã',\n  Motor                                                 Motor Diesel\n  Ano                                                           2019\n  Quilometragem                                                  NaN\n  Zero_km                                                       True\n  Acessórios       ['Vidros elétricos', 'Travas elétricas', 'Roda...\n  Valor                                                     67539.79\n  Name: Série 7 Sedã, dtype: object),\n ('Lamborghini Reventón',\n  Motor                                              Motor 4.0 Turbo\n  Ano                                                           2019\n  Quilometragem                                                  NaN\n  Zero_km                                                       True\n  Acessórios       ['Controle de tração', 'Ar condicionado', 'Cen...\n  Valor                                                     67664.86\n  Name: Lamborghini Reventón, dtype: object),\n ('Grand Livina',\n  Motor                                                Motor 2.0 16v\n  Ano                                                           2014\n  Quilometragem                                             112016.0\n  Zero_km                                                      False\n  Acessórios       ['Controle de tração', 'Teto panorâmico', 'Vid...\n  Valor                                                     68652.16\n  Name: Grand Livina, dtype: object),\n ('V60',\n  Motor                                                 Motor Diesel\n  Ano                                                           2004\n  Quilometragem                                              91840.0\n  Zero_km                                                      False\n  Acessórios       ['Rodas de liga', 'Sensor crepuscular', 'Ar co...\n  Valor                                                    114728.74\n  Name: V60, dtype: object),\n ('Effa Hafei Picape Cabine Dupla',\n  Motor                                                     Motor V6\n  Ano                                                           2008\n  Quilometragem                                             112787.0\n  Zero_km                                                      False\n  Acessórios       ['Sensor crepuscular', 'Controle de tração', '...\n  Valor                                                    141645.08\n  Name: Effa Hafei Picape Cabine Dupla, dtype: object),\n ('Benni Mini',\n  Motor                                                     Motor V8\n  Ano                                                           2019\n  Quilometragem                                                  NaN\n  Zero_km                                                       True\n  Acessórios       ['Sensor crepuscular', 'Câmbio automático', 'C...\n  Valor                                                    126247.84\n  Name: Benni Mini, dtype: object),\n ('Uno',\n  Motor                                              Motor Diesel V6\n  Ano                                                           2019\n  Quilometragem                                                  NaN\n  Zero_km                                                       True\n  Acessórios       ['Central multimídia', 'Sensor crepuscular', '...\n  Valor                                                    128852.21\n  Name: Uno, dtype: object),\n ('L200 Savana',\n  Motor                                                Motor 2.0 16v\n  Ano                                                           2012\n  Quilometragem                                               9293.0\n  Zero_km                                                      False\n  Acessórios       ['Sensor de chuva', 'Vidros elétricos', 'Paine...\n  Valor                                                    132384.76\n  Name: L200 Savana, dtype: object),\n ('Santa Fe',\n  Motor                                                Motor 3.0 32v\n  Ano                                                           2019\n  Quilometragem                                                  NaN\n  Zero_km                                                       True\n  Acessórios       ['Travas elétricas', 'Ar condicionado', '4 X 4...\n  Valor                                                    129415.33\n  Name: Santa Fe, dtype: object),\n ('RS5',\n  Motor                                                     Motor V6\n  Ano                                                           1996\n  Quilometragem                                              55083.0\n  Zero_km                                                      False\n  Acessórios       ['Painel digital', 'Câmbio automático', 'Vidro...\n  Valor                                                     89536.82\n  Name: RS5, dtype: object),\n ('Cerato',\n  Motor                                                     Motor V6\n  Ano                                                           2011\n  Quilometragem                                              48796.0\n  Zero_km                                                      False\n  Acessórios       ['Sensor de estacionamento', 'Câmera de estaci...\n  Valor                                                      87975.3\n  Name: Cerato, dtype: object),\n ('XC60',\n  Motor                                              Motor 4.0 Turbo\n  Ano                                                           2019\n  Quilometragem                                                  NaN\n  Zero_km                                                       True\n  Acessórios       ['Painel digital', 'Piloto automático', 'Centr...\n  Valor                                                     77675.79\n  Name: XC60, dtype: object),\n ('LS 460L',\n  Motor                                              Motor Diesel V8\n  Ano                                                           2010\n  Quilometragem                                              89685.0\n  Zero_km                                                      False\n  Acessórios       ['Rodas de liga', 'Freios ABS', 'Controle de t...\n  Valor                                                     58881.67\n  Name: LS 460L, dtype: object),\n ('Lamborghini Sesto Elemento',\n  Motor                                                     Motor V8\n  Ano                                                           2007\n  Quilometragem                                              85384.0\n  Zero_km                                                      False\n  Acessórios       ['Sensor crepuscular', 'Freios ABS', 'Ar condi...\n  Valor                                                     55081.99\n  Name: Lamborghini Sesto Elemento, dtype: object),\n ('Lamborghini Huracán',\n  Motor                                                     Motor V8\n  Ano                                                           1994\n  Quilometragem                                              98108.0\n  Zero_km                                                      False\n  Acessórios       ['Sensor de chuva', 'Sensor de estacionamento'...\n  Valor                                                    118826.44\n  Name: Lamborghini Huracán, dtype: object),\n ('A7',\n  Motor                                                 Motor 1.0 8v\n  Ano                                                           2007\n  Quilometragem                                              71280.0\n  Zero_km                                                      False\n  Acessórios       ['Sensor de chuva', 'Vidros elétricos', 'Senso...\n  Valor                                                    137627.62\n  Name: A7, dtype: object),\n ('Phantom 2013',\n  Motor                                                     Motor V8\n  Ano                                                           2014\n  Quilometragem                                              27505.0\n  Zero_km                                                      False\n  Acessórios       ['Controle de estabilidade', 'Piloto automátic...\n  Valor                                                     51759.58\n  Name: Phantom 2013, dtype: object),\n ('Cadillac Ciel concept',\n  Motor                                                     Motor V8\n  Ano                                                           1991\n  Quilometragem                                              29981.0\n  Zero_km                                                      False\n  Acessórios       ['Bancos de couro', 'Painel digital', 'Sensor ...\n  Valor                                                     51667.06\n  Name: Cadillac Ciel concept, dtype: object),\n ('Classe GLK',\n  Motor                                        Motor 5.0 V8 Bi-Turbo\n  Ano                                                           2002\n  Quilometragem                                              52637.0\n  Zero_km                                                      False\n  Acessórios       ['Rodas de liga', 'Controle de tração', 'Câmbi...\n  Valor                                                     68934.03\n  Name: Classe GLK, dtype: object),\n ('Aston Martin DB5',\n  Motor                                                 Motor Diesel\n  Ano                                                           1996\n  Quilometragem                                               7685.0\n  Zero_km                                                      False\n  Acessórios       ['Ar condicionado', '4 X 4', 'Câmbio automátic...\n  Valor                                                     122110.9\n  Name: Aston Martin DB5, dtype: object),\n ('Macan',\n  Motor                                              Motor Diesel V6\n  Ano                                                           1992\n  Quilometragem                                              50188.0\n  Zero_km                                                      False\n  Acessórios       ['Central multimídia', 'Teto panorâmico', 'Vid...\n  Valor                                                     90381.47\n  Name: Macan, dtype: object)]"
     },
     "execution_count": 261,
     "metadata": {},
     "output_type": "execute_result"
    }
   ],
   "source": [
    "list(data_frame.iterrows())"
   ]
  },
  {
   "cell_type": "code",
   "execution_count": 265,
   "outputs": [],
   "source": [
    "for index, row in data_frame.iterrows():\n",
    "    km_media = 0\n",
    "    if 2019 - row.Ano != 0:\n",
    "        km_media = row['Quilometragem'] / (2019 - row['Ano'])\n",
    "    data_frame.loc[index, 'Km_media'] = km_media"
   ],
   "metadata": {
    "collapsed": false,
    "pycharm": {
     "name": "#%%\n"
    }
   }
  },
  {
   "cell_type": "code",
   "execution_count": null,
   "outputs": [],
   "source": [
    "data_frame"
   ],
   "metadata": {
    "collapsed": false,
    "pycharm": {
     "name": "#%%\n"
    }
   }
  },
  {
   "cell_type": "code",
   "execution_count": 269,
   "outputs": [
    {
     "name": "stdout",
     "output_type": "stream",
     "text": [
      "Tuple: Pandas(Index='Jetta Variant', Motor='Motor 4.0 Turbo', Ano=2003, Quilometragem=44410.0, Zero_km=False, Acessórios=\"['Rodas de liga', 'Travas elétricas', 'Piloto automático', 'Bancos de couro', 'Ar condicionado', 'Sensor de estacionamento', 'Sensor crepuscular', 'Sensor de chuva']\", Valor=88078.64, Km_media=2775.625)\n",
      "Tuple: Pandas(Index='Passat', Motor='Motor Diesel', Ano=1991, Quilometragem=5712.0, Zero_km=False, Acessórios=\"['Central multimídia', 'Teto panorâmico', 'Freios ABS', '4 X 4', 'Painel digital', 'Piloto automático', 'Bancos de couro', 'Câmera de estacionamento']\", Valor=106161.94, Km_media=204.0)\n",
      "Tuple: Pandas(Index='Crossfox', Motor='Motor Diesel V8', Ano=1990, Quilometragem=37123.0, Zero_km=False, Acessórios=\"['Piloto automático', 'Controle de estabilidade', 'Sensor crepuscular', 'Freios ABS', 'Câmbio automático', 'Bancos de couro', 'Central multimídia', 'Vidros elétricos']\", Valor=72832.16, Km_media=1280.103448275862)\n",
      "Tuple: Pandas(Index='DS5', Motor='Motor 2.4 Turbo', Ano=2019, Quilometragem=nan, Zero_km=True, Acessórios=\"['Travas elétricas', '4 X 4', 'Vidros elétricos', 'Sensor crepuscular', 'Sensor de chuva', 'Câmera de estacionamento', 'Ar condicionado', 'Rodas de liga']\", Valor=124549.07, Km_media=0.0)\n",
      "Tuple: Pandas(Index='Aston Martin DB4', Motor='Motor 2.4 Turbo', Ano=2006, Quilometragem=25757.0, Zero_km=False, Acessórios=\"['Rodas de liga', '4 X 4', 'Central multimídia', 'Ar condicionado', 'Controle de estabilidade', 'Câmbio automático', 'Sensor de estacionamento', 'Piloto automático']\", Valor=92612.1, Km_media=1981.3076923076924)\n",
      "Tuple: Pandas(Index='Palio Weekend', Motor='Motor 1.8 16v', Ano=2012, Quilometragem=10728.0, Zero_km=False, Acessórios=\"['Sensor de estacionamento', 'Teto panorâmico', 'Sensor crepuscular', 'Painel digital', 'Ar condicionado', 'Rodas de liga', 'Controle de estabilidade', 'Bancos de couro']\", Valor=97497.73, Km_media=1532.5714285714287)\n",
      "Tuple: Pandas(Index='A5', Motor='Motor 4.0 Turbo', Ano=2019, Quilometragem=nan, Zero_km=True, Acessórios=\"['Câmbio automático', 'Câmera de estacionamento', 'Freios ABS', 'Controle de tração', 'Central multimídia', 'Travas elétricas', 'Sensor crepuscular', 'Rodas de liga']\", Valor=56445.2, Km_media=0.0)\n",
      "Tuple: Pandas(Index='Série 3 Cabrio', Motor='Motor 1.0 8v', Ano=2009, Quilometragem=77599.0, Zero_km=False, Acessórios=\"['Controle de estabilidade', 'Sensor crepuscular', 'Controle de tração', 'Teto panorâmico', 'Travas elétricas', 'Piloto automático', 'Painel digital', 'Câmera de estacionamento']\", Valor=112310.44, Km_media=7759.9)\n",
      "Tuple: Pandas(Index='Dodge Jorney', Motor='Motor 3.0 32v', Ano=2010, Quilometragem=99197.0, Zero_km=False, Acessórios=\"['Vidros elétricos', 'Piloto automático', 'Teto panorâmico', 'Ar condicionado', 'Bancos de couro', 'Câmbio automático', 'Rodas de liga', 'Travas elétricas']\", Valor=120716.27, Km_media=11021.888888888889)\n",
      "Tuple: Pandas(Index='Carens', Motor='Motor 5.0 V8 Bi-Turbo', Ano=2011, Quilometragem=37978.0, Zero_km=False, Acessórios=\"['Ar condicionado', 'Painel digital', 'Central multimídia', 'Sensor crepuscular', 'Câmbio automático', 'Rodas de liga', 'Controle de tração', 'Câmera de estacionamento']\", Valor=76566.49, Km_media=4747.25)\n",
      "Tuple: Pandas(Index='Ford Edge', Motor='Motor Diesel V6', Ano=2002, Quilometragem=12859.0, Zero_km=False, Acessórios=\"['Sensor crepuscular', 'Rodas de liga', 'Teto panorâmico', 'Sensor de chuva', 'Travas elétricas', 'Sensor de estacionamento', 'Controle de tração', 'Ar condicionado']\", Valor=71647.59, Km_media=756.4117647058823)\n",
      "Tuple: Pandas(Index='Courier', Motor='Motor Diesel V8', Ano=2007, Quilometragem=8052.0, Zero_km=False, Acessórios=\"['Central multimídia', '4 X 4', 'Piloto automático', 'Teto panorâmico', 'Controle de estabilidade', 'Câmera de estacionamento', 'Bancos de couro', 'Vidros elétricos']\", Valor=73919.53, Km_media=671.0)\n",
      "Tuple: Pandas(Index='S-18', Motor='Motor V6', Ano=2001, Quilometragem=89773.0, Zero_km=False, Acessórios=\"['Bancos de couro', 'Sensor de chuva', 'Rodas de liga', 'Central multimídia', 'Travas elétricas', 'Ar condicionado', 'Câmera de estacionamento', 'Sensor crepuscular']\", Valor=112732.99, Km_media=4987.388888888889)\n",
      "Tuple: Pandas(Index='J5', Motor='Motor V6', Ano=2019, Quilometragem=nan, Zero_km=True, Acessórios=\"['Sensor crepuscular', 'Painel digital', 'Rodas de liga', 'Freios ABS', 'Câmbio automático', 'Controle de tração', 'Central multimídia', 'Câmera de estacionamento']\", Valor=53183.38, Km_media=0.0)\n",
      "Tuple: Pandas(Index='F-Type Coupé', Motor='Motor 5.0 V8 Bi-Turbo', Ano=2009, Quilometragem=41457.0, Zero_km=False, Acessórios=\"['Piloto automático', 'Sensor crepuscular', 'Sensor de chuva', 'Ar condicionado', 'Sensor de estacionamento', 'Controle de tração', 'Câmera de estacionamento', 'Vidros elétricos']\", Valor=127488.42, Km_media=4145.7)\n",
      "Tuple: Pandas(Index='RAM', Motor='Motor Diesel V8', Ano=2016, Quilometragem=115607.0, Zero_km=False, Acessórios=\"['Sensor crepuscular', 'Câmbio automático', 'Sensor de chuva', 'Central multimídia', 'Controle de estabilidade', '4 X 4', 'Freios ABS', 'Piloto automático']\", Valor=59910.4, Km_media=38535.666666666664)\n",
      "Tuple: Pandas(Index='Série 1', Motor='Motor 3.0 32v', Ano=2012, Quilometragem=46449.0, Zero_km=False, Acessórios=\"['Teto panorâmico', 'Câmera de estacionamento', 'Travas elétricas', '4 X 4', 'Painel digital', 'Central multimídia', 'Rodas de liga', 'Freios ABS']\", Valor=61118.59, Km_media=6635.571428571428)\n",
      "Tuple: Pandas(Index='A3', Motor='Motor 1.0 8v', Ano=2019, Quilometragem=nan, Zero_km=True, Acessórios=\"['4 X 4', 'Piloto automático', 'Central multimídia', 'Teto panorâmico', 'Sensor de estacionamento', 'Controle de tração', 'Controle de estabilidade', 'Sensor de chuva']\", Valor=88552.39, Km_media=0.0)\n",
      "Tuple: Pandas(Index='XC90', Motor='Motor 1.0 8v', Ano=2016, Quilometragem=37086.0, Zero_km=False, Acessórios=\"['Travas elétricas', 'Vidros elétricos', 'Teto panorâmico', 'Central multimídia', 'Controle de estabilidade', '4 X 4', 'Câmbio automático', 'Sensor de chuva']\", Valor=62696.69, Km_media=12362.0)\n",
      "Tuple: Pandas(Index='RS 3 Sportback', Motor='Motor 3.0 32v', Ano=2017, Quilometragem=15173.0, Zero_km=False, Acessórios=\"['4 X 4', 'Piloto automático', 'Central multimídia', 'Bancos de couro', 'Sensor de chuva', 'Rodas de liga', 'Ar condicionado', 'Sensor crepuscular']\", Valor=101726.3, Km_media=7586.5)\n",
      "Tuple: Pandas(Index='Pajero Sport', Motor='Motor 1.0 8v', Ano=2002, Quilometragem=101193.0, Zero_km=False, Acessórios=\"['Sensor de estacionamento', 'Piloto automático', 'Câmbio automático', 'Painel digital', 'Freios ABS', 'Câmera de estacionamento', 'Rodas de liga', 'Controle de estabilidade']\", Valor=106147.38, Km_media=5952.529411764706)\n",
      "Tuple: Pandas(Index='Série 1 M', Motor='Motor V8', Ano=2019, Quilometragem=nan, Zero_km=True, Acessórios=\"['Controle de estabilidade', 'Central multimídia', 'Painel digital', 'Sensor crepuscular', 'Sensor de chuva', 'Câmera de estacionamento', 'Ar condicionado', 'Freios ABS']\", Valor=94564.4, Km_media=0.0)\n",
      "Tuple: Pandas(Index='Lamborghini Obvious', Motor='Motor Diesel V6', Ano=1994, Quilometragem=98079.0, Zero_km=False, Acessórios=\"['Rodas de liga', 'Câmbio automático', 'Travas elétricas', 'Teto panorâmico', 'Controle de estabilidade', 'Central multimídia', 'Sensor de estacionamento', 'Sensor crepuscular']\", Valor=133529.84, Km_media=3923.16)\n",
      "Tuple: Pandas(Index='Effa Hafei Picape Baú', Motor='Motor Diesel', Ano=1991, Quilometragem=102959.0, Zero_km=False, Acessórios=\"['Controle de estabilidade', 'Painel digital', 'Vidros elétricos', '4 X 4', 'Sensor crepuscular', 'Ar condicionado', 'Travas elétricas', 'Central multimídia']\", Valor=125684.65, Km_media=3677.1071428571427)\n",
      "Tuple: Pandas(Index='Lamborghini Murciélago', Motor='Motor 5.0 V8 Bi-Turbo', Ano=2019, Quilometragem=nan, Zero_km=True, Acessórios=\"['Freios ABS', 'Câmbio automático', 'Ar condicionado', 'Câmera de estacionamento', 'Controle de tração', 'Central multimídia', 'Sensor crepuscular', 'Controle de estabilidade']\", Valor=121596.21, Km_media=0.0)\n",
      "Tuple: Pandas(Index='Up!', Motor='Motor Diesel V6', Ano=2019, Quilometragem=nan, Zero_km=True, Acessórios=\"['Sensor de estacionamento', 'Vidros elétricos', 'Freios ABS', 'Central multimídia', 'Controle de estabilidade', 'Sensor de chuva', 'Câmbio automático', 'Piloto automático']\", Valor=71367.1, Km_media=0.0)\n",
      "Tuple: Pandas(Index='Fiesta Rocam Sedan', Motor='Motor 4.0 Turbo', Ano=2016, Quilometragem=5795.0, Zero_km=False, Acessórios=\"['Ar condicionado', 'Bancos de couro', 'Câmbio automático', 'Câmera de estacionamento', 'Piloto automático', 'Controle de estabilidade', 'Sensor de chuva', 'Vidros elétricos']\", Valor=95347.75, Km_media=1931.6666666666667)\n",
      "Tuple: Pandas(Index='Sandero Stepway', Motor='Motor 3.0 32v', Ano=2019, Quilometragem=nan, Zero_km=True, Acessórios=\"['Freios ABS', 'Ar condicionado', 'Teto panorâmico', 'Painel digital', 'Sensor de estacionamento', 'Vidros elétricos', 'Sensor crepuscular', 'Piloto automático']\", Valor=105432.84, Km_media=0.0)\n",
      "Tuple: Pandas(Index='Cayman S', Motor='Motor 3.0 32v', Ano=2002, Quilometragem=58848.0, Zero_km=False, Acessórios=\"['Câmbio automático', 'Sensor de estacionamento', 'Rodas de liga', 'Vidros elétricos', '4 X 4', 'Bancos de couro', 'Painel digital', 'Travas elétricas']\", Valor=57045.27, Km_media=3461.6470588235293)\n",
      "Tuple: Pandas(Index='V40', Motor='Motor 4.0 Turbo', Ano=1991, Quilometragem=94381.0, Zero_km=False, Acessórios=\"['Câmera de estacionamento', 'Sensor de estacionamento', 'Rodas de liga', 'Controle de tração', 'Freios ABS', 'Câmbio automático', 'Bancos de couro', 'Sensor de chuva']\", Valor=120432.7, Km_media=3370.75)\n",
      "Tuple: Pandas(Index='Classe SLS AMG', Motor='Motor 1.0 8v', Ano=1997, Quilometragem=30163.0, Zero_km=False, Acessórios=\"['Sensor de estacionamento', 'Controle de estabilidade', 'Sensor de chuva', 'Travas elétricas', 'Painel digital', 'Sensor crepuscular', 'Piloto automático', 'Bancos de couro']\", Valor=70707.2, Km_media=1371.0454545454545)\n",
      "Tuple: Pandas(Index='Gol G4', Motor='Motor 2.0 16v', Ano=1995, Quilometragem=53332.0, Zero_km=False, Acessórios=\"['Sensor crepuscular', '4 X 4', 'Vidros elétricos', 'Controle de tração', 'Ar condicionado', 'Câmera de estacionamento', 'Painel digital', 'Freios ABS']\", Valor=69105.18, Km_media=2222.1666666666665)\n",
      "Tuple: Pandas(Index='Linea', Motor='Motor 1.0 8v', Ano=2018, Quilometragem=17720.0, Zero_km=False, Acessórios=\"['Piloto automático', 'Painel digital', 'Vidros elétricos', 'Controle de tração', 'Teto panorâmico', 'Ar condicionado', 'Câmera de estacionamento', 'Rodas de liga']\", Valor=59358.69, Km_media=17720.0)\n",
      "Tuple: Pandas(Index='Ford F100', Motor='Motor 2.0 16v', Ano=1991, Quilometragem=33808.0, Zero_km=False, Acessórios=\"['Controle de tração', 'Sensor crepuscular', 'Travas elétricas', 'Bancos de couro', 'Câmera de estacionamento', 'Rodas de liga', 'Central multimídia', '4 X 4']\", Valor=65955.4, Km_media=1207.4285714285713)\n",
      "Tuple: Pandas(Index='J2', Motor='Motor V8', Ano=2014, Quilometragem=90684.0, Zero_km=False, Acessórios=\"['Teto panorâmico', 'Sensor de estacionamento', 'Bancos de couro', 'Vidros elétricos', 'Freios ABS', 'Rodas de liga', 'Travas elétricas', 'Câmbio automático']\", Valor=60017.03, Km_media=18136.8)\n",
      "Tuple: Pandas(Index='Aston Martin DBS', Motor='Motor V8', Ano=1995, Quilometragem=43975.0, Zero_km=False, Acessórios=\"['Teto panorâmico', 'Piloto automático', 'Ar condicionado', 'Vidros elétricos', 'Bancos de couro', 'Travas elétricas', 'Sensor de chuva', 'Sensor crepuscular']\", Valor=118909.52, Km_media=1832.2916666666667)\n",
      "Tuple: Pandas(Index='Pajero TR4', Motor='Motor 2.4 Turbo', Ano=2019, Quilometragem=nan, Zero_km=True, Acessórios=\"['Controle de tração', 'Bancos de couro', 'Câmera de estacionamento', 'Controle de estabilidade', 'Vidros elétricos', 'Piloto automático', 'Rodas de liga', 'Teto panorâmico']\", Valor=51606.59, Km_media=0.0)\n",
      "Tuple: Pandas(Index='Polo Sedan', Motor='Motor V6', Ano=2019, Quilometragem=nan, Zero_km=True, Acessórios=\"['Sensor de chuva', 'Sensor crepuscular', 'Ar condicionado', 'Sensor de estacionamento', 'Teto panorâmico', 'Câmbio automático', 'Vidros elétricos', 'Travas elétricas']\", Valor=123281.87, Km_media=0.0)\n",
      "Tuple: Pandas(Index='California', Motor='Motor 1.0 8v', Ano=2009, Quilometragem=5526.0, Zero_km=False, Acessórios=\"['Rodas de liga', 'Ar condicionado', 'Câmera de estacionamento', 'Painel digital', 'Travas elétricas', 'Sensor crepuscular', 'Central multimídia', 'Freios ABS']\", Valor=69770.18, Km_media=552.6)\n",
      "Tuple: Pandas(Index='S60', Motor='Motor 2.4 Turbo', Ano=2019, Quilometragem=nan, Zero_km=True, Acessórios=\"['Teto panorâmico', 'Freios ABS', '4 X 4', 'Ar condicionado', 'Controle de tração', 'Central multimídia', 'Painel digital', 'Sensor crepuscular']\", Valor=102609.54, Km_media=0.0)\n",
      "Tuple: Pandas(Index='Tucson', Motor='Motor 2.0 16v', Ano=2013, Quilometragem=93415.0, Zero_km=False, Acessórios=\"['Vidros elétricos', 'Sensor crepuscular', 'Freios ABS', 'Câmera de estacionamento', 'Piloto automático', 'Travas elétricas', 'Câmbio automático', '4 X 4']\", Valor=67997.19, Km_media=15569.166666666666)\n",
      "Tuple: Pandas(Index='HB20', Motor='Motor V6', Ano=2003, Quilometragem=40762.0, Zero_km=False, Acessórios=\"['Sensor de chuva', 'Travas elétricas', 'Controle de tração', 'Freios ABS', 'Ar condicionado', 'Teto panorâmico', 'Vidros elétricos', 'Câmbio automático']\", Valor=135235.29, Km_media=2547.625)\n",
      "Tuple: Pandas(Index='Optima', Motor='Motor 1.8 16v', Ano=2019, Quilometragem=nan, Zero_km=True, Acessórios=\"['Central multimídia', 'Ar condicionado', 'Teto panorâmico', 'Freios ABS', 'Painel digital', 'Controle de estabilidade', '4 X 4', 'Sensor de estacionamento']\", Valor=86641.34, Km_media=0.0)\n",
      "Tuple: Pandas(Index='Logan', Motor='Motor 4.0 Turbo', Ano=2002, Quilometragem=86302.0, Zero_km=False, Acessórios=\"['Câmera de estacionamento', 'Vidros elétricos', 'Central multimídia', 'Sensor de chuva', 'Sensor crepuscular', 'Painel digital', 'Ar condicionado', 'Bancos de couro']\", Valor=136818.39, Km_media=5076.588235294118)\n",
      "Tuple: Pandas(Index='Range Rover Vogue', Motor='Motor 1.0 8v', Ano=2019, Quilometragem=nan, Zero_km=True, Acessórios=\"['4 X 4', 'Vidros elétricos', 'Rodas de liga', 'Central multimídia', 'Câmera de estacionamento', 'Sensor de estacionamento', 'Piloto automático', 'Ar condicionado']\", Valor=117626.73, Km_media=0.0)\n",
      "Tuple: Pandas(Index='Sonata', Motor='Motor 5.0 V8 Bi-Turbo', Ano=2002, Quilometragem=9755.0, Zero_km=False, Acessórios=\"['Piloto automático', 'Ar condicionado', 'Vidros elétricos', '4 X 4', 'Sensor de estacionamento', 'Bancos de couro', 'Travas elétricas', 'Controle de estabilidade']\", Valor=56208.7, Km_media=573.8235294117648)\n",
      "Tuple: Pandas(Index='Ford New Fiesta Sedan', Motor='Motor 3.0 32v', Ano=2004, Quilometragem=69945.0, Zero_km=False, Acessórios=\"['Teto panorâmico', 'Painel digital', 'Ar condicionado', 'Central multimídia', '4 X 4', 'Controle de estabilidade', 'Câmbio automático', 'Sensor de chuva']\", Valor=84222.65, Km_media=4663.0)\n",
      "Tuple: Pandas(Index='Série 5 Gran Turismo', Motor='Motor 4.0 Turbo', Ano=2001, Quilometragem=2395.0, Zero_km=False, Acessórios=\"['Controle de tração', 'Piloto automático', 'Ar condicionado', 'Bancos de couro', 'Freios ABS', 'Central multimídia', 'Sensor de chuva', '4 X 4']\", Valor=90781.65, Km_media=133.05555555555554)\n",
      "Tuple: Pandas(Index='CR-V', Motor='Motor Diesel V8', Ano=2019, Quilometragem=nan, Zero_km=True, Acessórios=\"['Câmbio automático', 'Central multimídia', 'Vidros elétricos', 'Controle de estabilidade', 'Controle de tração', 'Bancos de couro', 'Freios ABS', 'Painel digital']\", Valor=64701.1, Km_media=0.0)\n",
      "Tuple: Pandas(Index='Ford EcoSport', Motor='Motor 1.0 8v', Ano=2003, Quilometragem=80349.0, Zero_km=False, Acessórios=\"['Vidros elétricos', 'Piloto automático', 'Painel digital', 'Freios ABS', 'Bancos de couro', 'Teto panorâmico', 'Sensor de chuva', 'Rodas de liga']\", Valor=126350.49, Km_media=5021.8125)\n",
      "Tuple: Pandas(Index='Versa', Motor='Motor 3.0 32v', Ano=2009, Quilometragem=85554.0, Zero_km=False, Acessórios=\"['Bancos de couro', 'Ar condicionado', 'Rodas de liga', 'Sensor crepuscular', 'Travas elétricas', 'Sensor de estacionamento', 'Piloto automático', 'Controle de estabilidade']\", Valor=148152.89, Km_media=8555.4)\n",
      "Tuple: Pandas(Index='Classe E', Motor='Motor 1.0 8v', Ano=2006, Quilometragem=50496.0, Zero_km=False, Acessórios=\"['Freios ABS', 'Sensor de estacionamento', 'Central multimídia', 'Câmera de estacionamento', 'Ar condicionado', 'Teto panorâmico', 'Câmbio automático', 'Piloto automático']\", Valor=132298.83, Km_media=3884.3076923076924)\n",
      "Tuple: Pandas(Index='Carnival', Motor='Motor V8', Ano=2000, Quilometragem=67716.0, Zero_km=False, Acessórios=\"['Travas elétricas', 'Câmbio automático', 'Câmera de estacionamento', 'Freios ABS', 'Central multimídia', 'Rodas de liga', 'Teto panorâmico', 'Controle de estabilidade']\", Valor=137627.63, Km_media=3564.0)\n",
      "Tuple: Pandas(Index='Aston Martin V8 Vantage Roadster', Motor='Motor 2.4 Turbo', Ano=2006, Quilometragem=93947.0, Zero_km=False, Acessórios=\"['Câmbio automático', 'Câmera de estacionamento', 'Vidros elétricos', 'Controle de estabilidade', 'Central multimídia', 'Piloto automático', 'Sensor crepuscular', 'Travas elétricas']\", Valor=80422.71, Km_media=7226.692307692308)\n",
      "Tuple: Pandas(Index='Hoggar', Motor='Motor 5.0 V8 Bi-Turbo', Ano=2010, Quilometragem=35345.0, Zero_km=False, Acessórios=\"['Controle de estabilidade', 'Bancos de couro', 'Sensor de chuva', 'Painel digital', 'Vidros elétricos', 'Freios ABS', 'Controle de tração', 'Ar condicionado']\", Valor=56373.99, Km_media=3927.222222222222)\n",
      "Tuple: Pandas(Index='A1', Motor='Motor 5.0 V8 Bi-Turbo', Ano=1994, Quilometragem=81007.0, Zero_km=False, Acessórios=\"['Painel digital', 'Câmbio automático', 'Câmera de estacionamento', 'Freios ABS', 'Controle de estabilidade', 'Sensor crepuscular', '4 X 4', 'Ar condicionado']\", Valor=70846.03, Km_media=3240.28)\n",
      "Tuple: Pandas(Index='Aston Martin DB7 Vantage', Motor='Motor V6', Ano=2007, Quilometragem=119513.0, Zero_km=False, Acessórios=\"['Sensor crepuscular', 'Piloto automático', 'Teto panorâmico', 'Freios ABS', 'Câmbio automático', 'Central multimídia', 'Vidros elétricos', 'Sensor de estacionamento']\", Valor=128694.23, Km_media=9959.416666666666)\n",
      "Tuple: Pandas(Index='CLA', Motor='Motor 1.0 8v', Ano=2019, Quilometragem=nan, Zero_km=True, Acessórios=\"['Central multimídia', 'Sensor de chuva', 'Controle de estabilidade', 'Sensor crepuscular', 'Rodas de liga', 'Piloto automático', '4 X 4', 'Vidros elétricos']\", Valor=133329.19, Km_media=0.0)\n",
      "Tuple: Pandas(Index='Accord', Motor='Motor V8', Ano=2019, Quilometragem=nan, Zero_km=True, Acessórios=\"['Sensor de estacionamento', 'Ar condicionado', 'Central multimídia', 'Controle de tração', 'Rodas de liga', 'Teto panorâmico', 'Sensor de chuva', 'Câmera de estacionamento']\", Valor=131961.43, Km_media=0.0)\n",
      "Tuple: Pandas(Index='EXTRA 103EX', Motor='Motor 2.0 16v', Ano=2019, Quilometragem=nan, Zero_km=True, Acessórios=\"['Sensor de estacionamento', 'Central multimídia', 'Bancos de couro', 'Sensor crepuscular', 'Teto panorâmico', 'Controle de tração', 'Piloto automático', 'Sensor de chuva']\", Valor=112033.27, Km_media=0.0)\n",
      "Tuple: Pandas(Index='Sorento', Motor='Motor Diesel', Ano=2019, Quilometragem=nan, Zero_km=True, Acessórios=\"['Sensor de chuva', 'Câmera de estacionamento', 'Sensor de estacionamento', 'Controle de estabilidade', 'Rodas de liga', 'Travas elétricas', 'Vidros elétricos', 'Controle de tração']\", Valor=81399.35, Km_media=0.0)\n",
      "Tuple: Pandas(Index='Tiggo', Motor='Motor 3.0 32v', Ano=2019, Quilometragem=nan, Zero_km=True, Acessórios=\"['Câmera de estacionamento', 'Freios ABS', 'Piloto automático', 'Vidros elétricos', 'Câmbio automático', 'Sensor crepuscular', 'Sensor de estacionamento', 'Controle de tração']\", Valor=97163.1, Km_media=0.0)\n",
      "Tuple: Pandas(Index='New Fiesta Hatch', Motor='Motor Diesel', Ano=2017, Quilometragem=118895.0, Zero_km=False, Acessórios=\"['Sensor de estacionamento', 'Travas elétricas', 'Piloto automático', 'Rodas de liga', 'Controle de tração', 'Ar condicionado', '4 X 4', 'Sensor crepuscular']\", Valor=66007.16, Km_media=59447.5)\n",
      "Tuple: Pandas(Index='Jeep Renegade', Motor='Motor 5.0 V8 Bi-Turbo', Ano=2011, Quilometragem=48509.0, Zero_km=False, Acessórios=\"['Vidros elétricos', 'Teto panorâmico', 'Bancos de couro', 'Travas elétricas', 'Sensor de chuva', 'Controle de tração', 'Freios ABS', 'Central multimídia']\", Valor=128776.22, Km_media=6063.625)\n",
      "Tuple: Pandas(Index='Lamborghini Ankonian', Motor='Motor 2.0 16v', Ano=2001, Quilometragem=100912.0, Zero_km=False, Acessórios=\"['Bancos de couro', 'Câmera de estacionamento', 'Central multimídia', '4 X 4', 'Sensor de chuva', 'Ar condicionado', 'Rodas de liga', 'Sensor crepuscular']\", Valor=142623.02, Km_media=5606.222222222223)\n",
      "Tuple: Pandas(Index='Space Cross', Motor='Motor 5.0 V8 Bi-Turbo', Ano=1996, Quilometragem=95649.0, Zero_km=False, Acessórios=\"['Teto panorâmico', 'Vidros elétricos', 'Sensor de chuva', 'Travas elétricas', 'Rodas de liga', 'Sensor crepuscular', 'Freios ABS', 'Ar condicionado']\", Valor=136930.13, Km_media=4158.652173913043)\n",
      "Tuple: Pandas(Index='Touareg', Motor='Motor V8', Ano=2019, Quilometragem=nan, Zero_km=True, Acessórios=\"['Controle de estabilidade', 'Piloto automático', 'Sensor crepuscular', 'Travas elétricas', 'Câmera de estacionamento', 'Rodas de liga', 'Painel digital', 'Teto panorâmico']\", Valor=66526.61, Km_media=0.0)\n",
      "Tuple: Pandas(Index='Classe M', Motor='Motor 1.0 8v', Ano=1994, Quilometragem=90495.0, Zero_km=False, Acessórios=\"['Central multimídia', 'Bancos de couro', 'Rodas de liga', '4 X 4', 'Vidros elétricos', 'Câmbio automático', 'Ar condicionado', 'Controle de estabilidade']\", Valor=114154.87, Km_media=3619.8)\n",
      "Tuple: Pandas(Index='Lancer Evolution X', Motor='Motor Diesel V6', Ano=2019, Quilometragem=nan, Zero_km=True, Acessórios=\"['Vidros elétricos', 'Câmbio automático', 'Controle de tração', 'Travas elétricas', 'Teto panorâmico', 'Ar condicionado', 'Sensor crepuscular', 'Central multimídia']\", Valor=142392.75, Km_media=0.0)\n",
      "Tuple: Pandas(Index='Kangoo Express', Motor='Motor Diesel', Ano=2007, Quilometragem=29132.0, Zero_km=False, Acessórios=\"['Bancos de couro', 'Câmbio automático', 'Piloto automático', 'Controle de estabilidade', 'Central multimídia', 'Sensor de chuva', 'Teto panorâmico', 'Painel digital']\", Valor=146716.91, Km_media=2427.6666666666665)\n",
      "Tuple: Pandas(Index='SW4', Motor='Motor Diesel V6', Ano=1994, Quilometragem=23802.0, Zero_km=False, Acessórios=\"['Sensor de chuva', 'Bancos de couro', 'Controle de tração', 'Piloto automático', 'Central multimídia', 'Câmera de estacionamento', 'Teto panorâmico', 'Rodas de liga']\", Valor=122485.68, Km_media=952.08)\n",
      "Tuple: Pandas(Index='Cadillac ELR', Motor='Motor 1.0 8v', Ano=2007, Quilometragem=84992.0, Zero_km=False, Acessórios=\"['Sensor crepuscular', 'Travas elétricas', 'Teto panorâmico', 'Vidros elétricos', 'Sensor de estacionamento', 'Sensor de chuva', 'Rodas de liga', 'Freios ABS']\", Valor=97951.03, Km_media=7082.666666666667)\n",
      "Tuple: Pandas(Index='Doblò', Motor='Motor 1.8 16v', Ano=1997, Quilometragem=54395.0, Zero_km=False, Acessórios=\"['Câmera de estacionamento', 'Teto panorâmico', 'Controle de estabilidade', 'Sensor de estacionamento', 'Travas elétricas', 'Vidros elétricos', 'Bancos de couro', 'Piloto automático']\", Valor=78283.49, Km_media=2472.5)\n",
      "Tuple: Pandas(Index='Lamborghini Egoista', Motor='Motor 3.0 32v', Ano=2006, Quilometragem=26731.0, Zero_km=False, Acessórios=\"['Rodas de liga', 'Controle de tração', 'Central multimídia', 'Controle de estabilidade', 'Sensor de estacionamento', 'Painel digital', 'Câmera de estacionamento', 'Sensor crepuscular']\", Valor=83434.04, Km_media=2056.230769230769)\n",
      "Tuple: Pandas(Index='Fit', Motor='Motor Diesel', Ano=2013, Quilometragem=44329.0, Zero_km=False, Acessórios=\"['Freios ABS', 'Câmera de estacionamento', 'Câmbio automático', 'Teto panorâmico', 'Piloto automático', 'Vidros elétricos', 'Sensor de chuva', 'Sensor crepuscular']\", Valor=77836.23, Km_media=7388.166666666667)\n",
      "Tuple: Pandas(Index='C5', Motor='Motor 2.0 16v', Ano=1994, Quilometragem=118236.0, Zero_km=False, Acessórios=\"['Painel digital', 'Teto panorâmico', 'Piloto automático', 'Controle de estabilidade', 'Sensor crepuscular', 'Sensor de estacionamento', 'Travas elétricas', 'Sensor de chuva']\", Valor=60813.92, Km_media=4729.44)\n",
      "Tuple: Pandas(Index='Celer Hatch', Motor='Motor V8', Ano=2008, Quilometragem=113808.0, Zero_km=False, Acessórios=\"['Controle de estabilidade', 'Câmbio automático', 'Freios ABS', 'Rodas de liga', 'Sensor crepuscular', 'Sensor de chuva', 'Central multimídia', 'Ar condicionado']\", Valor=91353.86, Km_media=10346.181818181818)\n",
      "Tuple: Pandas(Index='HB20S', Motor='Motor V8', Ano=2008, Quilometragem=610.0, Zero_km=False, Acessórios=\"['Teto panorâmico', 'Rodas de liga', 'Travas elétricas', 'Controle de tração', 'Freios ABS', 'Piloto automático', 'Sensor crepuscular', 'Sensor de estacionamento']\", Valor=116281.21, Km_media=55.45454545454545)\n",
      "Tuple: Pandas(Index='Cielo Hatch', Motor='Motor Diesel', Ano=2019, Quilometragem=nan, Zero_km=True, Acessórios=\"['Painel digital', 'Central multimídia', 'Câmera de estacionamento', 'Travas elétricas', 'Controle de tração', 'Sensor de estacionamento', 'Teto panorâmico', 'Ar condicionado']\", Valor=145197.7, Km_media=0.0)\n",
      "Tuple: Pandas(Index='Livina', Motor='Motor 2.0 16v', Ano=2019, Quilometragem=nan, Zero_km=True, Acessórios=\"['Sensor crepuscular', 'Câmera de estacionamento', 'Central multimídia', 'Rodas de liga', 'Painel digital', 'Câmbio automático', 'Bancos de couro', 'Sensor de estacionamento']\", Valor=50742.1, Km_media=0.0)\n",
      "Tuple: Pandas(Index='Ducato', Motor='Motor 5.0 V8 Bi-Turbo', Ano=1999, Quilometragem=12887.0, Zero_km=False, Acessórios=\"['Sensor de chuva', 'Painel digital', 'Sensor crepuscular', '4 X 4', 'Sensor de estacionamento', 'Bancos de couro', 'Travas elétricas', 'Câmbio automático']\", Valor=73033.53, Km_media=644.35)\n",
      "Tuple: Pandas(Index='March', Motor='Motor V6', Ano=2007, Quilometragem=79607.0, Zero_km=False, Acessórios=\"['Bancos de couro', 'Piloto automático', 'Sensor de estacionamento', 'Vidros elétricos', 'Controle de estabilidade', 'Freios ABS', '4 X 4', 'Câmbio automático']\", Valor=54332.87, Km_media=6633.916666666667)\n",
      "Tuple: Pandas(Index='Cadillac XTS sedan', Motor='Motor Diesel V6', Ano=1993, Quilometragem=90924.0, Zero_km=False, Acessórios=\"['Ar condicionado', 'Câmbio automático', 'Sensor de estacionamento', 'Travas elétricas', 'Câmera de estacionamento', 'Controle de tração', 'Bancos de couro', 'Painel digital']\", Valor=52207.45, Km_media=3497.076923076923)\n",
      "Tuple: Pandas(Index='Lamborghini Centenario', Motor='Motor V6', Ano=1995, Quilometragem=42733.0, Zero_km=False, Acessórios=\"['Central multimídia', 'Vidros elétricos', 'Sensor de estacionamento', '4 X 4', 'Câmera de estacionamento', 'Painel digital', 'Controle de tração', 'Câmbio automático']\", Valor=63578.5, Km_media=1780.5416666666667)\n",
      "Tuple: Pandas(Index='Hilux', Motor='Motor 5.0 V8 Bi-Turbo', Ano=2019, Quilometragem=nan, Zero_km=True, Acessórios=\"['4 X 4', 'Piloto automático', 'Teto panorâmico', 'Central multimídia', 'Vidros elétricos', 'Freios ABS', 'Painel digital', 'Rodas de liga']\", Valor=64507.72, Km_media=0.0)\n",
      "Tuple: Pandas(Index='Grand Siena', Motor='Motor Diesel V8', Ano=2019, Quilometragem=nan, Zero_km=True, Acessórios=\"['Bancos de couro', 'Painel digital', 'Sensor de estacionamento', 'Sensor crepuscular', 'Controle de tração', 'Ar condicionado', 'Travas elétricas', '4 X 4']\", Valor=115075.59, Km_media=0.0)\n",
      "Tuple: Pandas(Index='Symbol', Motor='Motor Diesel', Ano=2016, Quilometragem=117714.0, Zero_km=False, Acessórios=\"['4 X 4', 'Piloto automático', 'Sensor crepuscular', 'Câmera de estacionamento', 'Vidros elétricos', 'Rodas de liga', 'Central multimídia', 'Controle de tração']\", Valor=133030.6, Km_media=39238.0)\n",
      "Tuple: Pandas(Index='Aston Martin V12 GT Zagato', Motor='Motor 4.0 Turbo', Ano=2011, Quilometragem=113885.0, Zero_km=False, Acessórios=\"['Central multimídia', 'Piloto automático', 'Sensor de chuva', 'Controle de estabilidade', 'Controle de tração', 'Ar condicionado', 'Vidros elétricos', 'Teto panorâmico']\", Valor=141591.86, Km_media=14235.625)\n",
      "Tuple: Pandas(Index='Fusion', Motor='Motor 1.8 16v', Ano=2019, Quilometragem=nan, Zero_km=True, Acessórios=\"['Controle de tração', 'Câmbio automático', 'Freios ABS', 'Sensor de chuva', 'Travas elétricas', 'Câmera de estacionamento', 'Ar condicionado', 'Sensor crepuscular']\", Valor=100380.28, Km_media=0.0)\n",
      "Tuple: Pandas(Index='A4 Sedan', Motor='Motor Diesel', Ano=2002, Quilometragem=30511.0, Zero_km=False, Acessórios=\"['Câmera de estacionamento', '4 X 4', 'Travas elétricas', 'Ar condicionado', 'Teto panorâmico', 'Vidros elétricos', 'Freios ABS', 'Central multimídia']\", Valor=96369.04, Km_media=1794.764705882353)\n",
      "Tuple: Pandas(Index='Xsara Picasso', Motor='Motor 2.0 16v', Ano=2013, Quilometragem=74867.0, Zero_km=False, Acessórios=\"['Sensor de chuva', 'Teto panorâmico', 'Central multimídia', 'Vidros elétricos', 'Rodas de liga', 'Painel digital', 'Sensor crepuscular', 'Piloto automático']\", Valor=142603.84, Km_media=12477.833333333334)\n",
      "Tuple: Pandas(Index='207 SW', Motor='Motor 3.0 32v', Ano=2017, Quilometragem=119760.0, Zero_km=False, Acessórios=\"['Controle de estabilidade', 'Travas elétricas', 'Câmera de estacionamento', 'Bancos de couro', 'Sensor de estacionamento', 'Câmbio automático', 'Piloto automático', 'Sensor de chuva']\", Valor=117709.67, Km_media=59880.0)\n",
      "Tuple: Pandas(Index='Star', Motor='Motor V6', Ano=2016, Quilometragem=8356.0, Zero_km=False, Acessórios=\"['Câmera de estacionamento', '4 X 4', 'Central multimídia', 'Vidros elétricos', 'Sensor crepuscular', 'Sensor de estacionamento', 'Teto panorâmico', 'Piloto automático']\", Valor=102241.54, Km_media=2785.3333333333335)\n",
      "Tuple: Pandas(Index='Doblò Cargo', Motor='Motor 3.0 32v', Ano=2008, Quilometragem=64247.0, Zero_km=False, Acessórios=\"['Freios ABS', 'Teto panorâmico', 'Vidros elétricos', 'Piloto automático', 'Câmera de estacionamento', 'Ar condicionado', 'Controle de tração', '4 X 4']\", Valor=96065.38, Km_media=5840.636363636364)\n",
      "Tuple: Pandas(Index='Cadillac CTS', Motor='Motor 1.8 16v', Ano=2018, Quilometragem=88661.0, Zero_km=False, Acessórios=\"['Travas elétricas', 'Sensor de chuva', 'Freios ABS', 'Câmbio automático', 'Sensor de estacionamento', '4 X 4', 'Ar condicionado', 'Teto panorâmico']\", Valor=53894.61, Km_media=88661.0)\n",
      "Tuple: Pandas(Index='Cayenne', Motor='Motor 1.0 8v', Ano=2003, Quilometragem=4539.0, Zero_km=False, Acessórios=\"['Controle de tração', 'Piloto automático', 'Travas elétricas', 'Bancos de couro', 'Sensor de chuva', '4 X 4', 'Controle de estabilidade', 'Rodas de liga']\", Valor=123911.78, Km_media=283.6875)\n",
      "Tuple: Pandas(Index='Fox', Motor='Motor 4.0 Turbo', Ano=2003, Quilometragem=110116.0, Zero_km=False, Acessórios=\"['Piloto automático', 'Câmbio automático', 'Travas elétricas', 'Sensor de estacionamento', 'Teto panorâmico', 'Central multimídia', 'Ar condicionado', 'Rodas de liga']\", Valor=101996.35, Km_media=6882.25)\n",
      "Tuple: Pandas(Index='Tiida Hatch', Motor='Motor Diesel V6', Ano=2004, Quilometragem=33215.0, Zero_km=False, Acessórios=\"['Teto panorâmico', 'Travas elétricas', 'Sensor de estacionamento', 'Central multimídia', '4 X 4', 'Sensor de chuva', 'Ar condicionado', 'Rodas de liga']\", Valor=83431.66, Km_media=2214.3333333333335)\n",
      "Tuple: Pandas(Index='Dodge Charger', Motor='Motor 2.4 Turbo', Ano=2010, Quilometragem=92001.0, Zero_km=False, Acessórios=\"['Vidros elétricos', 'Sensor crepuscular', 'Controle de estabilidade', 'Teto panorâmico', 'Câmera de estacionamento', 'Piloto automático', 'Sensor de estacionamento', '4 X 4']\", Valor=122975.63, Km_media=10222.333333333334)\n",
      "Tuple: Pandas(Index='Face', Motor='Motor V8', Ano=2019, Quilometragem=nan, Zero_km=True, Acessórios=\"['Controle de estabilidade', 'Vidros elétricos', 'Freios ABS', 'Sensor de chuva', 'Câmera de estacionamento', 'Painel digital', 'Ar condicionado', 'Teto panorâmico']\", Valor=93227.73, Km_media=0.0)\n",
      "Tuple: Pandas(Index='Prius', Motor='Motor 3.0 32v', Ano=2006, Quilometragem=81708.0, Zero_km=False, Acessórios=\"['Rodas de liga', 'Bancos de couro', 'Painel digital', 'Câmera de estacionamento', 'Teto panorâmico', 'Vidros elétricos', 'Controle de tração', 'Ar condicionado']\", Valor=58762.65, Km_media=6285.2307692307695)\n",
      "Tuple: Pandas(Index='Idea', Motor='Motor V6', Ano=2001, Quilometragem=70641.0, Zero_km=False, Acessórios=\"['Central multimídia', 'Piloto automático', 'Travas elétricas', 'Bancos de couro', '4 X 4', 'Controle de tração', 'Câmbio automático', 'Sensor de chuva']\", Valor=139549.67, Km_media=3924.5)\n",
      "Tuple: Pandas(Index='A8', Motor='Motor 2.0 16v', Ano=2019, Quilometragem=nan, Zero_km=True, Acessórios=\"['Painel digital', 'Teto panorâmico', 'Piloto automático', 'Sensor de chuva', 'Câmbio automático', 'Freios ABS', 'Câmera de estacionamento', 'Sensor crepuscular']\", Valor=122016.42, Km_media=0.0)\n",
      "Tuple: Pandas(Index='Série 1 Cabrio', Motor='Motor 3.0 32v', Ano=2015, Quilometragem=91277.0, Zero_km=False, Acessórios=\"['Vidros elétricos', 'Travas elétricas', 'Controle de tração', 'Câmbio automático', 'Sensor crepuscular', 'Painel digital', 'Bancos de couro', 'Sensor de chuva']\", Valor=72731.98, Km_media=22819.25)\n",
      "Tuple: Pandas(Index='Edge', Motor='Motor V6', Ano=2018, Quilometragem=26544.0, Zero_km=False, Acessórios=\"['Freios ABS', 'Controle de tração', 'Sensor crepuscular', 'Travas elétricas', 'Câmbio automático', 'Câmera de estacionamento', 'Sensor de chuva', 'Teto panorâmico']\", Valor=88416.54, Km_media=26544.0)\n",
      "Tuple: Pandas(Index='Cadillac ATS sedan', Motor='Motor 1.8 16v', Ano=2017, Quilometragem=52596.0, Zero_km=False, Acessórios=\"['Painel digital', 'Vidros elétricos', 'Teto panorâmico', 'Central multimídia', 'Câmera de estacionamento', 'Rodas de liga', 'Sensor de chuva', 'Piloto automático']\", Valor=73873.42, Km_media=26298.0)\n",
      "Tuple: Pandas(Index='Lamborghini Asterion LPI 910-4', Motor='Motor 5.0 V8 Bi-Turbo', Ano=1992, Quilometragem=47503.0, Zero_km=False, Acessórios=\"['Ar condicionado', 'Painel digital', 'Controle de estabilidade', 'Sensor de chuva', 'Vidros elétricos', 'Teto panorâmico', 'Câmbio automático', '4 X 4']\", Valor=70709.34, Km_media=1759.3703703703704)\n",
      "Tuple: Pandas(Index='Frontier', Motor='Motor V8', Ano=2001, Quilometragem=89056.0, Zero_km=False, Acessórios=\"['Câmbio automático', 'Rodas de liga', 'Sensor de estacionamento', 'Bancos de couro', 'Vidros elétricos', 'Travas elétricas', 'Ar condicionado', 'Teto panorâmico']\", Valor=115306.5, Km_media=4947.555555555556)\n",
      "Tuple: Pandas(Index='Série 3 Sedã', Motor='Motor 3.0 32v', Ano=1993, Quilometragem=28834.0, Zero_km=False, Acessórios=\"['Controle de tração', 'Controle de estabilidade', '4 X 4', 'Rodas de liga', 'Travas elétricas', 'Teto panorâmico', 'Sensor de chuva', 'Sensor de estacionamento']\", Valor=55924.63, Km_media=1109.0)\n",
      "Tuple: Pandas(Index='Lamborghini LM002', Motor='Motor 1.8 16v', Ano=1995, Quilometragem=110564.0, Zero_km=False, Acessórios=\"['Bancos de couro', 'Freios ABS', 'Central multimídia', 'Controle de estabilidade', 'Controle de tração', 'Rodas de liga', 'Travas elétricas', 'Sensor crepuscular']\", Valor=85052.26, Km_media=4606.833333333333)\n",
      "Tuple: Pandas(Index='Cadillac XLR', Motor='Motor Diesel V8', Ano=2003, Quilometragem=56638.0, Zero_km=False, Acessórios=\"['Sensor crepuscular', 'Teto panorâmico', 'Sensor de estacionamento', 'Bancos de couro', 'Câmbio automático', 'Câmera de estacionamento', 'Freios ABS', 'Rodas de liga']\", Valor=56646.34, Km_media=3539.875)\n",
      "Tuple: Pandas(Index='A4 Avant', Motor='Motor Diesel', Ano=2014, Quilometragem=17357.0, Zero_km=False, Acessórios=\"['Teto panorâmico', '4 X 4', 'Bancos de couro', 'Ar condicionado', 'Rodas de liga', 'Freios ABS', 'Controle de estabilidade', 'Controle de tração']\", Valor=138946.88, Km_media=3471.4)\n",
      "Tuple: Pandas(Index='EcoSport', Motor='Motor 4.0 Turbo', Ano=2008, Quilometragem=74015.0, Zero_km=False, Acessórios=\"['Piloto automático', 'Sensor de estacionamento', 'Travas elétricas', 'Controle de estabilidade', 'Sensor crepuscular', 'Teto panorâmico', 'Rodas de liga', 'Ar condicionado']\", Valor=108256.72, Km_media=6728.636363636364)\n",
      "Tuple: Pandas(Index='J3', Motor='Motor 1.8 16v', Ano=2013, Quilometragem=15196.0, Zero_km=False, Acessórios=\"['Controle de estabilidade', '4 X 4', 'Câmera de estacionamento', 'Teto panorâmico', 'Painel digital', 'Bancos de couro', 'Sensor de estacionamento', 'Piloto automático']\", Valor=58979.3, Km_media=2532.6666666666665)\n",
      "Tuple: Pandas(Index='Q3', Motor='Motor 3.0 32v', Ano=2019, Quilometragem=nan, Zero_km=True, Acessórios=\"['Controle de estabilidade', 'Bancos de couro', 'Painel digital', 'Sensor crepuscular', 'Freios ABS', '4 X 4', 'Controle de tração', 'Sensor de chuva']\", Valor=114727.68, Km_media=0.0)\n",
      "Tuple: Pandas(Index='Aston Martin V8 Vantage', Motor='Motor V8', Ano=2017, Quilometragem=10821.0, Zero_km=False, Acessórios=\"['Teto panorâmico', 'Controle de tração', 'Painel digital', '4 X 4', 'Câmera de estacionamento', 'Piloto automático', 'Controle de estabilidade', 'Sensor de chuva']\", Valor=139661.48, Km_media=5410.5)\n",
      "Tuple: Pandas(Index='Z4 Roadster', Motor='Motor 3.0 32v', Ano=2019, Quilometragem=nan, Zero_km=True, Acessórios=\"['Central multimídia', 'Câmbio automático', 'Travas elétricas', '4 X 4', 'Bancos de couro', 'Teto panorâmico', 'Freios ABS', 'Sensor crepuscular']\", Valor=80382.24, Km_media=0.0)\n",
      "Tuple: Pandas(Index='Lamborghini Ferruccio', Motor='Motor 3.0 32v', Ano=2019, Quilometragem=nan, Zero_km=True, Acessórios=\"['Vidros elétricos', 'Piloto automático', 'Teto panorâmico', 'Sensor crepuscular', 'Sensor de chuva', 'Ar condicionado', 'Freios ABS', 'Câmera de estacionamento']\", Valor=149157.17, Km_media=0.0)\n",
      "Tuple: Pandas(Index='Ford Ka+', Motor='Motor 1.8 16v', Ano=2006, Quilometragem=9595.0, Zero_km=False, Acessórios=\"['Sensor crepuscular', 'Piloto automático', 'Controle de tração', 'Controle de estabilidade', 'Ar condicionado', 'Central multimídia', 'Câmbio automático', 'Bancos de couro']\", Valor=87830.41, Km_media=738.0769230769231)\n",
      "Tuple: Pandas(Index='Silver Shadow', Motor='Motor Diesel', Ano=2015, Quilometragem=99052.0, Zero_km=False, Acessórios=\"['4 X 4', 'Central multimídia', 'Ar condicionado', 'Teto panorâmico', 'Travas elétricas', 'Controle de tração', 'Painel digital', 'Sensor de chuva']\", Valor=143568.22, Km_media=24763.0)\n",
      "Tuple: Pandas(Index='Classe C 63 AMG Touring', Motor='Motor Diesel V8', Ano=2007, Quilometragem=52389.0, Zero_km=False, Acessórios=\"['Central multimídia', 'Piloto automático', 'Freios ABS', 'Sensor crepuscular', 'Câmbio automático', 'Bancos de couro', 'Sensor de chuva', 'Vidros elétricos']\", Valor=138171.85, Km_media=4365.75)\n",
      "Tuple: Pandas(Index='Discovery 4', Motor='Motor 4.0 Turbo', Ano=2005, Quilometragem=119945.0, Zero_km=False, Acessórios=\"['Freios ABS', 'Rodas de liga', 'Sensor de chuva', 'Controle de estabilidade', 'Vidros elétricos', 'Teto panorâmico', 'Sensor crepuscular', 'Controle de tração']\", Valor=115784.95, Km_media=8567.5)\n",
      "Tuple: Pandas(Index='Veloster', Motor='Motor Diesel V8', Ano=2017, Quilometragem=96005.0, Zero_km=False, Acessórios=\"['Ar condicionado', 'Central multimídia', 'Bancos de couro', 'Sensor crepuscular', 'Freios ABS', 'Vidros elétricos', 'Câmera de estacionamento', '4 X 4']\", Valor=146508.99, Km_media=48002.5)\n",
      "Tuple: Pandas(Index='Classe C', Motor='Motor Diesel V6', Ano=1998, Quilometragem=31639.0, Zero_km=False, Acessórios=\"['Freios ABS', 'Sensor de chuva', 'Central multimídia', 'Câmbio automático', 'Painel digital', 'Controle de tração', 'Bancos de couro', 'Controle de estabilidade']\", Valor=137670.23, Km_media=1506.6190476190477)\n",
      "Tuple: Pandas(Index='Camry', Motor='Motor Diesel', Ano=2019, Quilometragem=nan, Zero_km=True, Acessórios=\"['Travas elétricas', 'Rodas de liga', 'Sensor crepuscular', 'Bancos de couro', 'Painel digital', 'Freios ABS', 'Ar condicionado', 'Câmera de estacionamento']\", Valor=138597.27, Km_media=0.0)\n",
      "Tuple: Pandas(Index='C5 Tourer', Motor='Motor Diesel V6', Ano=1999, Quilometragem=80187.0, Zero_km=False, Acessórios=\"['Rodas de liga', 'Sensor de chuva', 'Painel digital', 'Câmera de estacionamento', 'Controle de tração', 'Vidros elétricos', 'Central multimídia', '4 X 4']\", Valor=147627.81, Km_media=4009.35)\n",
      "Tuple: Pandas(Index='R8 GT', Motor='Motor 4.0 Turbo', Ano=2019, Quilometragem=nan, Zero_km=True, Acessórios=\"['Rodas de liga', 'Câmbio automático', 'Sensor crepuscular', 'Sensor de estacionamento', 'Bancos de couro', 'Teto panorâmico', 'Freios ABS', 'Câmera de estacionamento']\", Valor=62999.02, Km_media=0.0)\n",
      "Tuple: Pandas(Index='Bongo', Motor='Motor Diesel V8', Ano=2009, Quilometragem=58212.0, Zero_km=False, Acessórios=\"['Vidros elétricos', 'Teto panorâmico', 'Painel digital', 'Piloto automático', 'Sensor crepuscular', 'Central multimídia', 'Câmbio automático', 'Rodas de liga']\", Valor=91242.44, Km_media=5821.2)\n",
      "Tuple: Pandas(Index='ASX', Motor='Motor Diesel V8', Ano=2003, Quilometragem=61672.0, Zero_km=False, Acessórios=\"['Ar condicionado', 'Sensor crepuscular', 'Rodas de liga', 'Controle de estabilidade', 'Piloto automático', 'Câmbio automático', 'Sensor de estacionamento', 'Teto panorâmico']\", Valor=149489.92, Km_media=3854.5)\n",
      "Tuple: Pandas(Index='Cadillac SRX', Motor='Motor 5.0 V8 Bi-Turbo', Ano=1994, Quilometragem=32017.0, Zero_km=False, Acessórios=\"['Painel digital', 'Piloto automático', 'Controle de estabilidade', 'Teto panorâmico', 'Travas elétricas', 'Rodas de liga', 'Central multimídia', '4 X 4']\", Valor=63529.95, Km_media=1280.68)\n",
      "Tuple: Pandas(Index='Classe CL', Motor='Motor V8', Ano=2019, Quilometragem=nan, Zero_km=True, Acessórios=\"['Central multimídia', 'Câmbio automático', '4 X 4', 'Controle de estabilidade', 'Bancos de couro', 'Ar condicionado', 'Freios ABS', 'Câmera de estacionamento']\", Valor=58525.41, Km_media=0.0)\n",
      "Tuple: Pandas(Index='500 Abarth', Motor='Motor V6', Ano=1994, Quilometragem=56944.0, Zero_km=False, Acessórios=\"['4 X 4', 'Teto panorâmico', 'Controle de tração', 'Controle de estabilidade', 'Sensor de chuva', 'Travas elétricas', 'Painel digital', 'Sensor crepuscular']\", Valor=90345.05, Km_media=2277.76)\n",
      "Tuple: Pandas(Index='Aston Martin Cygnet', Motor='Motor 5.0 V8 Bi-Turbo', Ano=2019, Quilometragem=nan, Zero_km=True, Acessórios=\"['Painel digital', 'Ar condicionado', 'Sensor crepuscular', 'Freios ABS', 'Sensor de chuva', 'Câmera de estacionamento', 'Controle de tração', 'Vidros elétricos']\", Valor=147770.87, Km_media=0.0)\n",
      "Tuple: Pandas(Index='Cadillac STS', Motor='Motor 4.0 Turbo', Ano=2015, Quilometragem=86519.0, Zero_km=False, Acessórios=\"['Painel digital', 'Bancos de couro', 'Sensor de estacionamento', '4 X 4', 'Piloto automático', 'Câmbio automático', 'Controle de tração', 'Travas elétricas']\", Valor=106617.71, Km_media=21629.75)\n",
      "Tuple: Pandas(Index='Aston Martin DB9', Motor='Motor 1.8 16v', Ano=1996, Quilometragem=4821.0, Zero_km=False, Acessórios=\"['Ar condicionado', 'Vidros elétricos', '4 X 4', 'Câmera de estacionamento', 'Câmbio automático', 'Rodas de liga', 'Bancos de couro', 'Painel digital']\", Valor=104929.88, Km_media=209.6086956521739)\n",
      "Tuple: Pandas(Index='NX 200t', Motor='Motor 2.4 Turbo', Ano=1997, Quilometragem=101025.0, Zero_km=False, Acessórios=\"['Controle de estabilidade', 'Painel digital', 'Bancos de couro', 'Rodas de liga', 'Piloto automático', 'Vidros elétricos', '4 X 4', 'Controle de tração']\", Valor=100712.45, Km_media=4592.045454545455)\n",
      "Tuple: Pandas(Index='Aston Martin One-77', Motor='Motor V6', Ano=1993, Quilometragem=30705.0, Zero_km=False, Acessórios=\"['Sensor de estacionamento', 'Rodas de liga', 'Controle de estabilidade', 'Bancos de couro', 'Controle de tração', 'Piloto automático', 'Central multimídia', 'Vidros elétricos']\", Valor=141982.93, Km_media=1180.9615384615386)\n",
      "Tuple: Pandas(Index='Lamborghini Veneno', Motor='Motor 3.0 32v', Ano=2019, Quilometragem=nan, Zero_km=True, Acessórios=\"['4 X 4', 'Sensor de estacionamento', 'Câmbio automático', 'Rodas de liga', 'Teto panorâmico', 'Central multimídia', 'Travas elétricas', 'Piloto automático']\", Valor=104038.79, Km_media=0.0)\n",
      "Tuple: Pandas(Index='Sentra', Motor='Motor 2.0 16v', Ano=1992, Quilometragem=32555.0, Zero_km=False, Acessórios=\"['Piloto automático', 'Sensor crepuscular', 'Travas elétricas', 'Ar condicionado', 'Câmbio automático', 'Painel digital', 'Vidros elétricos', 'Controle de tração']\", Valor=88501.54, Km_media=1205.7407407407406)\n",
      "Tuple: Pandas(Index='Jumper', Motor='Motor 2.4 Turbo', Ano=1995, Quilometragem=103389.0, Zero_km=False, Acessórios=\"['Ar condicionado', 'Rodas de liga', 'Câmbio automático', 'Bancos de couro', 'Piloto automático', 'Freios ABS', 'Painel digital', 'Vidros elétricos']\", Valor=79782.02, Km_media=4307.875)\n",
      "Tuple: Pandas(Index='i30', Motor='Motor 1.8 16v', Ano=2019, Quilometragem=nan, Zero_km=True, Acessórios=\"['Câmbio automático', 'Controle de estabilidade', 'Sensor crepuscular', 'Controle de tração', 'Vidros elétricos', 'Freios ABS', 'Central multimídia', 'Bancos de couro']\", Valor=86224.1, Km_media=0.0)\n",
      "Tuple: Pandas(Index='X6', Motor='Motor Diesel V6', Ano=1990, Quilometragem=55289.0, Zero_km=False, Acessórios=\"['Câmera de estacionamento', 'Travas elétricas', 'Central multimídia', 'Piloto automático', 'Controle de tração', 'Bancos de couro', 'Sensor crepuscular', 'Sensor de estacionamento']\", Valor=103596.18, Km_media=1906.5172413793102)\n",
      "Tuple: Pandas(Index='Voyage', Motor='Motor 5.0 V8 Bi-Turbo', Ano=2019, Quilometragem=nan, Zero_km=True, Acessórios=\"['Ar condicionado', 'Sensor de estacionamento', 'Bancos de couro', 'Controle de estabilidade', 'Sensor crepuscular', '4 X 4', 'Vidros elétricos', 'Travas elétricas']\", Valor=148996.47, Km_media=0.0)\n",
      "Tuple: Pandas(Index='Phantom I Phantom II', Motor='Motor 1.8 16v', Ano=2019, Quilometragem=nan, Zero_km=True, Acessórios=\"['Piloto automático', 'Freios ABS', 'Painel digital', 'Ar condicionado', 'Bancos de couro', 'Rodas de liga', 'Câmbio automático', 'Sensor crepuscular']\", Valor=60948.01, Km_media=0.0)\n",
      "Tuple: Pandas(Index='Passat Variant', Motor='Motor 1.0 8v', Ano=1991, Quilometragem=115930.0, Zero_km=False, Acessórios=\"['Freios ABS', 'Rodas de liga', 'Piloto automático', 'Controle de tração', 'Bancos de couro', 'Vidros elétricos', 'Teto panorâmico', 'Painel digital']\", Valor=69535.44, Km_media=4140.357142857143)\n",
      "Tuple: Pandas(Index='Clio', Motor='Motor Diesel', Ano=1990, Quilometragem=66437.0, Zero_km=False, Acessórios=\"['4 X 4', 'Câmbio automático', 'Freios ABS', 'Bancos de couro', 'Piloto automático', 'Controle de estabilidade', 'Sensor de estacionamento', 'Sensor crepuscular']\", Valor=111130.33, Km_media=2290.9310344827586)\n",
      "Tuple: Pandas(Index='Classe G', Motor='Motor Diesel V6', Ano=2012, Quilometragem=96800.0, Zero_km=False, Acessórios=\"['Controle de estabilidade', 'Central multimídia', 'Sensor crepuscular', 'Freios ABS', 'Rodas de liga', '4 X 4', 'Vidros elétricos', 'Teto panorâmico']\", Valor=65847.69, Km_media=13828.57142857143)\n",
      "Tuple: Pandas(Index='Silver Ghost', Motor='Motor 1.8 16v', Ano=2007, Quilometragem=14237.0, Zero_km=False, Acessórios=\"['Travas elétricas', 'Painel digital', 'Câmera de estacionamento', 'Central multimídia', 'Controle de estabilidade', 'Piloto automático', 'Sensor de estacionamento', '4 X 4']\", Valor=78096.06, Km_media=1186.4166666666667)\n",
      "Tuple: Pandas(Index='Série 3 M3 Coupé', Motor='Motor Diesel', Ano=2013, Quilometragem=19896.0, Zero_km=False, Acessórios=\"['Bancos de couro', 'Sensor de chuva', 'Ar condicionado', 'Central multimídia', 'Sensor de estacionamento', 'Rodas de liga', 'Painel digital', 'Sensor crepuscular']\", Valor=69219.89, Km_media=3316.0)\n",
      "Tuple: Pandas(Index='Gallardo LP 560 – 4', Motor='Motor Diesel', Ano=2000, Quilometragem=113045.0, Zero_km=False, Acessórios=\"['Freios ABS', 'Teto panorâmico', 'Central multimídia', 'Bancos de couro', 'Rodas de liga', 'Sensor de estacionamento', 'Travas elétricas', '4 X 4']\", Valor=144118.91, Km_media=5949.736842105263)\n",
      "Tuple: Pandas(Index='Freelander 2', Motor='Motor Diesel V6', Ano=2002, Quilometragem=114942.0, Zero_km=False, Acessórios=\"['4 X 4', 'Câmera de estacionamento', 'Sensor crepuscular', 'Câmbio automático', 'Painel digital', 'Sensor de chuva', 'Sensor de estacionamento', 'Teto panorâmico']\", Valor=77397.05, Km_media=6761.294117647059)\n",
      "Tuple: Pandas(Index='Grand Cherokee', Motor='Motor 5.0 V8 Bi-Turbo', Ano=1996, Quilometragem=3173.0, Zero_km=False, Acessórios=\"['Câmbio automático', 'Travas elétricas', 'Sensor de estacionamento', 'Teto panorâmico', 'Bancos de couro', '4 X 4', 'Painel digital', 'Câmera de estacionamento']\", Valor=68974.25, Km_media=137.95652173913044)\n",
      "Tuple: Pandas(Index='Aston Martin DBR9', Motor='Motor 4.0 Turbo', Ano=1996, Quilometragem=83611.0, Zero_km=False, Acessórios=\"['Controle de estabilidade', 'Sensor de estacionamento', 'Piloto automático', 'Teto panorâmico', 'Câmera de estacionamento', 'Câmbio automático', 'Bancos de couro', 'Freios ABS']\", Valor=125231.3, Km_media=3635.2608695652175)\n",
      "Tuple: Pandas(Index='Soul', Motor='Motor 5.0 V8 Bi-Turbo', Ano=2015, Quilometragem=25356.0, Zero_km=False, Acessórios=\"['Sensor crepuscular', 'Piloto automático', 'Sensor de estacionamento', 'Sensor de chuva', 'Controle de estabilidade', 'Travas elétricas', 'Controle de tração', 'Bancos de couro']\", Valor=85501.12, Km_media=6339.0)\n",
      "Tuple: Pandas(Index='Cadillac BLS', Motor='Motor V8', Ano=1993, Quilometragem=88634.0, Zero_km=False, Acessórios=\"['Teto panorâmico', 'Controle de estabilidade', 'Câmbio automático', 'Controle de tração', 'Ar condicionado', 'Sensor de chuva', 'Painel digital', 'Sensor crepuscular']\", Valor=137116.21, Km_media=3409.0)\n",
      "Tuple: Pandas(Index='RX 350', Motor='Motor V6', Ano=2013, Quilometragem=2314.0, Zero_km=False, Acessórios=\"['Piloto automático', 'Sensor crepuscular', 'Ar condicionado', 'Controle de estabilidade', 'Bancos de couro', 'Controle de tração', 'Rodas de liga', 'Sensor de estacionamento']\", Valor=138823.81, Km_media=385.6666666666667)\n",
      "Tuple: Pandas(Index='Cayman', Motor='Motor 3.0 32v', Ano=2013, Quilometragem=2627.0, Zero_km=False, Acessórios=\"['Central multimídia', 'Painel digital', 'Sensor crepuscular', 'Freios ABS', '4 X 4', 'Teto panorâmico', 'Bancos de couro', 'Câmera de estacionamento']\", Valor=117961.95, Km_media=437.8333333333333)\n",
      "Tuple: Pandas(Index='Chana Utility', Motor='Motor Diesel', Ano=2009, Quilometragem=52034.0, Zero_km=False, Acessórios=\"['Ar condicionado', 'Sensor de estacionamento', 'Piloto automático', 'Vidros elétricos', 'Controle de tração', '4 X 4', 'Teto panorâmico', 'Rodas de liga']\", Valor=132662.32, Km_media=5203.4)\n",
      "Tuple: Pandas(Index='308 CC', Motor='Motor 4.0 Turbo', Ano=2019, Quilometragem=nan, Zero_km=True, Acessórios=\"['Câmera de estacionamento', 'Bancos de couro', 'Central multimídia', 'Rodas de liga', 'Vidros elétricos', 'Painel digital', 'Controle de estabilidade', 'Câmbio automático']\", Valor=146405.79, Km_media=0.0)\n",
      "Tuple: Pandas(Index='L200 Triton', Motor='Motor Diesel V8', Ano=2019, Quilometragem=nan, Zero_km=True, Acessórios=\"['Vidros elétricos', 'Ar condicionado', 'Painel digital', 'Controle de tração', 'Câmera de estacionamento', 'Travas elétricas', '4 X 4', 'Câmbio automático']\", Valor=81999.21, Km_media=0.0)\n",
      "Tuple: Pandas(Index='Jetta', Motor='Motor 5.0 V8 Bi-Turbo', Ano=2002, Quilometragem=79577.0, Zero_km=False, Acessórios=\"['Central multimídia', 'Vidros elétricos', 'Câmera de estacionamento', 'Piloto automático', 'Freios ABS', 'Bancos de couro', 'Ar condicionado', 'Sensor de estacionamento']\", Valor=140934.6, Km_media=4681.0)\n",
      "Tuple: Pandas(Index='C4 Lounge', Motor='Motor V8', Ano=1997, Quilometragem=108201.0, Zero_km=False, Acessórios=\"['Central multimídia', 'Controle de tração', 'Teto panorâmico', 'Sensor de chuva', 'Travas elétricas', 'Sensor de estacionamento', 'Câmbio automático', 'Vidros elétricos']\", Valor=82366.81, Km_media=4918.227272727273)\n",
      "Tuple: Pandas(Index='C4 Pallas', Motor='Motor 1.0 8v', Ano=1998, Quilometragem=76453.0, Zero_km=False, Acessórios=\"['4 X 4', 'Freios ABS', 'Sensor de chuva', 'Rodas de liga', 'Câmbio automático', 'Travas elétricas', 'Controle de estabilidade', 'Sensor crepuscular']\", Valor=70424.11, Km_media=3640.6190476190477)\n",
      "Tuple: Pandas(Index='Equus', Motor='Motor 3.0 32v', Ano=2004, Quilometragem=57683.0, Zero_km=False, Acessórios=\"['Travas elétricas', 'Rodas de liga', '4 X 4', 'Câmbio automático', 'Freios ABS', 'Central multimídia', 'Vidros elétricos', 'Sensor de estacionamento']\", Valor=53620.31, Km_media=3845.5333333333333)\n",
      "Tuple: Pandas(Index='Classe GL', Motor='Motor 3.0 32v', Ano=1996, Quilometragem=96610.0, Zero_km=False, Acessórios=\"['Freios ABS', 'Câmera de estacionamento', 'Travas elétricas', 'Câmbio automático', 'Painel digital', 'Sensor de chuva', '4 X 4', 'Bancos de couro']\", Valor=73389.18, Km_media=4200.434782608696)\n",
      "Tuple: Pandas(Index='Range Rover Evoque', Motor='Motor 2.0 16v', Ano=2015, Quilometragem=109001.0, Zero_km=False, Acessórios=\"['Rodas de liga', 'Teto panorâmico', 'Sensor de chuva', 'Travas elétricas', 'Piloto automático', 'Painel digital', 'Sensor crepuscular', 'Controle de estabilidade']\", Valor=111618.12, Km_media=27250.25)\n",
      "Tuple: Pandas(Index='Cherokee', Motor='Motor 4.0 Turbo', Ano=2016, Quilometragem=26212.0, Zero_km=False, Acessórios=\"['Painel digital', 'Travas elétricas', 'Rodas de liga', 'Câmera de estacionamento', 'Sensor de estacionamento', 'Teto panorâmico', 'Ar condicionado', 'Piloto automático']\", Valor=112187.37, Km_media=8737.333333333334)\n",
      "Tuple: Pandas(Index='Punto', Motor='Motor 4.0 Turbo', Ano=2005, Quilometragem=45971.0, Zero_km=False, Acessórios=\"['Central multimídia', 'Câmbio automático', 'Piloto automático', '4 X 4', 'Sensor de chuva', 'Painel digital', 'Controle de estabilidade', 'Teto panorâmico']\", Valor=120812.57, Km_media=3283.6428571428573)\n",
      "Tuple: Pandas(Index='Grand Tour', Motor='Motor 3.0 32v', Ano=1999, Quilometragem=49182.0, Zero_km=False, Acessórios=\"['Rodas de liga', 'Travas elétricas', 'Bancos de couro', '4 X 4', 'Central multimídia', 'Vidros elétricos', 'Controle de estabilidade', 'Teto panorâmico']\", Valor=116031.04, Km_media=2459.1)\n",
      "Tuple: Pandas(Index='Fluence', Motor='Motor Diesel V6', Ano=1995, Quilometragem=49907.0, Zero_km=False, Acessórios=\"['Sensor crepuscular', 'Teto panorâmico', 'Câmbio automático', 'Câmera de estacionamento', 'Bancos de couro', 'Freios ABS', 'Ar condicionado', 'Central multimídia']\", Valor=125398.11, Km_media=2079.4583333333335)\n",
      "Tuple: Pandas(Index='Effa Hafei Picape Cabine Simples', Motor='Motor 1.0 8v', Ano=1993, Quilometragem=38620.0, Zero_km=False, Acessórios=\"['Piloto automático', 'Ar condicionado', 'Central multimídia', 'Painel digital', '4 X 4', 'Sensor de estacionamento', 'Controle de estabilidade', 'Sensor crepuscular']\", Valor=76101.47, Km_media=1485.3846153846155)\n",
      "Tuple: Pandas(Index='Durango', Motor='Motor 2.0 16v', Ano=2004, Quilometragem=60996.0, Zero_km=False, Acessórios=\"['Bancos de couro', 'Painel digital', 'Câmbio automático', 'Câmera de estacionamento', '4 X 4', 'Controle de estabilidade', 'Rodas de liga', 'Teto panorâmico']\", Valor=75263.24, Km_media=4066.4)\n",
      "Tuple: Pandas(Index='Boxster', Motor='Motor Diesel V8', Ano=2013, Quilometragem=73914.0, Zero_km=False, Acessórios=\"['Teto panorâmico', 'Sensor crepuscular', 'Bancos de couro', 'Sensor de estacionamento', 'Travas elétricas', 'Central multimídia', 'Controle de estabilidade', 'Rodas de liga']\", Valor=147387.76, Km_media=12319.0)\n",
      "Tuple: Pandas(Index='TT Roadster', Motor='Motor Diesel', Ano=1998, Quilometragem=107392.0, Zero_km=False, Acessórios=\"['Ar condicionado', 'Sensor de estacionamento', 'Controle de tração', 'Freios ABS', 'Painel digital', 'Vidros elétricos', 'Piloto automático', 'Travas elétricas']\", Valor=85311.4, Km_media=5113.9047619047615)\n",
      "Tuple: Pandas(Index='Lamborghini Jalpa', Motor='Motor 1.8 16v', Ano=2018, Quilometragem=9146.0, Zero_km=False, Acessórios=\"['Piloto automático', 'Freios ABS', 'Sensor de estacionamento', 'Vidros elétricos', 'Travas elétricas', 'Controle de tração', 'Sensor crepuscular', 'Câmbio automático']\", Valor=54388.11, Km_media=9146.0)\n",
      "Tuple: Pandas(Index='Classe SLK', Motor='Motor 4.0 Turbo', Ano=2019, Quilometragem=nan, Zero_km=True, Acessórios=\"['4 X 4', 'Sensor de estacionamento', 'Controle de tração', 'Rodas de liga', 'Sensor de chuva', 'Ar condicionado', 'Freios ABS', 'Bancos de couro']\", Valor=124156.65, Km_media=0.0)\n",
      "Tuple: Pandas(Index='Golf', Motor='Motor 1.0 8v', Ano=2018, Quilometragem=17924.0, Zero_km=False, Acessórios=\"['Rodas de liga', 'Controle de tração', 'Sensor de chuva', 'Bancos de couro', 'Freios ABS', 'Painel digital', 'Câmbio automático', 'Sensor de estacionamento']\", Valor=146203.34, Km_media=17924.0)\n",
      "Tuple: Pandas(Index='C3 Picasso', Motor='Motor 3.0 32v', Ano=2019, Quilometragem=nan, Zero_km=True, Acessórios=\"['Teto panorâmico', 'Sensor crepuscular', 'Sensor de chuva', 'Vidros elétricos', 'Ar condicionado', 'Controle de estabilidade', 'Câmera de estacionamento', 'Central multimídia']\", Valor=56453.94, Km_media=0.0)\n",
      "Tuple: Pandas(Index='V50', Motor='Motor 2.0 16v', Ano=1990, Quilometragem=116949.0, Zero_km=False, Acessórios=\"['Teto panorâmico', 'Câmera de estacionamento', 'Controle de estabilidade', 'Painel digital', 'Câmbio automático', 'Bancos de couro', 'Rodas de liga', 'Freios ABS']\", Valor=68873.79, Km_media=4032.7241379310344)\n",
      "Tuple: Pandas(Index='Picanto', Motor='Motor 4.0 Turbo', Ano=2009, Quilometragem=20476.0, Zero_km=False, Acessórios=\"['Painel digital', 'Controle de estabilidade', 'Freios ABS', 'Travas elétricas', 'Piloto automático', 'Sensor de estacionamento', 'Vidros elétricos', 'Câmera de estacionamento']\", Valor=91667.61, Km_media=2047.6)\n",
      "Tuple: Pandas(Index='Cadenza', Motor='Motor Diesel V6', Ano=1990, Quilometragem=52804.0, Zero_km=False, Acessórios=\"['Sensor crepuscular', 'Controle de estabilidade', 'Câmera de estacionamento', 'Rodas de liga', 'Vidros elétricos', 'Câmbio automático', 'Travas elétricas', 'Ar condicionado']\", Valor=93776.52, Km_media=1820.8275862068965)\n",
      "Tuple: Pandas(Index='Etios Sedã', Motor='Motor 5.0 V8 Bi-Turbo', Ano=2006, Quilometragem=8849.0, Zero_km=False, Acessórios=\"['Ar condicionado', 'Vidros elétricos', 'Sensor de chuva', 'Freios ABS', 'Controle de tração', 'Sensor crepuscular', 'Câmbio automático', 'Teto panorâmico']\", Valor=66433.82, Km_media=680.6923076923077)\n",
      "Tuple: Pandas(Index='Alsvin', Motor='Motor Diesel V8', Ano=2002, Quilometragem=91724.0, Zero_km=False, Acessórios=\"['Central multimídia', 'Controle de estabilidade', 'Ar condicionado', 'Vidros elétricos', 'Controle de tração', 'Freios ABS', 'Sensor de estacionamento', 'Câmbio automático']\", Valor=109059.27, Km_media=5395.529411764706)\n",
      "Tuple: Pandas(Index='Cadillac ATS', Motor='Motor Diesel V6', Ano=1991, Quilometragem=32056.0, Zero_km=False, Acessórios=\"['Piloto automático', 'Rodas de liga', '4 X 4', 'Bancos de couro', 'Sensor de estacionamento', 'Vidros elétricos', 'Travas elétricas', 'Sensor crepuscular']\", Valor=122069.97, Km_media=1144.857142857143)\n",
      "Tuple: Pandas(Index='Série 3 M3 Sedã', Motor='Motor Diesel V6', Ano=1992, Quilometragem=74886.0, Zero_km=False, Acessórios=\"['Painel digital', 'Freios ABS', 'Ar condicionado', 'Bancos de couro', 'Controle de tração', 'Piloto automático', 'Câmera de estacionamento', '4 X 4']\", Valor=113090.32, Km_media=2773.5555555555557)\n",
      "Tuple: Pandas(Index='Classe S', Motor='Motor 3.0 32v', Ano=2019, Quilometragem=nan, Zero_km=True, Acessórios=\"['Controle de tração', 'Teto panorâmico', 'Câmbio automático', 'Central multimídia', 'Bancos de couro', 'Vidros elétricos', 'Travas elétricas', 'Sensor de chuva']\", Valor=89401.1, Km_media=0.0)\n",
      "Tuple: Pandas(Index='T6', Motor='Motor 3.0 32v', Ano=2019, Quilometragem=nan, Zero_km=True, Acessórios=\"['Sensor de chuva', 'Câmera de estacionamento', '4 X 4', 'Câmbio automático', 'Travas elétricas', 'Painel digital', 'Piloto automático', 'Sensor crepuscular']\", Valor=56842.79, Km_media=0.0)\n",
      "Tuple: Pandas(Index='Aston Martin DB7', Motor='Motor Diesel V8', Ano=2005, Quilometragem=52189.0, Zero_km=False, Acessórios=\"['Travas elétricas', 'Painel digital', 'Sensor crepuscular', 'Controle de tração', 'Câmera de estacionamento', 'Teto panorâmico', 'Sensor de estacionamento', 'Ar condicionado']\", Valor=146676.71, Km_media=3727.785714285714)\n",
      "Tuple: Pandas(Index='207 Sedan', Motor='Motor 4.0 Turbo', Ano=2010, Quilometragem=83559.0, Zero_km=False, Acessórios=\"['Controle de tração', 'Central multimídia', 'Sensor de chuva', 'Câmera de estacionamento', 'Sensor de estacionamento', 'Bancos de couro', 'Painel digital', 'Piloto automático']\", Valor=89511.96, Km_media=9284.333333333334)\n",
      "Tuple: Pandas(Index='Aston Martin Virage', Motor='Motor Diesel', Ano=2019, Quilometragem=nan, Zero_km=True, Acessórios=\"['Travas elétricas', 'Controle de tração', 'Câmera de estacionamento', 'Bancos de couro', 'Rodas de liga', '4 X 4', 'Sensor de chuva', 'Painel digital']\", Valor=97290.18, Km_media=0.0)\n",
      "Tuple: Pandas(Index='Azera', Motor='Motor 1.8 16v', Ano=2016, Quilometragem=20328.0, Zero_km=False, Acessórios=\"['Bancos de couro', 'Controle de tração', 'Ar condicionado', 'Câmera de estacionamento', 'Câmbio automático', 'Vidros elétricos', 'Teto panorâmico', 'Freios ABS']\", Valor=120673.56, Km_media=6776.0)\n",
      "Tuple: Pandas(Index='Vantage Volante', Motor='Motor Diesel V8', Ano=2019, Quilometragem=nan, Zero_km=True, Acessórios=\"['Freios ABS', 'Controle de tração', 'Central multimídia', 'Sensor crepuscular', 'Sensor de chuva', 'Piloto automático', 'Ar condicionado', 'Câmbio automático']\", Valor=114434.94, Km_media=0.0)\n",
      "Tuple: Pandas(Index='Siena EL', Motor='Motor V8', Ano=2010, Quilometragem=75577.0, Zero_km=False, Acessórios=\"['Freios ABS', 'Sensor crepuscular', 'Controle de tração', 'Rodas de liga', 'Ar condicionado', 'Travas elétricas', 'Sensor de estacionamento', 'Central multimídia']\", Valor=139546.69, Km_media=8397.444444444445)\n",
      "Tuple: Pandas(Index='Palio Adventure', Motor='Motor Diesel V8', Ano=1994, Quilometragem=33659.0, Zero_km=False, Acessórios=\"['Teto panorâmico', 'Central multimídia', 'Piloto automático', 'Rodas de liga', 'Vidros elétricos', 'Sensor de chuva', 'Controle de tração', 'Painel digital']\", Valor=95078.16, Km_media=1346.36)\n",
      "Tuple: Pandas(Index='HB20X', Motor='Motor V8', Ano=2001, Quilometragem=104341.0, Zero_km=False, Acessórios=\"['Sensor crepuscular', 'Teto panorâmico', 'Painel digital', 'Câmbio automático', 'Central multimídia', 'Sensor de estacionamento', 'Travas elétricas', 'Bancos de couro']\", Valor=68091.77, Km_media=5796.722222222223)\n",
      "Tuple: Pandas(Index='HR', Motor='Motor 5.0 V8 Bi-Turbo', Ano=2014, Quilometragem=25510.0, Zero_km=False, Acessórios=\"['Controle de tração', 'Câmbio automático', '4 X 4', 'Controle de estabilidade', 'Rodas de liga', 'Freios ABS', 'Sensor crepuscular', 'Ar condicionado']\", Valor=61496.97, Km_media=5102.0)\n",
      "Tuple: Pandas(Index='Cadillac STS V-Series', Motor='Motor 2.0 16v', Ano=1996, Quilometragem=18965.0, Zero_km=False, Acessórios=\"['Vidros elétricos', 'Piloto automático', 'Câmbio automático', 'Sensor crepuscular', 'Sensor de chuva', 'Controle de estabilidade', 'Rodas de liga', 'Ar condicionado']\", Valor=139669.3, Km_media=824.5652173913044)\n",
      "Tuple: Pandas(Index='Série 1 Coupé', Motor='Motor 1.0 8v', Ano=1993, Quilometragem=87161.0, Zero_km=False, Acessórios=\"['Controle de estabilidade', 'Teto panorâmico', 'Bancos de couro', 'Controle de tração', 'Câmera de estacionamento', 'Freios ABS', 'Piloto automático', 'Vidros elétricos']\", Valor=80661.39, Km_media=3352.346153846154)\n",
      "Tuple: Pandas(Index='SpaceFox', Motor='Motor V8', Ano=1993, Quilometragem=6652.0, Zero_km=False, Acessórios=\"['Sensor crepuscular', '4 X 4', 'Painel digital', 'Câmbio automático', 'Controle de tração', 'Central multimídia', 'Vidros elétricos', 'Travas elétricas']\", Valor=61783.65, Km_media=255.84615384615384)\n",
      "Tuple: Pandas(Index='C30', Motor='Motor 1.0 8v', Ano=2001, Quilometragem=55738.0, Zero_km=False, Acessórios=\"['Teto panorâmico', 'Freios ABS', 'Sensor crepuscular', 'Ar condicionado', 'Painel digital', 'Central multimídia', 'Controle de estabilidade', '4 X 4']\", Valor=52805.91, Km_media=3096.5555555555557)\n",
      "Tuple: Pandas(Index='J3 Turin', Motor='Motor V6', Ano=2019, Quilometragem=nan, Zero_km=True, Acessórios=\"['Sensor crepuscular', 'Câmera de estacionamento', 'Sensor de estacionamento', 'Rodas de liga', 'Freios ABS', 'Vidros elétricos', 'Câmbio automático', '4 X 4']\", Valor=127024.75, Km_media=0.0)\n",
      "Tuple: Pandas(Index='Classe B', Motor='Motor Diesel V8', Ano=2019, Quilometragem=nan, Zero_km=True, Acessórios=\"['4 X 4', 'Bancos de couro', 'Sensor crepuscular', 'Rodas de liga', 'Central multimídia', 'Painel digital', 'Travas elétricas', 'Freios ABS']\", Valor=135543.0, Km_media=0.0)\n",
      "Tuple: Pandas(Index='Parati', Motor='Motor Diesel V8', Ano=2019, Quilometragem=nan, Zero_km=True, Acessórios=\"['Sensor de estacionamento', 'Piloto automático', 'Controle de tração', 'Travas elétricas', 'Painel digital', 'Bancos de couro', 'Rodas de liga', 'Controle de estabilidade']\", Valor=121708.73, Km_media=0.0)\n",
      "Tuple: Pandas(Index='Cadillac CTS V-Series', Motor='Motor 4.0 Turbo', Ano=2007, Quilometragem=64320.0, Zero_km=False, Acessórios=\"['Piloto automático', 'Ar condicionado', 'Central multimídia', 'Bancos de couro', 'Vidros elétricos', 'Câmbio automático', 'Controle de tração', 'Controle de estabilidade']\", Valor=107342.68, Km_media=5360.0)\n",
      "Tuple: Pandas(Index='Sedan', Motor='Motor V8', Ano=2019, Quilometragem=nan, Zero_km=True, Acessórios=\"['Bancos de couro', 'Central multimídia', 'Freios ABS', 'Ar condicionado', 'Travas elétricas', 'Painel digital', '4 X 4', 'Rodas de liga']\", Valor=57888.1, Km_media=0.0)\n",
      "Tuple: Pandas(Index='Classe CLS 63 AMG', Motor='Motor Diesel V6', Ano=2016, Quilometragem=68678.0, Zero_km=False, Acessórios=\"['Freios ABS', 'Vidros elétricos', 'Câmbio automático', 'Teto panorâmico', 'Painel digital', 'Ar condicionado', 'Sensor crepuscular', 'Travas elétricas']\", Valor=118161.48, Km_media=22892.666666666668)\n",
      "Tuple: Pandas(Index='Aircross', Motor='Motor 1.0 8v', Ano=2014, Quilometragem=71697.0, Zero_km=False, Acessórios=\"['Controle de tração', 'Piloto automático', 'Câmera de estacionamento', 'Sensor de chuva', 'Travas elétricas', 'Vidros elétricos', 'Sensor de estacionamento', 'Câmbio automático']\", Valor=142499.06, Km_media=14339.4)\n",
      "Tuple: Pandas(Index='Aston Martin V12 Vantage', Motor='Motor V8', Ano=2019, Quilometragem=nan, Zero_km=True, Acessórios=\"['Bancos de couro', 'Central multimídia', 'Controle de estabilidade', 'Sensor crepuscular', 'Sensor de chuva', 'Sensor de estacionamento', 'Piloto automático', 'Vidros elétricos']\", Valor=128396.11, Km_media=0.0)\n",
      "Tuple: Pandas(Index='Sandero', Motor='Motor Diesel', Ano=2015, Quilometragem=34783.0, Zero_km=False, Acessórios=\"['Piloto automático', 'Teto panorâmico', 'Câmbio automático', 'Sensor de estacionamento', 'Vidros elétricos', 'Travas elétricas', 'Bancos de couro', 'Câmera de estacionamento']\", Valor=112350.61, Km_media=8695.75)\n",
      "Tuple: Pandas(Index='New Fiesta', Motor='Motor 5.0 V8 Bi-Turbo', Ano=2015, Quilometragem=33772.0, Zero_km=False, Acessórios=\"['Controle de tração', 'Travas elétricas', '4 X 4', 'Ar condicionado', 'Painel digital', 'Rodas de liga', 'Controle de estabilidade', 'Central multimídia']\", Valor=124661.38, Km_media=8443.0)\n",
      "Tuple: Pandas(Index='XKR', Motor='Motor Diesel', Ano=1996, Quilometragem=85127.0, Zero_km=False, Acessórios=\"['Controle de tração', 'Ar condicionado', 'Travas elétricas', 'Bancos de couro', 'Rodas de liga', 'Sensor crepuscular', 'Câmera de estacionamento', 'Sensor de estacionamento']\", Valor=54263.16, Km_media=3701.1739130434785)\n",
      "Tuple: Pandas(Index='X5', Motor='Motor Diesel', Ano=2002, Quilometragem=13606.0, Zero_km=False, Acessórios=\"['Controle de tração', 'Piloto automático', 'Travas elétricas', 'Rodas de liga', 'Vidros elétricos', 'Câmera de estacionamento', 'Câmbio automático', 'Painel digital']\", Valor=62041.32, Km_media=800.3529411764706)\n",
      "Tuple: Pandas(Index='Cadillac DTS', Motor='Motor 1.8 16v', Ano=2005, Quilometragem=35647.0, Zero_km=False, Acessórios=\"['Central multimídia', 'Rodas de liga', 'Câmbio automático', 'Freios ABS', 'Piloto automático', 'Travas elétricas', 'Câmera de estacionamento', 'Controle de estabilidade']\", Valor=129296.11, Km_media=2546.214285714286)\n",
      "Tuple: Pandas(Index='Pajero Dakar', Motor='Motor 4.0 Turbo', Ano=1995, Quilometragem=95128.0, Zero_km=False, Acessórios=\"['Piloto automático', 'Sensor de chuva', 'Controle de estabilidade', 'Teto panorâmico', 'Vidros elétricos', 'Central multimídia', 'Câmbio automático', 'Controle de tração']\", Valor=60998.33, Km_media=3963.6666666666665)\n",
      "Tuple: Pandas(Index='Classe A', Motor='Motor 1.0 8v', Ano=1999, Quilometragem=14046.0, Zero_km=False, Acessórios=\"['Controle de tração', 'Central multimídia', 'Sensor de estacionamento', 'Piloto automático', 'Bancos de couro', 'Travas elétricas', 'Sensor crepuscular', 'Câmera de estacionamento']\", Valor=58008.5, Km_media=702.3)\n",
      "Tuple: Pandas(Index='Ford Focus Fastback', Motor='Motor 4.0 Turbo', Ano=2005, Quilometragem=41194.0, Zero_km=False, Acessórios=\"['Bancos de couro', 'Câmera de estacionamento', 'Sensor crepuscular', 'Sensor de estacionamento', 'Painel digital', 'Piloto automático', 'Travas elétricas', 'Vidros elétricos']\", Valor=82304.19, Km_media=2942.4285714285716)\n",
      "Tuple: Pandas(Index='Partner', Motor='Motor 2.4 Turbo', Ano=2019, Quilometragem=nan, Zero_km=True, Acessórios=\"['Central multimídia', 'Controle de tração', 'Travas elétricas', 'Freios ABS', 'Sensor de chuva', 'Rodas de liga', 'Painel digital', 'Sensor de estacionamento']\", Valor=114531.74, Km_media=0.0)\n",
      "Tuple: Pandas(Index='R8', Motor='Motor V6', Ano=1997, Quilometragem=96100.0, Zero_km=False, Acessórios=\"['4 X 4', 'Controle de estabilidade', 'Câmera de estacionamento', 'Piloto automático', 'Travas elétricas', 'Central multimídia', 'Bancos de couro', 'Vidros elétricos']\", Valor=128565.61, Km_media=4368.181818181818)\n",
      "Tuple: Pandas(Index='Aston Martin DBS Volante', Motor='Motor 4.0 Turbo', Ano=1990, Quilometragem=103900.0, Zero_km=False, Acessórios=\"['Central multimídia', 'Controle de estabilidade', 'Sensor crepuscular', 'Teto panorâmico', 'Câmbio automático', 'Sensor de estacionamento', 'Sensor de chuva', 'Travas elétricas']\", Valor=126488.26, Km_media=3582.7586206896553)\n",
      "Tuple: Pandas(Index='Mohave', Motor='Motor Diesel V6', Ano=2001, Quilometragem=43814.0, Zero_km=False, Acessórios=\"['Travas elétricas', 'Central multimídia', 'Painel digital', 'Câmbio automático', 'Controle de tração', 'Ar condicionado', 'Rodas de liga', 'Sensor crepuscular']\", Valor=119074.55, Km_media=2434.1111111111113)\n",
      "Tuple: Pandas(Index='Fusca', Motor='Motor 3.0 32v', Ano=2013, Quilometragem=24638.0, Zero_km=False, Acessórios=\"['Câmbio automático', 'Teto panorâmico', 'Sensor de chuva', 'Freios ABS', '4 X 4', 'Rodas de liga', 'Travas elétricas', 'Piloto automático']\", Valor=130238.04, Km_media=4106.333333333333)\n",
      "Tuple: Pandas(Index='Chana Family', Motor='Motor V8', Ano=2019, Quilometragem=nan, Zero_km=True, Acessórios=\"['Piloto automático', 'Teto panorâmico', 'Sensor de estacionamento', 'Câmera de estacionamento', '4 X 4', 'Central multimídia', 'Rodas de liga', 'Travas elétricas']\", Valor=115760.17, Km_media=0.0)\n",
      "Tuple: Pandas(Index='XC40', Motor='Motor 2.4 Turbo', Ano=2017, Quilometragem=110966.0, Zero_km=False, Acessórios=\"['Sensor de chuva', 'Central multimídia', 'Vidros elétricos', 'Câmera de estacionamento', 'Sensor de estacionamento', 'Travas elétricas', 'Teto panorâmico', 'Painel digital']\", Valor=121248.0, Km_media=55483.0)\n",
      "Tuple: Pandas(Index='Phantom I Jonckheere Aerodynamic Coupe', Motor='Motor 1.8 16v', Ano=2011, Quilometragem=15987.0, Zero_km=False, Acessórios=\"['Sensor crepuscular', 'Travas elétricas', 'Piloto automático', 'Câmera de estacionamento', 'Central multimídia', 'Vidros elétricos', 'Freios ABS', 'Sensor de chuva']\", Valor=98156.35, Km_media=1998.375)\n",
      "Tuple: Pandas(Index='Boxer', Motor='Motor V6', Ano=2005, Quilometragem=53369.0, Zero_km=False, Acessórios=\"['Travas elétricas', 'Piloto automático', 'Vidros elétricos', 'Câmera de estacionamento', 'Sensor crepuscular', 'Sensor de chuva', 'Central multimídia', '4 X 4']\", Valor=112146.8, Km_media=3812.0714285714284)\n",
      "Tuple: Pandas(Index='Chana Cargo', Motor='Motor 2.0 16v', Ano=2007, Quilometragem=10077.0, Zero_km=False, Acessórios=\"['Teto panorâmico', '4 X 4', 'Central multimídia', 'Sensor de chuva', 'Sensor de estacionamento', 'Ar condicionado', 'Câmera de estacionamento', 'Piloto automático']\", Valor=102729.63, Km_media=839.75)\n",
      "Tuple: Pandas(Index='Dodge Dakota', Motor='Motor Diesel', Ano=1993, Quilometragem=71544.0, Zero_km=False, Acessórios=\"['Controle de tração', 'Sensor de estacionamento', 'Piloto automático', 'Central multimídia', '4 X 4', 'Painel digital', 'Câmera de estacionamento', 'Vidros elétricos']\", Valor=141083.35, Km_media=2751.6923076923076)\n",
      "Tuple: Pandas(Index='X1', Motor='Motor Diesel V8', Ano=1991, Quilometragem=107.0, Zero_km=False, Acessórios=\"['4 X 4', 'Teto panorâmico', 'Ar condicionado', 'Rodas de liga', 'Painel digital', 'Câmera de estacionamento', 'Controle de tração', 'Piloto automático']\", Valor=102968.76, Km_media=3.8214285714285716)\n",
      "Tuple: Pandas(Index='GLA', Motor='Motor 1.0 8v', Ano=1991, Quilometragem=8394.0, Zero_km=False, Acessórios=\"['Sensor de chuva', 'Câmera de estacionamento', 'Freios ABS', 'Controle de estabilidade', 'Central multimídia', 'Controle de tração', 'Teto panorâmico', 'Sensor crepuscular']\", Valor=76310.01, Km_media=299.7857142857143)\n",
      "Tuple: Pandas(Index='Range Rover Sport', Motor='Motor 1.0 8v', Ano=1997, Quilometragem=41498.0, Zero_km=False, Acessórios=\"['Sensor de estacionamento', 'Câmera de estacionamento', 'Freios ABS', 'Bancos de couro', 'Ar condicionado', '4 X 4', 'Painel digital', 'Piloto automático']\", Valor=120481.74, Km_media=1886.2727272727273)\n",
      "Tuple: Pandas(Index='DS3', Motor='Motor 1.8 16v', Ano=2000, Quilometragem=116002.0, Zero_km=False, Acessórios=\"['Controle de estabilidade', 'Ar condicionado', 'Câmbio automático', 'Freios ABS', 'Sensor de chuva', '4 X 4', 'Sensor de estacionamento', 'Travas elétricas']\", Valor=54559.18, Km_media=6105.368421052632)\n",
      "Tuple: Pandas(Index='Veracruz', Motor='Motor Diesel V8', Ano=2007, Quilometragem=100858.0, Zero_km=False, Acessórios=\"['Controle de estabilidade', 'Câmera de estacionamento', 'Travas elétricas', 'Central multimídia', '4 X 4', 'Teto panorâmico', 'Sensor de estacionamento', 'Piloto automático']\", Valor=92957.64, Km_media=8404.833333333334)\n",
      "Tuple: Pandas(Index='Cadillac CTS coupe, sedan, and wagon', Motor='Motor V8', Ano=2006, Quilometragem=67475.0, Zero_km=False, Acessórios=\"['Sensor de chuva', 'Sensor de estacionamento', 'Controle de estabilidade', 'Teto panorâmico', 'Sensor crepuscular', 'Bancos de couro', 'Travas elétricas', 'Painel digital']\", Valor=127810.06, Km_media=5190.384615384615)\n",
      "Tuple: Pandas(Index='i30 CW', Motor='Motor Diesel', Ano=2015, Quilometragem=8497.0, Zero_km=False, Acessórios=\"['Sensor de chuva', 'Vidros elétricos', 'Controle de estabilidade', 'Sensor crepuscular', 'Teto panorâmico', 'Painel digital', 'Travas elétricas', 'Freios ABS']\", Valor=73311.75, Km_media=2124.25)\n",
      "Tuple: Pandas(Index='Phantom III', Motor='Motor Diesel V6', Ano=2008, Quilometragem=4420.0, Zero_km=False, Acessórios=\"['Vidros elétricos', 'Bancos de couro', 'Piloto automático', 'Ar condicionado', 'Travas elétricas', 'Painel digital', 'Teto panorâmico', 'Controle de tração']\", Valor=65138.03, Km_media=401.8181818181818)\n",
      "Tuple: Pandas(Index='A3 Sedan', Motor='Motor V6', Ano=2019, Quilometragem=nan, Zero_km=True, Acessórios=\"['Ar condicionado', 'Sensor de chuva', 'Travas elétricas', 'Vidros elétricos', '4 X 4', 'Teto panorâmico', 'Câmera de estacionamento', 'Piloto automático']\", Valor=90141.47, Km_media=0.0)\n",
      "Tuple: Pandas(Index='Aston Martin DB9 Volante', Motor='Motor 2.0 16v', Ano=1996, Quilometragem=58537.0, Zero_km=False, Acessórios=\"['Central multimídia', 'Bancos de couro', 'Câmera de estacionamento', 'Travas elétricas', 'Rodas de liga', 'Painel digital', 'Teto panorâmico', 'Vidros elétricos']\", Valor=71160.36, Km_media=2545.086956521739)\n",
      "Tuple: Pandas(Index='Série 7 Sedã', Motor='Motor Diesel', Ano=2019, Quilometragem=nan, Zero_km=True, Acessórios=\"['Vidros elétricos', 'Travas elétricas', 'Rodas de liga', 'Controle de estabilidade', 'Sensor crepuscular', 'Câmbio automático', 'Freios ABS', 'Ar condicionado']\", Valor=67539.79, Km_media=0.0)\n",
      "Tuple: Pandas(Index='Lamborghini Reventón', Motor='Motor 4.0 Turbo', Ano=2019, Quilometragem=nan, Zero_km=True, Acessórios=\"['Controle de tração', 'Ar condicionado', 'Central multimídia', 'Bancos de couro', 'Câmera de estacionamento', 'Travas elétricas', 'Sensor de chuva', 'Vidros elétricos']\", Valor=67664.86, Km_media=0.0)\n",
      "Tuple: Pandas(Index='Grand Livina', Motor='Motor 2.0 16v', Ano=2014, Quilometragem=112016.0, Zero_km=False, Acessórios=\"['Controle de tração', 'Teto panorâmico', 'Vidros elétricos', '4 X 4', 'Câmbio automático', 'Bancos de couro', 'Painel digital', 'Sensor de chuva']\", Valor=68652.16, Km_media=22403.2)\n",
      "Tuple: Pandas(Index='V60', Motor='Motor Diesel', Ano=2004, Quilometragem=91840.0, Zero_km=False, Acessórios=\"['Rodas de liga', 'Sensor crepuscular', 'Ar condicionado', 'Sensor de estacionamento', 'Bancos de couro', 'Câmbio automático', 'Central multimídia', 'Teto panorâmico']\", Valor=114728.74, Km_media=6122.666666666667)\n",
      "Tuple: Pandas(Index='Effa Hafei Picape Cabine Dupla', Motor='Motor V6', Ano=2008, Quilometragem=112787.0, Zero_km=False, Acessórios=\"['Sensor crepuscular', 'Controle de tração', 'Bancos de couro', 'Vidros elétricos', 'Painel digital', 'Piloto automático', 'Rodas de liga', 'Teto panorâmico']\", Valor=141645.08, Km_media=10253.363636363636)\n",
      "Tuple: Pandas(Index='Benni Mini', Motor='Motor V8', Ano=2019, Quilometragem=nan, Zero_km=True, Acessórios=\"['Sensor crepuscular', 'Câmbio automático', 'Câmera de estacionamento', 'Freios ABS', 'Sensor de chuva', 'Controle de estabilidade', 'Painel digital', 'Sensor de estacionamento']\", Valor=126247.84, Km_media=0.0)\n",
      "Tuple: Pandas(Index='Uno', Motor='Motor Diesel V6', Ano=2019, Quilometragem=nan, Zero_km=True, Acessórios=\"['Central multimídia', 'Sensor crepuscular', 'Controle de estabilidade', 'Ar condicionado', 'Freios ABS', 'Controle de tração', 'Teto panorâmico', 'Câmbio automático']\", Valor=128852.21, Km_media=0.0)\n",
      "Tuple: Pandas(Index='L200 Savana', Motor='Motor 2.0 16v', Ano=2012, Quilometragem=9293.0, Zero_km=False, Acessórios=\"['Sensor de chuva', 'Vidros elétricos', 'Painel digital', 'Teto panorâmico', 'Controle de tração', 'Câmbio automático', 'Central multimídia', 'Sensor de estacionamento']\", Valor=132384.76, Km_media=1327.5714285714287)\n",
      "Tuple: Pandas(Index='Santa Fe', Motor='Motor 3.0 32v', Ano=2019, Quilometragem=nan, Zero_km=True, Acessórios=\"['Travas elétricas', 'Ar condicionado', '4 X 4', 'Rodas de liga', 'Câmbio automático', 'Sensor de estacionamento', 'Central multimídia', 'Freios ABS']\", Valor=129415.33, Km_media=0.0)\n",
      "Tuple: Pandas(Index='RS5', Motor='Motor V6', Ano=1996, Quilometragem=55083.0, Zero_km=False, Acessórios=\"['Painel digital', 'Câmbio automático', 'Vidros elétricos', 'Câmera de estacionamento', 'Bancos de couro', 'Controle de tração', 'Ar condicionado', 'Central multimídia']\", Valor=89536.82, Km_media=2394.913043478261)\n",
      "Tuple: Pandas(Index='Cerato', Motor='Motor V6', Ano=2011, Quilometragem=48796.0, Zero_km=False, Acessórios=\"['Sensor de estacionamento', 'Câmera de estacionamento', 'Freios ABS', 'Vidros elétricos', 'Controle de estabilidade', 'Câmbio automático', 'Controle de tração', 'Bancos de couro']\", Valor=87975.3, Km_media=6099.5)\n",
      "Tuple: Pandas(Index='XC60', Motor='Motor 4.0 Turbo', Ano=2019, Quilometragem=nan, Zero_km=True, Acessórios=\"['Painel digital', 'Piloto automático', 'Central multimídia', 'Controle de tração', 'Travas elétricas', 'Rodas de liga', 'Controle de estabilidade', '4 X 4']\", Valor=77675.79, Km_media=0.0)\n",
      "Tuple: Pandas(Index='LS 460L', Motor='Motor Diesel V8', Ano=2010, Quilometragem=89685.0, Zero_km=False, Acessórios=\"['Rodas de liga', 'Freios ABS', 'Controle de tração', 'Câmbio automático', 'Câmera de estacionamento', '4 X 4', 'Painel digital', 'Travas elétricas']\", Valor=58881.67, Km_media=9965.0)\n",
      "Tuple: Pandas(Index='Lamborghini Sesto Elemento', Motor='Motor V8', Ano=2007, Quilometragem=85384.0, Zero_km=False, Acessórios=\"['Sensor crepuscular', 'Freios ABS', 'Ar condicionado', 'Painel digital', 'Travas elétricas', 'Bancos de couro', 'Sensor de estacionamento', '4 X 4']\", Valor=55081.99, Km_media=7115.333333333333)\n",
      "Tuple: Pandas(Index='Lamborghini Huracán', Motor='Motor V8', Ano=1994, Quilometragem=98108.0, Zero_km=False, Acessórios=\"['Sensor de chuva', 'Sensor de estacionamento', 'Câmera de estacionamento', 'Bancos de couro', 'Rodas de liga', '4 X 4', 'Câmbio automático', 'Vidros elétricos']\", Valor=118826.44, Km_media=3924.32)\n",
      "Tuple: Pandas(Index='A7', Motor='Motor 1.0 8v', Ano=2007, Quilometragem=71280.0, Zero_km=False, Acessórios=\"['Sensor de chuva', 'Vidros elétricos', 'Sensor crepuscular', '4 X 4', 'Câmbio automático', 'Controle de tração', 'Bancos de couro', 'Painel digital']\", Valor=137627.62, Km_media=5940.0)\n",
      "Tuple: Pandas(Index='Phantom 2013', Motor='Motor V8', Ano=2014, Quilometragem=27505.0, Zero_km=False, Acessórios=\"['Controle de estabilidade', 'Piloto automático', 'Câmbio automático', 'Câmera de estacionamento', 'Controle de tração', 'Teto panorâmico', 'Painel digital', 'Ar condicionado']\", Valor=51759.58, Km_media=5501.0)\n",
      "Tuple: Pandas(Index='Cadillac Ciel concept', Motor='Motor V8', Ano=1991, Quilometragem=29981.0, Zero_km=False, Acessórios=\"['Bancos de couro', 'Painel digital', 'Sensor de chuva', 'Travas elétricas', 'Sensor de estacionamento', 'Vidros elétricos', 'Rodas de liga', 'Piloto automático']\", Valor=51667.06, Km_media=1070.75)\n",
      "Tuple: Pandas(Index='Classe GLK', Motor='Motor 5.0 V8 Bi-Turbo', Ano=2002, Quilometragem=52637.0, Zero_km=False, Acessórios=\"['Rodas de liga', 'Controle de tração', 'Câmbio automático', 'Teto panorâmico', 'Ar condicionado', '4 X 4', 'Central multimídia', 'Sensor crepuscular']\", Valor=68934.03, Km_media=3096.294117647059)\n",
      "Tuple: Pandas(Index='Aston Martin DB5', Motor='Motor Diesel', Ano=1996, Quilometragem=7685.0, Zero_km=False, Acessórios=\"['Ar condicionado', '4 X 4', 'Câmbio automático', 'Freios ABS', 'Controle de tração', 'Câmera de estacionamento', 'Painel digital', 'Central multimídia']\", Valor=122110.9, Km_media=334.1304347826087)\n",
      "Tuple: Pandas(Index='Macan', Motor='Motor Diesel V6', Ano=1992, Quilometragem=50188.0, Zero_km=False, Acessórios=\"['Central multimídia', 'Teto panorâmico', 'Vidros elétricos', 'Controle de tração', 'Rodas de liga', 'Freios ABS', 'Câmera de estacionamento', 'Travas elétricas']\", Valor=90381.47, Km_media=1858.8148148148148)\n"
     ]
    }
   ],
   "source": [
    "for tup in data_frame.itertuples():\n",
    "    print('Tuple: {}'.format(tup))"
   ],
   "metadata": {
    "collapsed": false,
    "pycharm": {
     "name": "#%%\n"
    }
   }
  },
  {
   "cell_type": "code",
   "execution_count": 270,
   "metadata": {
    "colab": {},
    "colab_type": "code",
    "id": "eFTNtPRWD1Ba"
   },
   "outputs": [
    {
     "data": {
      "text/plain": "<generator object DataFrame.items at 0x125ebd700>"
     },
     "execution_count": 270,
     "metadata": {},
     "output_type": "execute_result"
    }
   ],
   "source": [
    "data_frame.items()"
   ]
  },
  {
   "cell_type": "markdown",
   "metadata": {
    "colab_type": "text",
    "id": "HnUzHFQPD1Ba"
   },
   "source": [
    "# 5.5 Tratamento de dados"
   ]
  },
  {
   "cell_type": "code",
   "execution_count": 271,
   "metadata": {
    "colab": {},
    "colab_type": "code",
    "id": "FRxBWoBGD1Ba"
   },
   "outputs": [
    {
     "name": "stdout",
     "output_type": "stream",
     "text": [
      "<class 'pandas.core.frame.DataFrame'>\n",
      "Index: 258 entries, Jetta Variant to Macan\n",
      "Data columns (total 7 columns):\n",
      " #   Column         Non-Null Count  Dtype  \n",
      "---  ------         --------------  -----  \n",
      " 0   Motor          258 non-null    object \n",
      " 1   Ano            258 non-null    int64  \n",
      " 2   Quilometragem  197 non-null    float64\n",
      " 3   Zero_km        258 non-null    bool   \n",
      " 4   Acessórios     258 non-null    object \n",
      " 5   Valor          258 non-null    float64\n",
      " 6   Km_media       258 non-null    float64\n",
      "dtypes: bool(1), float64(3), int64(1), object(2)\n",
      "memory usage: 22.5+ KB\n"
     ]
    }
   ],
   "source": [
    "data_frame.info()"
   ]
  },
  {
   "cell_type": "code",
   "execution_count": 275,
   "metadata": {
    "colab": {},
    "colab_type": "code",
    "id": "HHSwH0ZaD1Bc"
   },
   "outputs": [
    {
     "data": {
      "text/plain": "                                Motor   Ano  Quilometragem  Zero_km  \\\nNome                                                                  \nDS5                   Motor 2.4 Turbo  2019            NaN     True   \nA5                    Motor 4.0 Turbo  2019            NaN     True   \nJ5                           Motor V6  2019            NaN     True   \nA3                       Motor 1.0 8v  2019            NaN     True   \nSérie 1 M                    Motor V8  2019            NaN     True   \n...                               ...   ...            ...      ...   \nLamborghini Reventón  Motor 4.0 Turbo  2019            NaN     True   \nBenni Mini                   Motor V8  2019            NaN     True   \nUno                   Motor Diesel V6  2019            NaN     True   \nSanta Fe                Motor 3.0 32v  2019            NaN     True   \nXC60                  Motor 4.0 Turbo  2019            NaN     True   \n\n                                                             Acessórios  \\\nNome                                                                      \nDS5                   ['Travas elétricas', '4 X 4', 'Vidros elétrico...   \nA5                    ['Câmbio automático', 'Câmera de estacionament...   \nJ5                    ['Sensor crepuscular', 'Painel digital', 'Roda...   \nA3                    ['4 X 4', 'Piloto automático', 'Central multim...   \nSérie 1 M             ['Controle de estabilidade', 'Central multimíd...   \n...                                                                 ...   \nLamborghini Reventón  ['Controle de tração', 'Ar condicionado', 'Cen...   \nBenni Mini            ['Sensor crepuscular', 'Câmbio automático', 'C...   \nUno                   ['Central multimídia', 'Sensor crepuscular', '...   \nSanta Fe              ['Travas elétricas', 'Ar condicionado', '4 X 4...   \nXC60                  ['Painel digital', 'Piloto automático', 'Centr...   \n\n                          Valor  Km_media  \nNome                                       \nDS5                   124549.07       0.0  \nA5                     56445.20       0.0  \nJ5                     53183.38       0.0  \nA3                     88552.39       0.0  \nSérie 1 M              94564.40       0.0  \n...                         ...       ...  \nLamborghini Reventón   67664.86       0.0  \nBenni Mini            126247.84       0.0  \nUno                   128852.21       0.0  \nSanta Fe              129415.33       0.0  \nXC60                   77675.79       0.0  \n\n[61 rows x 7 columns]",
      "text/html": "<div>\n<style scoped>\n    .dataframe tbody tr th:only-of-type {\n        vertical-align: middle;\n    }\n\n    .dataframe tbody tr th {\n        vertical-align: top;\n    }\n\n    .dataframe thead th {\n        text-align: right;\n    }\n</style>\n<table border=\"1\" class=\"dataframe\">\n  <thead>\n    <tr style=\"text-align: right;\">\n      <th></th>\n      <th>Motor</th>\n      <th>Ano</th>\n      <th>Quilometragem</th>\n      <th>Zero_km</th>\n      <th>Acessórios</th>\n      <th>Valor</th>\n      <th>Km_media</th>\n    </tr>\n    <tr>\n      <th>Nome</th>\n      <th></th>\n      <th></th>\n      <th></th>\n      <th></th>\n      <th></th>\n      <th></th>\n      <th></th>\n    </tr>\n  </thead>\n  <tbody>\n    <tr>\n      <th>DS5</th>\n      <td>Motor 2.4 Turbo</td>\n      <td>2019</td>\n      <td>NaN</td>\n      <td>True</td>\n      <td>['Travas elétricas', '4 X 4', 'Vidros elétrico...</td>\n      <td>124549.07</td>\n      <td>0.0</td>\n    </tr>\n    <tr>\n      <th>A5</th>\n      <td>Motor 4.0 Turbo</td>\n      <td>2019</td>\n      <td>NaN</td>\n      <td>True</td>\n      <td>['Câmbio automático', 'Câmera de estacionament...</td>\n      <td>56445.20</td>\n      <td>0.0</td>\n    </tr>\n    <tr>\n      <th>J5</th>\n      <td>Motor V6</td>\n      <td>2019</td>\n      <td>NaN</td>\n      <td>True</td>\n      <td>['Sensor crepuscular', 'Painel digital', 'Roda...</td>\n      <td>53183.38</td>\n      <td>0.0</td>\n    </tr>\n    <tr>\n      <th>A3</th>\n      <td>Motor 1.0 8v</td>\n      <td>2019</td>\n      <td>NaN</td>\n      <td>True</td>\n      <td>['4 X 4', 'Piloto automático', 'Central multim...</td>\n      <td>88552.39</td>\n      <td>0.0</td>\n    </tr>\n    <tr>\n      <th>Série 1 M</th>\n      <td>Motor V8</td>\n      <td>2019</td>\n      <td>NaN</td>\n      <td>True</td>\n      <td>['Controle de estabilidade', 'Central multimíd...</td>\n      <td>94564.40</td>\n      <td>0.0</td>\n    </tr>\n    <tr>\n      <th>...</th>\n      <td>...</td>\n      <td>...</td>\n      <td>...</td>\n      <td>...</td>\n      <td>...</td>\n      <td>...</td>\n      <td>...</td>\n    </tr>\n    <tr>\n      <th>Lamborghini Reventón</th>\n      <td>Motor 4.0 Turbo</td>\n      <td>2019</td>\n      <td>NaN</td>\n      <td>True</td>\n      <td>['Controle de tração', 'Ar condicionado', 'Cen...</td>\n      <td>67664.86</td>\n      <td>0.0</td>\n    </tr>\n    <tr>\n      <th>Benni Mini</th>\n      <td>Motor V8</td>\n      <td>2019</td>\n      <td>NaN</td>\n      <td>True</td>\n      <td>['Sensor crepuscular', 'Câmbio automático', 'C...</td>\n      <td>126247.84</td>\n      <td>0.0</td>\n    </tr>\n    <tr>\n      <th>Uno</th>\n      <td>Motor Diesel V6</td>\n      <td>2019</td>\n      <td>NaN</td>\n      <td>True</td>\n      <td>['Central multimídia', 'Sensor crepuscular', '...</td>\n      <td>128852.21</td>\n      <td>0.0</td>\n    </tr>\n    <tr>\n      <th>Santa Fe</th>\n      <td>Motor 3.0 32v</td>\n      <td>2019</td>\n      <td>NaN</td>\n      <td>True</td>\n      <td>['Travas elétricas', 'Ar condicionado', '4 X 4...</td>\n      <td>129415.33</td>\n      <td>0.0</td>\n    </tr>\n    <tr>\n      <th>XC60</th>\n      <td>Motor 4.0 Turbo</td>\n      <td>2019</td>\n      <td>NaN</td>\n      <td>True</td>\n      <td>['Painel digital', 'Piloto automático', 'Centr...</td>\n      <td>77675.79</td>\n      <td>0.0</td>\n    </tr>\n  </tbody>\n</table>\n<p>61 rows × 7 columns</p>\n</div>"
     },
     "execution_count": 275,
     "metadata": {},
     "output_type": "execute_result"
    }
   ],
   "source": [
    "data_frame[data_frame.Quilometragem.isna()]"
   ]
  },
  {
   "cell_type": "code",
   "execution_count": 277,
   "metadata": {
    "colab": {},
    "colab_type": "code",
    "id": "G27pxgZ5D1Bd",
    "scrolled": true
   },
   "outputs": [
    {
     "data": {
      "text/plain": "                                       Motor   Ano  Quilometragem  Zero_km  \\\nNome                                                                         \nJetta Variant                Motor 4.0 Turbo  2003        44410.0    False   \nPassat                          Motor Diesel  1991         5712.0    False   \nCrossfox                     Motor Diesel V8  1990        37123.0    False   \nDS5                          Motor 2.4 Turbo  2019            0.0     True   \nAston Martin DB4             Motor 2.4 Turbo  2006        25757.0    False   \n...                                      ...   ...            ...      ...   \nPhantom 2013                        Motor V8  2014        27505.0    False   \nCadillac Ciel concept               Motor V8  1991        29981.0    False   \nClasse GLK             Motor 5.0 V8 Bi-Turbo  2002        52637.0    False   \nAston Martin DB5                Motor Diesel  1996         7685.0    False   \nMacan                        Motor Diesel V6  1992        50188.0    False   \n\n                                                              Acessórios  \\\nNome                                                                       \nJetta Variant          ['Rodas de liga', 'Travas elétricas', 'Piloto ...   \nPassat                 ['Central multimídia', 'Teto panorâmico', 'Fre...   \nCrossfox               ['Piloto automático', 'Controle de estabilidad...   \nDS5                    ['Travas elétricas', '4 X 4', 'Vidros elétrico...   \nAston Martin DB4       ['Rodas de liga', '4 X 4', 'Central multimídia...   \n...                                                                  ...   \nPhantom 2013           ['Controle de estabilidade', 'Piloto automátic...   \nCadillac Ciel concept  ['Bancos de couro', 'Painel digital', 'Sensor ...   \nClasse GLK             ['Rodas de liga', 'Controle de tração', 'Câmbi...   \nAston Martin DB5       ['Ar condicionado', '4 X 4', 'Câmbio automátic...   \nMacan                  ['Central multimídia', 'Teto panorâmico', 'Vid...   \n\n                           Valor     Km_media  \nNome                                           \nJetta Variant           88078.64  2775.625000  \nPassat                 106161.94   204.000000  \nCrossfox                72832.16  1280.103448  \nDS5                    124549.07     0.000000  \nAston Martin DB4        92612.10  1981.307692  \n...                          ...          ...  \nPhantom 2013            51759.58  5501.000000  \nCadillac Ciel concept   51667.06  1070.750000  \nClasse GLK              68934.03  3096.294118  \nAston Martin DB5       122110.90   334.130435  \nMacan                   90381.47  1858.814815  \n\n[258 rows x 7 columns]",
      "text/html": "<div>\n<style scoped>\n    .dataframe tbody tr th:only-of-type {\n        vertical-align: middle;\n    }\n\n    .dataframe tbody tr th {\n        vertical-align: top;\n    }\n\n    .dataframe thead th {\n        text-align: right;\n    }\n</style>\n<table border=\"1\" class=\"dataframe\">\n  <thead>\n    <tr style=\"text-align: right;\">\n      <th></th>\n      <th>Motor</th>\n      <th>Ano</th>\n      <th>Quilometragem</th>\n      <th>Zero_km</th>\n      <th>Acessórios</th>\n      <th>Valor</th>\n      <th>Km_media</th>\n    </tr>\n    <tr>\n      <th>Nome</th>\n      <th></th>\n      <th></th>\n      <th></th>\n      <th></th>\n      <th></th>\n      <th></th>\n      <th></th>\n    </tr>\n  </thead>\n  <tbody>\n    <tr>\n      <th>Jetta Variant</th>\n      <td>Motor 4.0 Turbo</td>\n      <td>2003</td>\n      <td>44410.0</td>\n      <td>False</td>\n      <td>['Rodas de liga', 'Travas elétricas', 'Piloto ...</td>\n      <td>88078.64</td>\n      <td>2775.625000</td>\n    </tr>\n    <tr>\n      <th>Passat</th>\n      <td>Motor Diesel</td>\n      <td>1991</td>\n      <td>5712.0</td>\n      <td>False</td>\n      <td>['Central multimídia', 'Teto panorâmico', 'Fre...</td>\n      <td>106161.94</td>\n      <td>204.000000</td>\n    </tr>\n    <tr>\n      <th>Crossfox</th>\n      <td>Motor Diesel V8</td>\n      <td>1990</td>\n      <td>37123.0</td>\n      <td>False</td>\n      <td>['Piloto automático', 'Controle de estabilidad...</td>\n      <td>72832.16</td>\n      <td>1280.103448</td>\n    </tr>\n    <tr>\n      <th>DS5</th>\n      <td>Motor 2.4 Turbo</td>\n      <td>2019</td>\n      <td>0.0</td>\n      <td>True</td>\n      <td>['Travas elétricas', '4 X 4', 'Vidros elétrico...</td>\n      <td>124549.07</td>\n      <td>0.000000</td>\n    </tr>\n    <tr>\n      <th>Aston Martin DB4</th>\n      <td>Motor 2.4 Turbo</td>\n      <td>2006</td>\n      <td>25757.0</td>\n      <td>False</td>\n      <td>['Rodas de liga', '4 X 4', 'Central multimídia...</td>\n      <td>92612.10</td>\n      <td>1981.307692</td>\n    </tr>\n    <tr>\n      <th>...</th>\n      <td>...</td>\n      <td>...</td>\n      <td>...</td>\n      <td>...</td>\n      <td>...</td>\n      <td>...</td>\n      <td>...</td>\n    </tr>\n    <tr>\n      <th>Phantom 2013</th>\n      <td>Motor V8</td>\n      <td>2014</td>\n      <td>27505.0</td>\n      <td>False</td>\n      <td>['Controle de estabilidade', 'Piloto automátic...</td>\n      <td>51759.58</td>\n      <td>5501.000000</td>\n    </tr>\n    <tr>\n      <th>Cadillac Ciel concept</th>\n      <td>Motor V8</td>\n      <td>1991</td>\n      <td>29981.0</td>\n      <td>False</td>\n      <td>['Bancos de couro', 'Painel digital', 'Sensor ...</td>\n      <td>51667.06</td>\n      <td>1070.750000</td>\n    </tr>\n    <tr>\n      <th>Classe GLK</th>\n      <td>Motor 5.0 V8 Bi-Turbo</td>\n      <td>2002</td>\n      <td>52637.0</td>\n      <td>False</td>\n      <td>['Rodas de liga', 'Controle de tração', 'Câmbi...</td>\n      <td>68934.03</td>\n      <td>3096.294118</td>\n    </tr>\n    <tr>\n      <th>Aston Martin DB5</th>\n      <td>Motor Diesel</td>\n      <td>1996</td>\n      <td>7685.0</td>\n      <td>False</td>\n      <td>['Ar condicionado', '4 X 4', 'Câmbio automátic...</td>\n      <td>122110.90</td>\n      <td>334.130435</td>\n    </tr>\n    <tr>\n      <th>Macan</th>\n      <td>Motor Diesel V6</td>\n      <td>1992</td>\n      <td>50188.0</td>\n      <td>False</td>\n      <td>['Central multimídia', 'Teto panorâmico', 'Vid...</td>\n      <td>90381.47</td>\n      <td>1858.814815</td>\n    </tr>\n  </tbody>\n</table>\n<p>258 rows × 7 columns</p>\n</div>"
     },
     "execution_count": 277,
     "metadata": {},
     "output_type": "execute_result"
    }
   ],
   "source": [
    "data_frame.fillna(0)"
   ]
  },
  {
   "cell_type": "code",
   "execution_count": 278,
   "metadata": {
    "colab": {},
    "colab_type": "code",
    "id": "DhlRbxy2D1Bd",
    "scrolled": true
   },
   "outputs": [
    {
     "data": {
      "text/plain": "                                       Motor   Ano  Quilometragem  Zero_km  \\\nNome                                                                         \nJetta Variant                Motor 4.0 Turbo  2003        44410.0    False   \nPassat                          Motor Diesel  1991         5712.0    False   \nCrossfox                     Motor Diesel V8  1990        37123.0    False   \nDS5                          Motor 2.4 Turbo  2019            0.0     True   \nAston Martin DB4             Motor 2.4 Turbo  2006        25757.0    False   \n...                                      ...   ...            ...      ...   \nPhantom 2013                        Motor V8  2014        27505.0    False   \nCadillac Ciel concept               Motor V8  1991        29981.0    False   \nClasse GLK             Motor 5.0 V8 Bi-Turbo  2002        52637.0    False   \nAston Martin DB5                Motor Diesel  1996         7685.0    False   \nMacan                        Motor Diesel V6  1992        50188.0    False   \n\n                                                              Acessórios  \\\nNome                                                                       \nJetta Variant          ['Rodas de liga', 'Travas elétricas', 'Piloto ...   \nPassat                 ['Central multimídia', 'Teto panorâmico', 'Fre...   \nCrossfox               ['Piloto automático', 'Controle de estabilidad...   \nDS5                    ['Travas elétricas', '4 X 4', 'Vidros elétrico...   \nAston Martin DB4       ['Rodas de liga', '4 X 4', 'Central multimídia...   \n...                                                                  ...   \nPhantom 2013           ['Controle de estabilidade', 'Piloto automátic...   \nCadillac Ciel concept  ['Bancos de couro', 'Painel digital', 'Sensor ...   \nClasse GLK             ['Rodas de liga', 'Controle de tração', 'Câmbi...   \nAston Martin DB5       ['Ar condicionado', '4 X 4', 'Câmbio automátic...   \nMacan                  ['Central multimídia', 'Teto panorâmico', 'Vid...   \n\n                           Valor     Km_media  \nNome                                           \nJetta Variant           88078.64  2775.625000  \nPassat                 106161.94   204.000000  \nCrossfox                72832.16  1280.103448  \nDS5                    124549.07     0.000000  \nAston Martin DB4        92612.10  1981.307692  \n...                          ...          ...  \nPhantom 2013            51759.58  5501.000000  \nCadillac Ciel concept   51667.06  1070.750000  \nClasse GLK              68934.03  3096.294118  \nAston Martin DB5       122110.90   334.130435  \nMacan                   90381.47  1858.814815  \n\n[258 rows x 7 columns]",
      "text/html": "<div>\n<style scoped>\n    .dataframe tbody tr th:only-of-type {\n        vertical-align: middle;\n    }\n\n    .dataframe tbody tr th {\n        vertical-align: top;\n    }\n\n    .dataframe thead th {\n        text-align: right;\n    }\n</style>\n<table border=\"1\" class=\"dataframe\">\n  <thead>\n    <tr style=\"text-align: right;\">\n      <th></th>\n      <th>Motor</th>\n      <th>Ano</th>\n      <th>Quilometragem</th>\n      <th>Zero_km</th>\n      <th>Acessórios</th>\n      <th>Valor</th>\n      <th>Km_media</th>\n    </tr>\n    <tr>\n      <th>Nome</th>\n      <th></th>\n      <th></th>\n      <th></th>\n      <th></th>\n      <th></th>\n      <th></th>\n      <th></th>\n    </tr>\n  </thead>\n  <tbody>\n    <tr>\n      <th>Jetta Variant</th>\n      <td>Motor 4.0 Turbo</td>\n      <td>2003</td>\n      <td>44410.0</td>\n      <td>False</td>\n      <td>['Rodas de liga', 'Travas elétricas', 'Piloto ...</td>\n      <td>88078.64</td>\n      <td>2775.625000</td>\n    </tr>\n    <tr>\n      <th>Passat</th>\n      <td>Motor Diesel</td>\n      <td>1991</td>\n      <td>5712.0</td>\n      <td>False</td>\n      <td>['Central multimídia', 'Teto panorâmico', 'Fre...</td>\n      <td>106161.94</td>\n      <td>204.000000</td>\n    </tr>\n    <tr>\n      <th>Crossfox</th>\n      <td>Motor Diesel V8</td>\n      <td>1990</td>\n      <td>37123.0</td>\n      <td>False</td>\n      <td>['Piloto automático', 'Controle de estabilidad...</td>\n      <td>72832.16</td>\n      <td>1280.103448</td>\n    </tr>\n    <tr>\n      <th>DS5</th>\n      <td>Motor 2.4 Turbo</td>\n      <td>2019</td>\n      <td>0.0</td>\n      <td>True</td>\n      <td>['Travas elétricas', '4 X 4', 'Vidros elétrico...</td>\n      <td>124549.07</td>\n      <td>0.000000</td>\n    </tr>\n    <tr>\n      <th>Aston Martin DB4</th>\n      <td>Motor 2.4 Turbo</td>\n      <td>2006</td>\n      <td>25757.0</td>\n      <td>False</td>\n      <td>['Rodas de liga', '4 X 4', 'Central multimídia...</td>\n      <td>92612.10</td>\n      <td>1981.307692</td>\n    </tr>\n    <tr>\n      <th>...</th>\n      <td>...</td>\n      <td>...</td>\n      <td>...</td>\n      <td>...</td>\n      <td>...</td>\n      <td>...</td>\n      <td>...</td>\n    </tr>\n    <tr>\n      <th>Phantom 2013</th>\n      <td>Motor V8</td>\n      <td>2014</td>\n      <td>27505.0</td>\n      <td>False</td>\n      <td>['Controle de estabilidade', 'Piloto automátic...</td>\n      <td>51759.58</td>\n      <td>5501.000000</td>\n    </tr>\n    <tr>\n      <th>Cadillac Ciel concept</th>\n      <td>Motor V8</td>\n      <td>1991</td>\n      <td>29981.0</td>\n      <td>False</td>\n      <td>['Bancos de couro', 'Painel digital', 'Sensor ...</td>\n      <td>51667.06</td>\n      <td>1070.750000</td>\n    </tr>\n    <tr>\n      <th>Classe GLK</th>\n      <td>Motor 5.0 V8 Bi-Turbo</td>\n      <td>2002</td>\n      <td>52637.0</td>\n      <td>False</td>\n      <td>['Rodas de liga', 'Controle de tração', 'Câmbi...</td>\n      <td>68934.03</td>\n      <td>3096.294118</td>\n    </tr>\n    <tr>\n      <th>Aston Martin DB5</th>\n      <td>Motor Diesel</td>\n      <td>1996</td>\n      <td>7685.0</td>\n      <td>False</td>\n      <td>['Ar condicionado', '4 X 4', 'Câmbio automátic...</td>\n      <td>122110.90</td>\n      <td>334.130435</td>\n    </tr>\n    <tr>\n      <th>Macan</th>\n      <td>Motor Diesel V6</td>\n      <td>1992</td>\n      <td>50188.0</td>\n      <td>False</td>\n      <td>['Central multimídia', 'Teto panorâmico', 'Vid...</td>\n      <td>90381.47</td>\n      <td>1858.814815</td>\n    </tr>\n  </tbody>\n</table>\n<p>258 rows × 7 columns</p>\n</div>"
     },
     "execution_count": 278,
     "metadata": {},
     "output_type": "execute_result"
    }
   ],
   "source": [
    "data_frame.fillna(0, inplace=True)\n",
    "data_frame"
   ]
  },
  {
   "cell_type": "code",
   "execution_count": 279,
   "metadata": {
    "colab": {},
    "colab_type": "code",
    "id": "OL04QU5RD1Be"
   },
   "outputs": [
    {
     "data": {
      "text/plain": "                                Motor   Ano  Quilometragem  Zero_km  \\\nNome                                                                  \nDS5                   Motor 2.4 Turbo  2019            0.0     True   \nA5                    Motor 4.0 Turbo  2019            0.0     True   \nJ5                           Motor V6  2019            0.0     True   \nA3                       Motor 1.0 8v  2019            0.0     True   \nSérie 1 M                    Motor V8  2019            0.0     True   \n...                               ...   ...            ...      ...   \nLamborghini Reventón  Motor 4.0 Turbo  2019            0.0     True   \nBenni Mini                   Motor V8  2019            0.0     True   \nUno                   Motor Diesel V6  2019            0.0     True   \nSanta Fe                Motor 3.0 32v  2019            0.0     True   \nXC60                  Motor 4.0 Turbo  2019            0.0     True   \n\n                                                             Acessórios  \\\nNome                                                                      \nDS5                   ['Travas elétricas', '4 X 4', 'Vidros elétrico...   \nA5                    ['Câmbio automático', 'Câmera de estacionament...   \nJ5                    ['Sensor crepuscular', 'Painel digital', 'Roda...   \nA3                    ['4 X 4', 'Piloto automático', 'Central multim...   \nSérie 1 M             ['Controle de estabilidade', 'Central multimíd...   \n...                                                                 ...   \nLamborghini Reventón  ['Controle de tração', 'Ar condicionado', 'Cen...   \nBenni Mini            ['Sensor crepuscular', 'Câmbio automático', 'C...   \nUno                   ['Central multimídia', 'Sensor crepuscular', '...   \nSanta Fe              ['Travas elétricas', 'Ar condicionado', '4 X 4...   \nXC60                  ['Painel digital', 'Piloto automático', 'Centr...   \n\n                          Valor  Km_media  \nNome                                       \nDS5                   124549.07       0.0  \nA5                     56445.20       0.0  \nJ5                     53183.38       0.0  \nA3                     88552.39       0.0  \nSérie 1 M              94564.40       0.0  \n...                         ...       ...  \nLamborghini Reventón   67664.86       0.0  \nBenni Mini            126247.84       0.0  \nUno                   128852.21       0.0  \nSanta Fe              129415.33       0.0  \nXC60                   77675.79       0.0  \n\n[61 rows x 7 columns]",
      "text/html": "<div>\n<style scoped>\n    .dataframe tbody tr th:only-of-type {\n        vertical-align: middle;\n    }\n\n    .dataframe tbody tr th {\n        vertical-align: top;\n    }\n\n    .dataframe thead th {\n        text-align: right;\n    }\n</style>\n<table border=\"1\" class=\"dataframe\">\n  <thead>\n    <tr style=\"text-align: right;\">\n      <th></th>\n      <th>Motor</th>\n      <th>Ano</th>\n      <th>Quilometragem</th>\n      <th>Zero_km</th>\n      <th>Acessórios</th>\n      <th>Valor</th>\n      <th>Km_media</th>\n    </tr>\n    <tr>\n      <th>Nome</th>\n      <th></th>\n      <th></th>\n      <th></th>\n      <th></th>\n      <th></th>\n      <th></th>\n      <th></th>\n    </tr>\n  </thead>\n  <tbody>\n    <tr>\n      <th>DS5</th>\n      <td>Motor 2.4 Turbo</td>\n      <td>2019</td>\n      <td>0.0</td>\n      <td>True</td>\n      <td>['Travas elétricas', '4 X 4', 'Vidros elétrico...</td>\n      <td>124549.07</td>\n      <td>0.0</td>\n    </tr>\n    <tr>\n      <th>A5</th>\n      <td>Motor 4.0 Turbo</td>\n      <td>2019</td>\n      <td>0.0</td>\n      <td>True</td>\n      <td>['Câmbio automático', 'Câmera de estacionament...</td>\n      <td>56445.20</td>\n      <td>0.0</td>\n    </tr>\n    <tr>\n      <th>J5</th>\n      <td>Motor V6</td>\n      <td>2019</td>\n      <td>0.0</td>\n      <td>True</td>\n      <td>['Sensor crepuscular', 'Painel digital', 'Roda...</td>\n      <td>53183.38</td>\n      <td>0.0</td>\n    </tr>\n    <tr>\n      <th>A3</th>\n      <td>Motor 1.0 8v</td>\n      <td>2019</td>\n      <td>0.0</td>\n      <td>True</td>\n      <td>['4 X 4', 'Piloto automático', 'Central multim...</td>\n      <td>88552.39</td>\n      <td>0.0</td>\n    </tr>\n    <tr>\n      <th>Série 1 M</th>\n      <td>Motor V8</td>\n      <td>2019</td>\n      <td>0.0</td>\n      <td>True</td>\n      <td>['Controle de estabilidade', 'Central multimíd...</td>\n      <td>94564.40</td>\n      <td>0.0</td>\n    </tr>\n    <tr>\n      <th>...</th>\n      <td>...</td>\n      <td>...</td>\n      <td>...</td>\n      <td>...</td>\n      <td>...</td>\n      <td>...</td>\n      <td>...</td>\n    </tr>\n    <tr>\n      <th>Lamborghini Reventón</th>\n      <td>Motor 4.0 Turbo</td>\n      <td>2019</td>\n      <td>0.0</td>\n      <td>True</td>\n      <td>['Controle de tração', 'Ar condicionado', 'Cen...</td>\n      <td>67664.86</td>\n      <td>0.0</td>\n    </tr>\n    <tr>\n      <th>Benni Mini</th>\n      <td>Motor V8</td>\n      <td>2019</td>\n      <td>0.0</td>\n      <td>True</td>\n      <td>['Sensor crepuscular', 'Câmbio automático', 'C...</td>\n      <td>126247.84</td>\n      <td>0.0</td>\n    </tr>\n    <tr>\n      <th>Uno</th>\n      <td>Motor Diesel V6</td>\n      <td>2019</td>\n      <td>0.0</td>\n      <td>True</td>\n      <td>['Central multimídia', 'Sensor crepuscular', '...</td>\n      <td>128852.21</td>\n      <td>0.0</td>\n    </tr>\n    <tr>\n      <th>Santa Fe</th>\n      <td>Motor 3.0 32v</td>\n      <td>2019</td>\n      <td>0.0</td>\n      <td>True</td>\n      <td>['Travas elétricas', 'Ar condicionado', '4 X 4...</td>\n      <td>129415.33</td>\n      <td>0.0</td>\n    </tr>\n    <tr>\n      <th>XC60</th>\n      <td>Motor 4.0 Turbo</td>\n      <td>2019</td>\n      <td>0.0</td>\n      <td>True</td>\n      <td>['Painel digital', 'Piloto automático', 'Centr...</td>\n      <td>77675.79</td>\n      <td>0.0</td>\n    </tr>\n  </tbody>\n</table>\n<p>61 rows × 7 columns</p>\n</div>"
     },
     "execution_count": 279,
     "metadata": {},
     "output_type": "execute_result"
    }
   ],
   "source": [
    "data_frame.query('Zero_km == True')"
   ]
  },
  {
   "cell_type": "code",
   "execution_count": 280,
   "metadata": {
    "colab": {},
    "colab_type": "code",
    "id": "fTH2JkGDD1Bf",
    "scrolled": true
   },
   "outputs": [
    {
     "data": {
      "text/plain": "               Nome            Motor   Ano  Quilometragem  Zero_km  \\\n0     Jetta Variant  Motor 4.0 Turbo  2003        44410.0    False   \n1            Passat     Motor Diesel  1991         5712.0    False   \n2          Crossfox  Motor Diesel V8  1990        37123.0    False   \n3               DS5  Motor 2.4 Turbo  2019            NaN     True   \n4  Aston Martin DB4  Motor 2.4 Turbo  2006        25757.0    False   \n\n                                          Acessórios      Valor  \n0  ['Rodas de liga', 'Travas elétricas', 'Piloto ...   88078.64  \n1  ['Central multimídia', 'Teto panorâmico', 'Fre...  106161.94  \n2  ['Piloto automático', 'Controle de estabilidad...   72832.16  \n3  ['Travas elétricas', '4 X 4', 'Vidros elétrico...  124549.07  \n4  ['Rodas de liga', '4 X 4', 'Central multimídia...   92612.10  ",
      "text/html": "<div>\n<style scoped>\n    .dataframe tbody tr th:only-of-type {\n        vertical-align: middle;\n    }\n\n    .dataframe tbody tr th {\n        vertical-align: top;\n    }\n\n    .dataframe thead th {\n        text-align: right;\n    }\n</style>\n<table border=\"1\" class=\"dataframe\">\n  <thead>\n    <tr style=\"text-align: right;\">\n      <th></th>\n      <th>Nome</th>\n      <th>Motor</th>\n      <th>Ano</th>\n      <th>Quilometragem</th>\n      <th>Zero_km</th>\n      <th>Acessórios</th>\n      <th>Valor</th>\n    </tr>\n  </thead>\n  <tbody>\n    <tr>\n      <th>0</th>\n      <td>Jetta Variant</td>\n      <td>Motor 4.0 Turbo</td>\n      <td>2003</td>\n      <td>44410.0</td>\n      <td>False</td>\n      <td>['Rodas de liga', 'Travas elétricas', 'Piloto ...</td>\n      <td>88078.64</td>\n    </tr>\n    <tr>\n      <th>1</th>\n      <td>Passat</td>\n      <td>Motor Diesel</td>\n      <td>1991</td>\n      <td>5712.0</td>\n      <td>False</td>\n      <td>['Central multimídia', 'Teto panorâmico', 'Fre...</td>\n      <td>106161.94</td>\n    </tr>\n    <tr>\n      <th>2</th>\n      <td>Crossfox</td>\n      <td>Motor Diesel V8</td>\n      <td>1990</td>\n      <td>37123.0</td>\n      <td>False</td>\n      <td>['Piloto automático', 'Controle de estabilidad...</td>\n      <td>72832.16</td>\n    </tr>\n    <tr>\n      <th>3</th>\n      <td>DS5</td>\n      <td>Motor 2.4 Turbo</td>\n      <td>2019</td>\n      <td>NaN</td>\n      <td>True</td>\n      <td>['Travas elétricas', '4 X 4', 'Vidros elétrico...</td>\n      <td>124549.07</td>\n    </tr>\n    <tr>\n      <th>4</th>\n      <td>Aston Martin DB4</td>\n      <td>Motor 2.4 Turbo</td>\n      <td>2006</td>\n      <td>25757.0</td>\n      <td>False</td>\n      <td>['Rodas de liga', '4 X 4', 'Central multimídia...</td>\n      <td>92612.10</td>\n    </tr>\n  </tbody>\n</table>\n</div>"
     },
     "execution_count": 280,
     "metadata": {},
     "output_type": "execute_result"
    }
   ],
   "source": [
    "dataset = pd.read_csv('data/db.csv', sep=';')\n",
    "data_frame = pd.DataFrame(dataset)\n",
    "data_frame.head()"
   ]
  },
  {
   "cell_type": "code",
   "execution_count": 282,
   "metadata": {
    "colab": {},
    "colab_type": "code",
    "id": "lure2GvpD1Bg"
   },
   "outputs": [
    {
     "data": {
      "text/plain": "                      Nome                  Motor   Ano  Quilometragem  \\\n0            Jetta Variant        Motor 4.0 Turbo  2003        44410.0   \n1                   Passat           Motor Diesel  1991         5712.0   \n2                 Crossfox        Motor Diesel V8  1990        37123.0   \n4         Aston Martin DB4        Motor 2.4 Turbo  2006        25757.0   \n5            Palio Weekend          Motor 1.8 16v  2012        10728.0   \n..                     ...                    ...   ...            ...   \n253           Phantom 2013               Motor V8  2014        27505.0   \n254  Cadillac Ciel concept               Motor V8  1991        29981.0   \n255             Classe GLK  Motor 5.0 V8 Bi-Turbo  2002        52637.0   \n256       Aston Martin DB5           Motor Diesel  1996         7685.0   \n257                  Macan        Motor Diesel V6  1992        50188.0   \n\n     Zero_km                                         Acessórios      Valor  \n0      False  ['Rodas de liga', 'Travas elétricas', 'Piloto ...   88078.64  \n1      False  ['Central multimídia', 'Teto panorâmico', 'Fre...  106161.94  \n2      False  ['Piloto automático', 'Controle de estabilidad...   72832.16  \n4      False  ['Rodas de liga', '4 X 4', 'Central multimídia...   92612.10  \n5      False  ['Sensor de estacionamento', 'Teto panorâmico'...   97497.73  \n..       ...                                                ...        ...  \n253    False  ['Controle de estabilidade', 'Piloto automátic...   51759.58  \n254    False  ['Bancos de couro', 'Painel digital', 'Sensor ...   51667.06  \n255    False  ['Rodas de liga', 'Controle de tração', 'Câmbi...   68934.03  \n256    False  ['Ar condicionado', '4 X 4', 'Câmbio automátic...  122110.90  \n257    False  ['Central multimídia', 'Teto panorâmico', 'Vid...   90381.47  \n\n[197 rows x 7 columns]",
      "text/html": "<div>\n<style scoped>\n    .dataframe tbody tr th:only-of-type {\n        vertical-align: middle;\n    }\n\n    .dataframe tbody tr th {\n        vertical-align: top;\n    }\n\n    .dataframe thead th {\n        text-align: right;\n    }\n</style>\n<table border=\"1\" class=\"dataframe\">\n  <thead>\n    <tr style=\"text-align: right;\">\n      <th></th>\n      <th>Nome</th>\n      <th>Motor</th>\n      <th>Ano</th>\n      <th>Quilometragem</th>\n      <th>Zero_km</th>\n      <th>Acessórios</th>\n      <th>Valor</th>\n    </tr>\n  </thead>\n  <tbody>\n    <tr>\n      <th>0</th>\n      <td>Jetta Variant</td>\n      <td>Motor 4.0 Turbo</td>\n      <td>2003</td>\n      <td>44410.0</td>\n      <td>False</td>\n      <td>['Rodas de liga', 'Travas elétricas', 'Piloto ...</td>\n      <td>88078.64</td>\n    </tr>\n    <tr>\n      <th>1</th>\n      <td>Passat</td>\n      <td>Motor Diesel</td>\n      <td>1991</td>\n      <td>5712.0</td>\n      <td>False</td>\n      <td>['Central multimídia', 'Teto panorâmico', 'Fre...</td>\n      <td>106161.94</td>\n    </tr>\n    <tr>\n      <th>2</th>\n      <td>Crossfox</td>\n      <td>Motor Diesel V8</td>\n      <td>1990</td>\n      <td>37123.0</td>\n      <td>False</td>\n      <td>['Piloto automático', 'Controle de estabilidad...</td>\n      <td>72832.16</td>\n    </tr>\n    <tr>\n      <th>4</th>\n      <td>Aston Martin DB4</td>\n      <td>Motor 2.4 Turbo</td>\n      <td>2006</td>\n      <td>25757.0</td>\n      <td>False</td>\n      <td>['Rodas de liga', '4 X 4', 'Central multimídia...</td>\n      <td>92612.10</td>\n    </tr>\n    <tr>\n      <th>5</th>\n      <td>Palio Weekend</td>\n      <td>Motor 1.8 16v</td>\n      <td>2012</td>\n      <td>10728.0</td>\n      <td>False</td>\n      <td>['Sensor de estacionamento', 'Teto panorâmico'...</td>\n      <td>97497.73</td>\n    </tr>\n    <tr>\n      <th>...</th>\n      <td>...</td>\n      <td>...</td>\n      <td>...</td>\n      <td>...</td>\n      <td>...</td>\n      <td>...</td>\n      <td>...</td>\n    </tr>\n    <tr>\n      <th>253</th>\n      <td>Phantom 2013</td>\n      <td>Motor V8</td>\n      <td>2014</td>\n      <td>27505.0</td>\n      <td>False</td>\n      <td>['Controle de estabilidade', 'Piloto automátic...</td>\n      <td>51759.58</td>\n    </tr>\n    <tr>\n      <th>254</th>\n      <td>Cadillac Ciel concept</td>\n      <td>Motor V8</td>\n      <td>1991</td>\n      <td>29981.0</td>\n      <td>False</td>\n      <td>['Bancos de couro', 'Painel digital', 'Sensor ...</td>\n      <td>51667.06</td>\n    </tr>\n    <tr>\n      <th>255</th>\n      <td>Classe GLK</td>\n      <td>Motor 5.0 V8 Bi-Turbo</td>\n      <td>2002</td>\n      <td>52637.0</td>\n      <td>False</td>\n      <td>['Rodas de liga', 'Controle de tração', 'Câmbi...</td>\n      <td>68934.03</td>\n    </tr>\n    <tr>\n      <th>256</th>\n      <td>Aston Martin DB5</td>\n      <td>Motor Diesel</td>\n      <td>1996</td>\n      <td>7685.0</td>\n      <td>False</td>\n      <td>['Ar condicionado', '4 X 4', 'Câmbio automátic...</td>\n      <td>122110.90</td>\n    </tr>\n    <tr>\n      <th>257</th>\n      <td>Macan</td>\n      <td>Motor Diesel V6</td>\n      <td>1992</td>\n      <td>50188.0</td>\n      <td>False</td>\n      <td>['Central multimídia', 'Teto panorâmico', 'Vid...</td>\n      <td>90381.47</td>\n    </tr>\n  </tbody>\n</table>\n<p>197 rows × 7 columns</p>\n</div>"
     },
     "execution_count": 282,
     "metadata": {},
     "output_type": "execute_result"
    }
   ],
   "source": [
    "data_frame.dropna(subset = ['Quilometragem'], inplace=True)\n",
    "data_frame"
   ]
  },
  {
   "cell_type": "code",
   "execution_count": null,
   "metadata": {
    "colab": {},
    "colab_type": "code",
    "id": "4-ZvhXjvD1Bj"
   },
   "outputs": [],
   "source": []
  },
  {
   "cell_type": "code",
   "execution_count": null,
   "metadata": {
    "colab": {},
    "colab_type": "code",
    "id": "MQUw7i1OD1Bk",
    "scrolled": true
   },
   "outputs": [],
   "source": []
  },
  {
   "cell_type": "code",
   "execution_count": null,
   "metadata": {
    "colab": {},
    "colab_type": "code",
    "id": "U4Cse7miD1Bl"
   },
   "outputs": [],
   "source": []
  },
  {
   "cell_type": "code",
   "execution_count": null,
   "metadata": {
    "colab": {},
    "colab_type": "code",
    "id": "8L4wum05D1Bl",
    "scrolled": true
   },
   "outputs": [],
   "source": []
  },
  {
   "cell_type": "code",
   "execution_count": null,
   "metadata": {
    "colab": {},
    "colab_type": "code",
    "id": "8iLOc-U3D1Bm"
   },
   "outputs": [],
   "source": []
  }
 ],
 "metadata": {
  "colab": {
   "name": "Python para Data Science - Pandas.ipynb",
   "provenance": []
  },
  "kernelspec": {
   "display_name": "Python 3 (ipykernel)",
   "language": "python",
   "name": "python3"
  },
  "language_info": {
   "codemirror_mode": {
    "name": "ipython",
    "version": 3
   },
   "file_extension": ".py",
   "mimetype": "text/x-python",
   "name": "python",
   "nbconvert_exporter": "python",
   "pygments_lexer": "ipython3",
   "version": "3.10.9"
  }
 },
 "nbformat": 4,
 "nbformat_minor": 1
}